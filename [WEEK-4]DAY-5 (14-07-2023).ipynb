{
 "cells": [
  {
   "cell_type": "markdown",
   "id": "2b29d1eb",
   "metadata": {},
   "source": [
    "#### Data Preprocessing with Scikit learn"
   ]
  },
  {
   "cell_type": "markdown",
   "id": "0ef60439",
   "metadata": {},
   "source": [
    "#### Preprocessing Techniques\n",
    "\n",
    "* Data Preprocessing is a technique that is used to convert raw data into a clean dataset"
   ]
  },
  {
   "cell_type": "markdown",
   "id": "11e5bf5d",
   "metadata": {},
   "source": [
    "### Data preprocessing steps\n",
    "\n",
    "* Loading data (reading files)\n",
    "* Exploring data (Summarizing,statistics etc..)\n",
    "* Cleaning data (handling missing data)\n",
    "* Transforming data (Scaling ,feature engineering etc..)\n",
    "    * will learn data preprocessing technique with scikit-learn,one of the most popular frameworks used for DataScience\n",
    "    * The scikit-learn library include tools for data preprocessing and data mining.\n",
    "    * It is imported in python via statement import sklearn\n",
    "    * providesmachinelearningalgorithms: classification,regression,clustering,model validation etc\n",
    "    * scikitlearn built on Numpy,Scipy and Matplotlib  "
   ]
  },
  {
   "cell_type": "markdown",
   "id": "2007a4c7",
   "metadata": {},
   "source": [
    "### Data Imputation(used to deal with missing values)\n",
    "\n",
    "* Data imputation is a method for retaining the majority of dataset's set and information by substituting missing data with a different value.\n",
    "* If the dataset is missing too many values,we just don't use it.\n",
    "* if only a few of the values are missing,we can perform data imputation to substitute the missing data with some other values\n",
    "* There are many different methods for data imputation\n",
    "     * Using the mean value\n",
    "     * Using the median value\n",
    "     * Using the most frequent value(mode)\n",
    "     * Filling missing values with a constant"
   ]
  },
  {
   "cell_type": "markdown",
   "id": "53dd9e89",
   "metadata": {},
   "source": [
    "#### Data imputation"
   ]
  },
  {
   "cell_type": "code",
   "execution_count": 1,
   "id": "92858ab9",
   "metadata": {},
   "outputs": [],
   "source": [
    "from sklearn.impute import SimpleImputer"
   ]
  },
  {
   "cell_type": "code",
   "execution_count": 2,
   "id": "41fedbbc",
   "metadata": {},
   "outputs": [
    {
     "data": {
      "text/html": [
       "<div>\n",
       "<style scoped>\n",
       "    .dataframe tbody tr th:only-of-type {\n",
       "        vertical-align: middle;\n",
       "    }\n",
       "\n",
       "    .dataframe tbody tr th {\n",
       "        vertical-align: top;\n",
       "    }\n",
       "\n",
       "    .dataframe thead th {\n",
       "        text-align: right;\n",
       "    }\n",
       "</style>\n",
       "<table border=\"1\" class=\"dataframe\">\n",
       "  <thead>\n",
       "    <tr style=\"text-align: right;\">\n",
       "      <th></th>\n",
       "      <th>a</th>\n",
       "      <th>b</th>\n",
       "      <th>c</th>\n",
       "    </tr>\n",
       "  </thead>\n",
       "  <tbody>\n",
       "    <tr>\n",
       "      <th>1</th>\n",
       "      <td>10.0</td>\n",
       "      <td>454.0</td>\n",
       "      <td>13.0</td>\n",
       "    </tr>\n",
       "    <tr>\n",
       "      <th>2</th>\n",
       "      <td>89.0</td>\n",
       "      <td>NaN</td>\n",
       "      <td>45.0</td>\n",
       "    </tr>\n",
       "    <tr>\n",
       "      <th>3</th>\n",
       "      <td>76.0</td>\n",
       "      <td>34.0</td>\n",
       "      <td>35.0</td>\n",
       "    </tr>\n",
       "    <tr>\n",
       "      <th>4</th>\n",
       "      <td>NaN</td>\n",
       "      <td>23.0</td>\n",
       "      <td>35.0</td>\n",
       "    </tr>\n",
       "    <tr>\n",
       "      <th>5</th>\n",
       "      <td>56.0</td>\n",
       "      <td>98.0</td>\n",
       "      <td>NaN</td>\n",
       "    </tr>\n",
       "  </tbody>\n",
       "</table>\n",
       "</div>"
      ],
      "text/plain": [
       "      a      b     c\n",
       "1  10.0  454.0  13.0\n",
       "2  89.0    NaN  45.0\n",
       "3  76.0   34.0  35.0\n",
       "4   NaN   23.0  35.0\n",
       "5  56.0   98.0   NaN"
      ]
     },
     "execution_count": 2,
     "metadata": {},
     "output_type": "execute_result"
    }
   ],
   "source": [
    "import pandas as pd\n",
    "import numpy as np\n",
    "di={\n",
    "    \"a\":pd.Series([10,89,76,np.nan,56],index=[1,2,3,4,5]),\n",
    "    \"b\":pd.Series([454,34,23,98],index=[1,3,4,5]),\n",
    "    \"c\":pd.Series([13,45,35,35],index=[1,2,3,4])\n",
    "}\n",
    "df=pd.DataFrame(di)\n",
    "df"
   ]
  },
  {
   "cell_type": "markdown",
   "id": "17d8894b",
   "metadata": {},
   "source": [
    "* fit_transform() from sklearn,preprocessing class is used to preprocessing data for model training\n",
    "* fit() method calculates various required parameters and\n",
    "* transform() method applies the calculated parameters to standardize the data\n",
    "* the fit_transform() is used to fit the data into a model and transform it into a form that is more suitable for model in a single step.This saves our time and effort for calling both fill() and transform() separately"
   ]
  },
  {
   "cell_type": "code",
   "execution_count": 3,
   "id": "8f6e8ff4",
   "metadata": {},
   "outputs": [
    {
     "data": {
      "text/plain": [
       "array([[ 10., 454.,  13.],\n",
       "       [ 89.,  66.,  45.],\n",
       "       [ 76.,  34.,  35.],\n",
       "       [ 66.,  23.,  35.],\n",
       "       [ 56.,  98.,  35.]])"
      ]
     },
     "execution_count": 3,
     "metadata": {},
     "output_type": "execute_result"
    }
   ],
   "source": [
    "si=SimpleImputer(strategy=\"median\")\n",
    "si.fit_transform(df)"
   ]
  },
  {
   "cell_type": "code",
   "execution_count": 4,
   "id": "a0bb56de",
   "metadata": {},
   "outputs": [
    {
     "data": {
      "text/plain": [
       "a    66.0\n",
       "b    66.0\n",
       "c    35.0\n",
       "dtype: float64"
      ]
     },
     "execution_count": 4,
     "metadata": {},
     "output_type": "execute_result"
    }
   ],
   "source": [
    "df.median()"
   ]
  },
  {
   "cell_type": "code",
   "execution_count": 5,
   "id": "fba85671",
   "metadata": {},
   "outputs": [
    {
     "data": {
      "text/plain": [
       "array([[ 10.  , 454.  ,  13.  ],\n",
       "       [ 89.  , 152.25,  45.  ],\n",
       "       [ 76.  ,  34.  ,  35.  ],\n",
       "       [ 57.75,  23.  ,  35.  ],\n",
       "       [ 56.  ,  98.  ,  32.  ]])"
      ]
     },
     "execution_count": 5,
     "metadata": {},
     "output_type": "execute_result"
    }
   ],
   "source": [
    "si=SimpleImputer(strategy=\"mean\")\n",
    "si.fit_transform(df)"
   ]
  },
  {
   "cell_type": "code",
   "execution_count": 6,
   "id": "952be8b7",
   "metadata": {},
   "outputs": [
    {
     "data": {
      "text/plain": [
       "a     57.75\n",
       "b    152.25\n",
       "c     32.00\n",
       "dtype: float64"
      ]
     },
     "execution_count": 6,
     "metadata": {},
     "output_type": "execute_result"
    }
   ],
   "source": [
    "df.mean()"
   ]
  },
  {
   "cell_type": "code",
   "execution_count": 7,
   "id": "c9b2ffc9",
   "metadata": {},
   "outputs": [
    {
     "data": {
      "text/plain": [
       "array([[ 10., 454.,  13.],\n",
       "       [ 89.,  23.,  45.],\n",
       "       [ 76.,  34.,  35.],\n",
       "       [ 10.,  23.,  35.],\n",
       "       [ 56.,  98.,  35.]])"
      ]
     },
     "execution_count": 7,
     "metadata": {},
     "output_type": "execute_result"
    }
   ],
   "source": [
    "si=SimpleImputer(strategy=\"most_frequent\")\n",
    "si.fit_transform(df)"
   ]
  },
  {
   "cell_type": "code",
   "execution_count": 8,
   "id": "d145563e",
   "metadata": {},
   "outputs": [
    {
     "data": {
      "text/plain": [
       "array([[ 10., 454.,  13.],\n",
       "       [ 89.,  -1.,  45.],\n",
       "       [ 76.,  34.,  35.],\n",
       "       [ -1.,  23.,  35.],\n",
       "       [ 56.,  98.,  -1.]])"
      ]
     },
     "execution_count": 8,
     "metadata": {},
     "output_type": "execute_result"
    }
   ],
   "source": [
    "si=SimpleImputer(strategy=\"constant\",fill_value=-1)\n",
    "si.fit_transform(df)"
   ]
  },
  {
   "cell_type": "markdown",
   "id": "16f4db9c",
   "metadata": {},
   "source": [
    "### Task\n",
    "* Load titanic dataset\n",
    "* clean data by using simpleimputer"
   ]
  },
  {
   "cell_type": "code",
   "execution_count": null,
   "id": "a718264f",
   "metadata": {},
   "outputs": [],
   "source": [
    "[10kg ,1000 tones , 70 gms, 800 gms] --- weights\n",
    "\n",
    "10+100+70+800 --->in correct\n",
    "\n",
    "* Inorder to do sum of weights we have to convert all units into same unit or unique format,\n",
    "this is nothing but scaling"
   ]
  },
  {
   "cell_type": "markdown",
   "id": "a94459e0",
   "metadata": {},
   "source": [
    "### Feature scaling\n",
    "\n",
    "* Feature scaling is a data preprocessing technique that invloves transforming the values of feature or variablesin a dataset into a similar scale.\n",
    "* Feature scaling is the process of normalizing the range of features in a dataset\n",
    "* real world data often contain features that are varying in degrees of magnitude,range and units\n",
    "* Therefore inorder for machine learning models to interpret these feartures on the same scale,we need to perform feature scaling"
   ]
  },
  {
   "cell_type": "markdown",
   "id": "06fc22bc",
   "metadata": {},
   "source": [
    "### Scaling techniques\n",
    "* used to convert raw data into meaningful data\n",
    "\n",
    "* 1.Standardizing Data\n",
    "* 2.Data Range\n",
    "* 3.Normalizing Data\n",
    "* 4.Robust scaling"
   ]
  },
  {
   "cell_type": "markdown",
   "id": "09cf7f48",
   "metadata": {},
   "source": [
    "### 1. Standardizing data(column wise or label wise or feature wise)\n",
    "* standard format refers to data that has 0 mean and unit variance(i.e standard deviation=1),and the process of converting  data into this format is called data standardization"
   ]
  },
  {
   "cell_type": "code",
   "execution_count": null,
   "id": "9a6c4985",
   "metadata": {},
   "outputs": [],
   "source": []
  }
 ],
 "metadata": {
  "kernelspec": {
   "display_name": "Python 3 (ipykernel)",
   "language": "python",
   "name": "python3"
  },
  "language_info": {
   "codemirror_mode": {
    "name": "ipython",
    "version": 3
   },
   "file_extension": ".py",
   "mimetype": "text/x-python",
   "name": "python",
   "nbconvert_exporter": "python",
   "pygments_lexer": "ipython3",
   "version": "3.9.12"
  }
 },
 "nbformat": 4,
 "nbformat_minor": 5
}
