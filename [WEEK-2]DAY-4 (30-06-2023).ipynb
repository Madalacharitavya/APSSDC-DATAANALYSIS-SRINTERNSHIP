{
 "cells": [
  {
   "cell_type": "markdown",
   "id": "8ff243df",
   "metadata": {},
   "source": [
    "### Comprehension:\n",
    "- By using Comprehension in python to create a new sequences such as list,dictionary,set.\n",
    "- we can reduce the lines of code\n",
    "#### Three types of comprehension:\n",
    "- 1. List comprehension\n",
    "- 2. Dictionary comprehension\n",
    "- 3. Set comprehension"
   ]
  },
  {
   "cell_type": "markdown",
   "id": "87a62766",
   "metadata": {},
   "source": [
    "- List comprehension:\n",
    "         - To create the new list from another iterables.\n",
    "    - syntax:\n",
    "    variable_name = [out_put variablename forloop if(condition)]"
   ]
  },
  {
   "cell_type": "code",
   "execution_count": 1,
   "id": "edb2bba2",
   "metadata": {},
   "outputs": [
    {
     "name": "stdout",
     "output_type": "stream",
     "text": [
      "1 2 3 4 5 6 7 8 9 10 "
     ]
    }
   ],
   "source": [
    "# To print the 1 to 10 natural numbers with out using Lc?\n",
    "for i in range(1,11):\n",
    "    print(i,end=\" \")"
   ]
  },
  {
   "cell_type": "code",
   "execution_count": 2,
   "id": "e15199ff",
   "metadata": {},
   "outputs": [
    {
     "name": "stdout",
     "output_type": "stream",
     "text": [
      "[1, 2, 3, 4, 5, 6, 7, 8, 9, 10]\n"
     ]
    }
   ],
   "source": [
    "# To print the 1 to 10 natural numbers using LC?\n",
    "n = [i for i in range(1,11)]\n",
    "print(n)"
   ]
  },
  {
   "cell_type": "code",
   "execution_count": 3,
   "id": "20251a20",
   "metadata": {},
   "outputs": [
    {
     "name": "stdout",
     "output_type": "stream",
     "text": [
      "[2, 4, 6, 8, 10, 12, 14, 16, 18, 20, 22, 24, 26, 28, 30, 32, 34, 36, 38, 40, 42, 44, 46, 48, 50]\n"
     ]
    }
   ],
   "source": [
    "# To store the 1 to 50 even values into a list with out using LC?\n",
    "L1 = []\n",
    "for i in range(1,51):\n",
    "    if i%2 == 0:\n",
    "        L1.append(i)\n",
    "print(L1)"
   ]
  },
  {
   "cell_type": "code",
   "execution_count": 4,
   "id": "9f9aaecd",
   "metadata": {},
   "outputs": [
    {
     "name": "stdout",
     "output_type": "stream",
     "text": [
      "[2, 4, 6, 8, 10, 12, 14, 16, 18, 20, 22, 24, 26, 28, 30, 32, 34, 36, 38, 40, 42, 44, 46, 48, 50]\n"
     ]
    }
   ],
   "source": [
    "print([i for i in range(2,51,2)])"
   ]
  },
  {
   "cell_type": "code",
   "execution_count": 6,
   "id": "b89af1de",
   "metadata": {},
   "outputs": [
    {
     "name": "stdout",
     "output_type": "stream",
     "text": [
      "[2, 4, 6, 8, 10, 12, 14, 16, 18, 20, 22, 24, 26, 28, 30, 32, 34, 36, 38, 40, 42, 44, 46, 48, 50]\n"
     ]
    }
   ],
   "source": [
    "print([i for i in range(1,51) if(i%2 == 0)])\n",
    "# step-1 -> forloop\n",
    "# step-2 -> take any value from the forloop and then check the condition.\n",
    "# step-3 -> print(output value)"
   ]
  },
  {
   "cell_type": "code",
   "execution_count": 2,
   "id": "68ae3da2",
   "metadata": {},
   "outputs": [
    {
     "name": "stdout",
     "output_type": "stream",
     "text": [
      "['Apssdc', 'Python', 'Clanguage', 'Java']\n"
     ]
    }
   ],
   "source": [
    "L1 = ['apssdc','python','clanguage','java']\n",
    "# output: ['Apssdc','Python','Clanguage','Java']\n",
    "# using List comprehension...\n",
    "L2 = [i.capitalize() for i in L1]\n",
    "print(L2)"
   ]
  },
  {
   "cell_type": "code",
   "execution_count": 5,
   "id": "74c29e20",
   "metadata": {},
   "outputs": [
    {
     "name": "stdout",
     "output_type": "stream",
     "text": [
      "[10, 20, 30, 40]\n"
     ]
    }
   ],
   "source": [
    "L1=[10,20,30,10,20,30,10,40,20]\n",
    "# To print the unique elements list using Lc?\n",
    "# output: [10,20,30,40]\n",
    "L3=[]\n",
    "L2 =[L3.append(i) for i in L1 if add(i)]\n",
    "print(L3)\n",
    "#print(L2)"
   ]
  },
  {
   "cell_type": "code",
   "execution_count": 10,
   "id": "41de694a",
   "metadata": {},
   "outputs": [
    {
     "name": "stdout",
     "output_type": "stream",
     "text": [
      "[2, 3, 5, 7, 11, 13, 17, 19, 23, 29, 31, 37, 41, 43, 47, 53, 59, 61, 67, 71, 73, 79, 83, 89, 97]\n"
     ]
    }
   ],
   "source": [
    "# To print the 1 to 100 prime numbers using LC?\n",
    "def isprimr(n):\n",
    "    count = 0\n",
    "    for i in range(1,n+1):\n",
    "        if n%i == 0:\n",
    "            count = count+1\n",
    "        if count == 2:\n",
    "            return n\n",
    "l1 = [i for i in range(1,101) if ]"
   ]
  },
  {
   "cell_type": "code",
   "execution_count": null,
   "id": "8fd65d9b",
   "metadata": {},
   "outputs": [],
   "source": [
    "value = int(input())\n",
    "print"
   ]
  },
  {
   "cell_type": "markdown",
   "id": "a9e69f6e",
   "metadata": {},
   "source": [
    "### Dictionary Comprehension:\n",
    "- TO crete the new dictionary with another iterables..\n",
    "- syntax:\n",
    "    variable_name = {print(keyname:value) forloop if condition}"
   ]
  },
  {
   "cell_type": "code",
   "execution_count": 1,
   "id": "3b5630e8",
   "metadata": {},
   "outputs": [
    {
     "name": "stdout",
     "output_type": "stream",
     "text": [
      "{1: 1, 2: 4, 3: 9, 4: 16, 5: 25, 6: 36, 7: 49, 8: 64, 9: 81, 10: 100}\n"
     ]
    }
   ],
   "source": [
    "# To print the each element square in between 1 to 10?\n",
    "# output: {1:1,2:4,3:9...10:100}\n",
    "d1 = {}\n",
    "for i in range(1,11):\n",
    "    d1[i]=i*i\n",
    "print(d1)"
   ]
  },
  {
   "cell_type": "code",
   "execution_count": 6,
   "id": "8ff3a5db",
   "metadata": {},
   "outputs": [
    {
     "data": {
      "text/plain": [
       "{1: 1, 2: 4, 3: 9, 4: 16, 5: 25, 6: 36, 7: 49, 8: 64, 9: 81, 10: 100}"
      ]
     },
     "execution_count": 6,
     "metadata": {},
     "output_type": "execute_result"
    }
   ],
   "source": [
    "# uisng dictionary comprehension?\n",
    "d2 = {i:i*i for i in range(1,11)}\n",
    "d2"
   ]
  },
  {
   "cell_type": "code",
   "execution_count": 8,
   "id": "030d9ab9",
   "metadata": {},
   "outputs": [
    {
     "name": "stdout",
     "output_type": "stream",
     "text": [
      "{'d': 1, 'a': 5, 't': 2, ' ': 4, 'n': 4, 'l': 1, 'y': 2, 's': 3, 'i': 3, 'u': 1, 'g': 3, 'p': 2, 'h': 1, 'o': 2, 'r': 2, 'm': 2}\n"
     ]
    }
   ],
   "source": [
    "s1 = 'data analysis using python programming'\n",
    "# To print the character frequency with using dictionary comprehension\n",
    "# output: {'d':1,'a':5....}\n",
    "d = {i:s1.count(i) for i in s1}\n",
    "print(d)"
   ]
  },
  {
   "cell_type": "code",
   "execution_count": 17,
   "id": "5378b390",
   "metadata": {},
   "outputs": [
    {
     "name": "stdout",
     "output_type": "stream",
     "text": [
      "dat nlysiugphorm\n",
      "{'d': 1, 'a': 1, 't': 1, ' ': 1, 'n': 1, 'l': 1, 'y': 1, 's': 1, 'i': 1, 'u': 1, 'g': 1, 'p': 1, 'h': 1, 'o': 1, 'r': 1, 'm': 1}\n"
     ]
    }
   ],
   "source": [
    "# To get the unique characters\n",
    "s1 = 'data analysis using python programming'\n",
    "s2 = \"\"\n",
    "for i in s1:\n",
    "    if i not in s2:\n",
    "        s2 = s2+i\n",
    "print(s2)\n",
    "d2 = {i:s2.count(i) for i in s2}\n",
    "print(d2)"
   ]
  },
  {
   "cell_type": "markdown",
   "id": "312f5eab",
   "metadata": {},
   "source": [
    "### set comprehension:\n",
    "- To create the new set from the another iterables..\n",
    "- syntax:\n",
    "variable_name = {output forloop if(condition)}"
   ]
  },
  {
   "cell_type": "code",
   "execution_count": 18,
   "id": "b612548d",
   "metadata": {},
   "outputs": [
    {
     "name": "stdout",
     "output_type": "stream",
     "text": [
      " pythonrgami\n"
     ]
    }
   ],
   "source": [
    "s1 = \"python programming\"\n",
    "s2 = \" \"\n",
    "for i in s1:\n",
    "    if i not in s2:\n",
    "        s2 = s2+i\n",
    "print(s2)"
   ]
  },
  {
   "cell_type": "code",
   "execution_count": 19,
   "id": "13569191",
   "metadata": {},
   "outputs": [
    {
     "data": {
      "text/plain": [
       "{' ', 'a', 'g', 'h', 'i', 'm', 'n', 'o', 'p', 'r', 't', 'y'}"
      ]
     },
     "execution_count": 19,
     "metadata": {},
     "output_type": "execute_result"
    }
   ],
   "source": [
    "# using set comprehension\n",
    "set1 ={i for i in s1}\n",
    "set1"
   ]
  },
  {
   "cell_type": "code",
   "execution_count": 20,
   "id": "f439d30c",
   "metadata": {},
   "outputs": [
    {
     "data": {
      "text/plain": [
       "{10, 20, 30, 40}"
      ]
     },
     "execution_count": 20,
     "metadata": {},
     "output_type": "execute_result"
    }
   ],
   "source": [
    "L1=[10,20,30,10,20,40]\n",
    "# unique elements\n",
    "set2 ={i for i in L1}\n",
    "set2"
   ]
  },
  {
   "cell_type": "code",
   "execution_count": null,
   "id": "37ab1dc2",
   "metadata": {},
   "outputs": [],
   "source": [
    "Given the names and grades for each student in a class of N students, store them in a nested list and print the name(s) of any student(s) having the second lowest grade.\n",
    "\n",
    "Note: If there are multiple students with the second lowest grade, order their names alphabetically and print each name on a new line.\n",
    "\n",
    "Example\n",
    "\n",
    "recore=[['chi',20.0],['beta',50.0],['alpha',50.0]]\n",
    "\n",
    "The ordered list of scores is [20.0,50.0], so the second lowest score is 50.0. There are two students with that score:['beta','alpha'] . Ordered alphabetically, the names are printed as:\n",
    "\n",
    "alpha\n",
    "\n",
    "beta     this the question mam\n",
    "\n",
    "Chaitanya AP21110010649  to  You (Direct Message) 11:56\n",
    "no mam\n",
    "\n",
    "AP21110011077 | Venkatesh Jasthi |SRM-AP  to  You (Direct Message) 11:56\n",
    "k=[]\n",
    "    for l in range(int(input())):\n",
    "        name = input()\n",
    "        score = float(input())\n",
    "        l=[name,score]\n",
    "        k.append(l)\n",
    "    s=[i[1] for i in k]\n",
    "    na=[i[0] for i in k]\n",
    "    sc=s\n",
    "    sc=list(set(sc))\n",
    "    sc=sorted(sc)\n",
    "    smin=sc[1]\n",
    "    list(set())\n",
    "    m=[i for i in range(len(s)) if smin==s[i] ]\n",
    "    n=[]\n",
    "    for i in m:\n",
    "        n.append(na[i])\n",
    "    print(*sorted(n),sep=\"\\n\")"
   ]
  },
  {
   "cell_type": "code",
   "execution_count": 1,
   "id": "c2707134",
   "metadata": {},
   "outputs": [],
   "source": [
    "k=[]"
   ]
  },
  {
   "cell_type": "code",
   "execution_count": null,
   "id": "268544aa",
   "metadata": {},
   "outputs": [],
   "source": [
    "k=[]\n",
    "for l in range(int(input())):\n",
    "        name = input()\n",
    "        score = float(input())\n",
    "        l=[name,score]\n",
    "        k.append(l)\n",
    "    s=[i[1] for i in k]\n",
    "    na=[i[0] for i in k]\n",
    "    sc=s\n",
    "    sc=list(set(sc))\n",
    "    sc=sorted(sc)\n",
    "    smin=sc[1]\n",
    "    list(set())\n",
    "    m=[i for i in range(len(s)) if smin==s[i] ]\n",
    "    n=[]\n",
    "    for i in m:\n",
    "        n.append(na[i])\n",
    "    print(*sorted(n),sep=\"\\n\")"
   ]
  }
 ],
 "metadata": {
  "kernelspec": {
   "display_name": "Python 3 (ipykernel)",
   "language": "python",
   "name": "python3"
  },
  "language_info": {
   "codemirror_mode": {
    "name": "ipython",
    "version": 3
   },
   "file_extension": ".py",
   "mimetype": "text/x-python",
   "name": "python",
   "nbconvert_exporter": "python",
   "pygments_lexer": "ipython3",
   "version": "3.9.12"
  }
 },
 "nbformat": 4,
 "nbformat_minor": 5
}
