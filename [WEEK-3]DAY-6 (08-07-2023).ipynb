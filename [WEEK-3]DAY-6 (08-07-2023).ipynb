{
 "cells": [
  {
   "cell_type": "code",
   "execution_count": 36,
   "id": "b1c5acac",
   "metadata": {},
   "outputs": [],
   "source": [
    "import pandas as pd"
   ]
  },
  {
   "cell_type": "code",
   "execution_count": 37,
   "id": "6668613b",
   "metadata": {},
   "outputs": [
    {
     "name": "stdout",
     "output_type": "stream",
     "text": [
      "0        10\n",
      "1    apssdc\n",
      "2     45.67\n",
      "3        30\n",
      "4        60\n",
      "dtype: object\n"
     ]
    }
   ],
   "source": [
    "sd1 = pd.Series([10,'apssdc',45.67,30,60])\n",
    "print(sd1)"
   ]
  },
  {
   "cell_type": "markdown",
   "id": "c9020df1",
   "metadata": {},
   "source": [
    "### Update the Series value.."
   ]
  },
  {
   "cell_type": "code",
   "execution_count": 38,
   "id": "934776b8",
   "metadata": {},
   "outputs": [
    {
     "data": {
      "text/plain": [
       "0        10\n",
       "1    apssdc\n",
       "2     45.67\n",
       "3       100\n",
       "4        60\n",
       "dtype: object"
      ]
     },
     "execution_count": 38,
     "metadata": {},
     "output_type": "execute_result"
    }
   ],
   "source": [
    "sd1[3]=100\n",
    "sd1"
   ]
  },
  {
   "cell_type": "markdown",
   "id": "37e2f0f0",
   "metadata": {},
   "source": [
    "- Replace():\n",
    "        - Using replace() method we can update the series value.\n",
    "        - syntax: sd.replace(to_replace=old_value,value=new_value)"
   ]
  },
  {
   "cell_type": "code",
   "execution_count": 39,
   "id": "52d23d58",
   "metadata": {},
   "outputs": [
    {
     "data": {
      "text/plain": [
       "0        10\n",
       "1    apssdc\n",
       "2     45.67\n",
       "3       100\n",
       "4        60\n",
       "dtype: object"
      ]
     },
     "execution_count": 39,
     "metadata": {},
     "output_type": "execute_result"
    }
   ],
   "source": [
    "sd1"
   ]
  },
  {
   "cell_type": "code",
   "execution_count": 40,
   "id": "5f3d819d",
   "metadata": {},
   "outputs": [
    {
     "data": {
      "text/plain": [
       "0        10\n",
       "1    python\n",
       "2     45.67\n",
       "3       100\n",
       "4        60\n",
       "dtype: object"
      ]
     },
     "execution_count": 40,
     "metadata": {},
     "output_type": "execute_result"
    }
   ],
   "source": [
    "sd1 = sd1.replace(to_replace='apssdc',value='python')\n",
    "sd1"
   ]
  },
  {
   "cell_type": "code",
   "execution_count": 41,
   "id": "fce70146",
   "metadata": {},
   "outputs": [
    {
     "name": "stdout",
     "output_type": "stream",
     "text": [
      "0        10\n",
      "1    python\n",
      "2       100\n",
      "3       100\n",
      "4        60\n",
      "dtype: object\n"
     ]
    }
   ],
   "source": [
    "sd1=sd1.replace(45.67,100)\n",
    "print(sd1)"
   ]
  },
  {
   "cell_type": "code",
   "execution_count": 42,
   "id": "2aa6112b",
   "metadata": {},
   "outputs": [],
   "source": [
    "sd1 = sd1.replace(100,'data analysis')"
   ]
  },
  {
   "cell_type": "code",
   "execution_count": 43,
   "id": "bb2e83ea",
   "metadata": {},
   "outputs": [
    {
     "data": {
      "text/plain": [
       "0               10\n",
       "1           python\n",
       "2    data analysis\n",
       "3    data analysis\n",
       "4               60\n",
       "dtype: object"
      ]
     },
     "execution_count": 43,
     "metadata": {},
     "output_type": "execute_result"
    }
   ],
   "source": [
    "sd1"
   ]
  },
  {
   "cell_type": "code",
   "execution_count": 44,
   "id": "c0b40745",
   "metadata": {},
   "outputs": [
    {
     "data": {
      "text/plain": [
       "0       100\n",
       "1    python\n",
       "2      java\n",
       "3      java\n",
       "4       600\n",
       "dtype: object"
      ]
     },
     "execution_count": 44,
     "metadata": {},
     "output_type": "execute_result"
    }
   ],
   "source": [
    "# To update the multiple data from a series\n",
    "sd1 = sd1.replace(to_replace=[10,'data analysis',60],value=[100,'java',600])\n",
    "sd1"
   ]
  },
  {
   "cell_type": "markdown",
   "id": "06a5a8cc",
   "metadata": {},
   "source": [
    "### Delete the data in series"
   ]
  },
  {
   "cell_type": "code",
   "execution_count": 45,
   "id": "0c2c36a8",
   "metadata": {},
   "outputs": [
    {
     "data": {
      "text/plain": [
       "0       100\n",
       "1    python\n",
       "2      java\n",
       "3      java\n",
       "4       600\n",
       "dtype: object"
      ]
     },
     "execution_count": 45,
     "metadata": {},
     "output_type": "execute_result"
    }
   ],
   "source": [
    "sd1"
   ]
  },
  {
   "cell_type": "code",
   "execution_count": 46,
   "id": "96d369a9",
   "metadata": {},
   "outputs": [
    {
     "data": {
      "text/plain": [
       "0       100\n",
       "1    python\n",
       "3      java\n",
       "4       600\n",
       "dtype: object"
      ]
     },
     "execution_count": 46,
     "metadata": {},
     "output_type": "execute_result"
    }
   ],
   "source": [
    "# TO delete the series data..\n",
    "sd1.drop(labels=2,inplace=True)\n",
    "sd1"
   ]
  },
  {
   "cell_type": "code",
   "execution_count": 47,
   "id": "4a1c2e1d",
   "metadata": {},
   "outputs": [
    {
     "data": {
      "text/plain": [
       "1    python\n",
       "3      java\n",
       "dtype: object"
      ]
     },
     "execution_count": 47,
     "metadata": {},
     "output_type": "execute_result"
    }
   ],
   "source": [
    "sd1.drop(labels=[0,4],inplace=True)\n",
    "sd1"
   ]
  },
  {
   "cell_type": "code",
   "execution_count": 48,
   "id": "cda34b5e",
   "metadata": {},
   "outputs": [
    {
     "data": {
      "text/plain": [
       "3    java\n",
       "dtype: object"
      ]
     },
     "execution_count": 48,
     "metadata": {},
     "output_type": "execute_result"
    }
   ],
   "source": [
    "sd1.drop(labels=1,inplace=True)\n",
    "sd1"
   ]
  },
  {
   "cell_type": "markdown",
   "id": "86daa146",
   "metadata": {},
   "source": [
    "- Task1: To create the series having index values starts from 10 to 20 values are squares of index values?"
   ]
  },
  {
   "cell_type": "code",
   "execution_count": 49,
   "id": "8b49aa6b",
   "metadata": {},
   "outputs": [
    {
     "name": "stdout",
     "output_type": "stream",
     "text": [
      "10    100\n",
      "11    121\n",
      "12    144\n",
      "13    169\n",
      "14    196\n",
      "15    225\n",
      "16    256\n",
      "17    289\n",
      "18    324\n",
      "19    361\n",
      "dtype: int32\n"
     ]
    }
   ],
   "source": [
    "import numpy as np\n",
    "data=np.array([i**2 for i in range(10,20)])\n",
    "ser=pd.Series(data,index=[i for i in range(10,20)])\n",
    "print(ser)"
   ]
  },
  {
   "cell_type": "code",
   "execution_count": 50,
   "id": "f7d1b4c0",
   "metadata": {},
   "outputs": [
    {
     "name": "stdout",
     "output_type": "stream",
     "text": [
      "10    100\n",
      "11    121\n",
      "12    144\n",
      "13    169\n",
      "14    196\n",
      "15    225\n",
      "16    256\n",
      "17    289\n",
      "18    324\n",
      "19    361\n",
      "20    400\n",
      "dtype: int64\n"
     ]
    }
   ],
   "source": [
    "# Create Series having index values start from 10 to 20 and values are squares of index values \n",
    "index_values = range(10, 21)  \n",
    "values = [i**2 for i in index_values] \n",
    "series = pd.Series(values, index=index_values)\n",
    "print(series)"
   ]
  },
  {
   "cell_type": "code",
   "execution_count": 51,
   "id": "3c433a0a",
   "metadata": {},
   "outputs": [
    {
     "data": {
      "text/plain": [
       "10    100\n",
       "11    121\n",
       "12    144\n",
       "13    169\n",
       "14    196\n",
       "15    225\n",
       "16    256\n",
       "17    289\n",
       "18    324\n",
       "19    361\n",
       "20    400\n",
       "dtype: int64"
      ]
     },
     "execution_count": 51,
     "metadata": {},
     "output_type": "execute_result"
    }
   ],
   "source": [
    "series"
   ]
  },
  {
   "cell_type": "code",
   "execution_count": 52,
   "id": "400313db",
   "metadata": {},
   "outputs": [
    {
     "data": {
      "text/plain": [
       "13    169\n",
       "18    324\n",
       "15    225\n",
       "dtype: int64"
      ]
     },
     "execution_count": 52,
     "metadata": {},
     "output_type": "execute_result"
    }
   ],
   "source": [
    "#To print the specific index names data\n",
    "# fancy indexing:\n",
    "series[[13,18,15]]"
   ]
  },
  {
   "cell_type": "code",
   "execution_count": 53,
   "id": "3426b805",
   "metadata": {},
   "outputs": [
    {
     "data": {
      "text/plain": [
       "3    java\n",
       "dtype: object"
      ]
     },
     "execution_count": 53,
     "metadata": {},
     "output_type": "execute_result"
    }
   ],
   "source": [
    "sd1"
   ]
  },
  {
   "cell_type": "code",
   "execution_count": 60,
   "id": "f335bb2c",
   "metadata": {},
   "outputs": [
    {
     "name": "stderr",
     "output_type": "stream",
     "text": [
      "C:\\Users\\dell\\AppData\\Local\\Temp\\ipykernel_3644\\3642468309.py:2: FutureWarning: The series.append method is deprecated and will be removed from pandas in a future version. Use pandas.concat instead.\n",
      "  sd1=sd1.append(pd.Series([10,20]))\n"
     ]
    },
    {
     "data": {
      "text/plain": [
       "3      java\n",
       "0        10\n",
       "1        20\n",
       "0      nani\n",
       "1    aaryan\n",
       "0        10\n",
       "1        20\n",
       "0      nani\n",
       "1    aaryan\n",
       "0        10\n",
       "1        20\n",
       "dtype: object"
      ]
     },
     "execution_count": 60,
     "metadata": {},
     "output_type": "execute_result"
    }
   ],
   "source": [
    "# To add new record to series data structure..\n",
    "sd1=sd1.append(pd.Series([10,20]))\n",
    "sd1"
   ]
  },
  {
   "cell_type": "code",
   "execution_count": 61,
   "id": "ac8087cf",
   "metadata": {},
   "outputs": [
    {
     "name": "stderr",
     "output_type": "stream",
     "text": [
      "C:\\Users\\dell\\AppData\\Local\\Temp\\ipykernel_3644\\953610544.py:2: FutureWarning: The series.append method is deprecated and will be removed from pandas in a future version. Use pandas.concat instead.\n",
      "  sd1=sd1.append(s1)\n"
     ]
    },
    {
     "data": {
      "text/plain": [
       "3      java\n",
       "0        10\n",
       "1        20\n",
       "0      nani\n",
       "1    aaryan\n",
       "0        10\n",
       "1        20\n",
       "0      nani\n",
       "1    aaryan\n",
       "0        10\n",
       "1        20\n",
       "0      nani\n",
       "1    aaryan\n",
       "dtype: object"
      ]
     },
     "execution_count": 61,
     "metadata": {},
     "output_type": "execute_result"
    }
   ],
   "source": [
    "s1 = pd.Series(['nani','aaryan'])\n",
    "sd1=sd1.append(s1)\n",
    "sd1"
   ]
  },
  {
   "cell_type": "code",
   "execution_count": 62,
   "id": "c5e4fec8",
   "metadata": {},
   "outputs": [
    {
     "data": {
      "text/plain": [
       "0      10\n",
       "0    nani\n",
       "0      10\n",
       "0    nani\n",
       "0      10\n",
       "0    nani\n",
       "dtype: object"
      ]
     },
     "execution_count": 62,
     "metadata": {},
     "output_type": "execute_result"
    }
   ],
   "source": [
    "sd1[0]"
   ]
  },
  {
   "cell_type": "code",
   "execution_count": null,
   "id": "9971d739",
   "metadata": {},
   "outputs": [],
   "source": []
  }
 ],
 "metadata": {
  "kernelspec": {
   "display_name": "Python 3 (ipykernel)",
   "language": "python",
   "name": "python3"
  },
  "language_info": {
   "codemirror_mode": {
    "name": "ipython",
    "version": 3
   },
   "file_extension": ".py",
   "mimetype": "text/x-python",
   "name": "python",
   "nbconvert_exporter": "python",
   "pygments_lexer": "ipython3",
   "version": "3.9.12"
  }
 },
 "nbformat": 4,
 "nbformat_minor": 5
}
