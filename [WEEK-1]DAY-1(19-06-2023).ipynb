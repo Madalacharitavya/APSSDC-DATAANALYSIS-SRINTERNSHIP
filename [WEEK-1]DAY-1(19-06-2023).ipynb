{
 "cells": [
  {
   "cell_type": "markdown",
   "id": "1bc899ac",
   "metadata": {},
   "source": [
    "### Markdown syntax\n",
    "* Markdown is light weight markup language that makes easy to write formatted content"
   ]
  },
  {
   "cell_type": "markdown",
   "id": "0c8d77aa",
   "metadata": {},
   "source": [
    "### Shortcuts\n",
    "\n",
    "* esc+m -> to convert coding cell into a markdown cell\n",
    "* esc+y -> to convert markdown cell into a coding cell\n",
    "* esc+a -> to create a new cell above\n",
    "* esc+b -> to create a new cell below\n",
    "* esc+h -> shortcuts"
   ]
  },
  {
   "cell_type": "markdown",
   "id": "66179bde",
   "metadata": {},
   "source": [
    "# Headings\n",
    "\n",
    "# largest heading\n",
    "## the second largest heading\n",
    "### h3\n",
    "#### h4\n",
    "##### h5\n",
    "###### the smallest heading"
   ]
  },
  {
   "cell_type": "markdown",
   "id": "bbc37f6c",
   "metadata": {},
   "source": [
    "### Styling text\n",
    "\n",
    "**Welcome to the world!!!** -> ctrl+b\n",
    "\n",
    "*PYTHON Programming* -> ctrl+i\n",
    "\n",
    "***This is bold and italic***\n",
    "\n",
    "~~ This is strike through ~~"
   ]
  },
  {
   "cell_type": "markdown",
   "id": "3bc3e1fe",
   "metadata": {},
   "source": [
    "### Unordered list:\n",
    "\n",
    "* Cities\n",
    "    * Vijayawada\n",
    "    * Guntur\n",
    "    * Tirupathi\n",
    "    \n",
    "### ordered list\n",
    "\n",
    "* Department\n",
    "\n",
    "1. IT\n",
    "2. ECE\n",
    "3. CSE\n",
    "4. MECH\n",
    "5. CIVIL"
   ]
  },
  {
   "cell_type": "markdown",
   "id": "57d8680a",
   "metadata": {},
   "source": [
    "### inserting a link\n",
    "\n",
    "[Google.com](https://www.google.com)\n",
    "\n",
    "[gmail.com](https://www.gmail.com)\n",
    "\n",
    "<a href=\"http://engineering.apssdc.in/register/\">Student register</a>"
   ]
  },
  {
   "cell_type": "code",
   "execution_count": null,
   "id": "67bb1ed9",
   "metadata": {},
   "outputs": [],
   "source": []
  }
 ],
 "metadata": {
  "kernelspec": {
   "display_name": "Python 3 (ipykernel)",
   "language": "python",
   "name": "python3"
  },
  "language_info": {
   "codemirror_mode": {
    "name": "ipython",
    "version": 3
   },
   "file_extension": ".py",
   "mimetype": "text/x-python",
   "name": "python",
   "nbconvert_exporter": "python",
   "pygments_lexer": "ipython3",
   "version": "3.9.12"
  }
 },
 "nbformat": 4,
 "nbformat_minor": 5
}
