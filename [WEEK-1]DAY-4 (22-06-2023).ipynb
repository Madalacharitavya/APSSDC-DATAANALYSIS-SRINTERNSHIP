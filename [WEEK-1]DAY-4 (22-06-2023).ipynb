{
 "cells": [
  {
   "cell_type": "markdown",
   "id": "17969726",
   "metadata": {},
   "source": [
    "### While loop with else\n",
    "* We can also use while with optional else block\n",
    "* The else part is executed if the condition in the while loop evaluates to False\n",
    "* If the while loop is terminated with a break statement, in such cases else part is ignored\n",
    "* while loop else part runs only if no break occurs and the condition is false\n"
   ]
  },
  {
   "cell_type": "code",
   "execution_count": 10,
   "id": "fcddf061",
   "metadata": {},
   "outputs": [
    {
     "name": "stdout",
     "output_type": "stream",
     "text": [
      "Inside while loop\n",
      "Inside while loop\n",
      "Inside while loop\n",
      "Inside else\n"
     ]
    }
   ],
   "source": [
    "counter=0\n",
    "\n",
    "while counter<3:\n",
    "    print(\"Inside while loop\")\n",
    "    counter=counter+1\n",
    "else:\n",
    "    print(\"Inside else\")"
   ]
  },
  {
   "cell_type": "code",
   "execution_count": 11,
   "id": "e9db2790",
   "metadata": {},
   "outputs": [
    {
     "name": "stdout",
     "output_type": "stream",
     "text": [
      "1\n",
      "2\n"
     ]
    }
   ],
   "source": [
    "i=1\n",
    "while i<=5:\n",
    "    print(i)\n",
    "    i=i+1\n",
    "    if i==3:\n",
    "        break\n",
    "else:\n",
    "    print(\"this is else part\")"
   ]
  },
  {
   "cell_type": "markdown",
   "id": "74fbcefe",
   "metadata": {},
   "source": [
    "### Nested while\n",
    "\n",
    "* while expression: while expression: * stmts\n",
    "*       stamts\n"
   ]
  },
  {
   "cell_type": "code",
   "execution_count": null,
   "id": "7b0d0fd9",
   "metadata": {},
   "outputs": [],
   "source": [
    "1,5   i,j\n",
    "2,6\n",
    "3,7"
   ]
  },
  {
   "cell_type": "code",
   "execution_count": 12,
   "id": "48b29ffe",
   "metadata": {},
   "outputs": [
    {
     "name": "stdout",
     "output_type": "stream",
     "text": [
      "1 , 5\n",
      "2 , 6\n",
      "3 , 7\n"
     ]
    }
   ],
   "source": [
    "i=1\n",
    "j=5\n",
    "\n",
    "while i<4:\n",
    "    while j<8:\n",
    "        print(i,\",\",j)\n",
    "        i=i+1\n",
    "        j=j+1        "
   ]
  },
  {
   "cell_type": "markdown",
   "id": "2140fa5e",
   "metadata": {},
   "source": [
    "### for loop\n",
    "* for loop is used to iterate over sequence like string, list ,tuple,range etc\n",
    "* for val in sequence:\n",
    "*  stmts\n"
   ]
  },
  {
   "cell_type": "code",
   "execution_count": 13,
   "id": "98c27e73",
   "metadata": {},
   "outputs": [
    {
     "name": "stdout",
     "output_type": "stream",
     "text": [
      "1 2 3 4 5 6 7 8 9 10 "
     ]
    }
   ],
   "source": [
    "# 1 to 10\n",
    "\n",
    "for i in range(1,11):\n",
    "    print(i,end=\" \")\n"
   ]
  },
  {
   "cell_type": "code",
   "execution_count": 14,
   "id": "51b68816",
   "metadata": {},
   "outputs": [
    {
     "name": "stdout",
     "output_type": "stream",
     "text": [
      "10\n",
      "9\n",
      "8\n",
      "7\n",
      "6\n",
      "5\n",
      "4\n",
      "3\n",
      "2\n",
      "1\n"
     ]
    }
   ],
   "source": [
    "#10 9 8.....1\n",
    "\n",
    "for i in range(10,0,-1):\n",
    "    print(i)"
   ]
  },
  {
   "cell_type": "code",
   "execution_count": 15,
   "id": "53f82f5f",
   "metadata": {},
   "outputs": [
    {
     "name": "stdout",
     "output_type": "stream",
     "text": [
      "2 4 6 8 10 12 14 16 18 20 22 24 26 28 30 32 34 36 38 40 42 44 46 48 50 52 54 56 58 60 62 64 66 68 70 72 74 76 78 80 82 84 86 88 90 92 94 96 98 100 "
     ]
    }
   ],
   "source": [
    "# print even numbers in the range of 1 to 100\n",
    "\n",
    "for i in range(2,101):\n",
    "    if i%2==0:\n",
    "        print(i,end=\" \")"
   ]
  },
  {
   "cell_type": "code",
   "execution_count": 16,
   "id": "96cdbc1a",
   "metadata": {},
   "outputs": [
    {
     "name": "stdout",
     "output_type": "stream",
     "text": [
      "2 4 6 8 10 12 14 16 18 20 22 24 26 28 30 32 34 36 38 40 42 44 46 48 50 52 54 56 58 60 62 64 66 68 70 72 74 76 78 80 82 84 86 88 90 92 94 96 98 100 "
     ]
    }
   ],
   "source": [
    "for i in range(2,101,2):\n",
    "    print(i,end=\" \")"
   ]
  },
  {
   "cell_type": "code",
   "execution_count": 1,
   "id": "d44dfe70",
   "metadata": {},
   "outputs": [
    {
     "name": "stdout",
     "output_type": "stream",
     "text": [
      "s\n",
      "h\n",
      "i\n",
      "v\n",
      "a\n"
     ]
    }
   ],
   "source": [
    "name=\"shiva\"\n",
    "for ch in name:\n",
    "    print(ch)"
   ]
  },
  {
   "cell_type": "markdown",
   "id": "44bbd39d",
   "metadata": {},
   "source": [
    "# for with else\n",
    "\n",
    "* else part is executed after the for loop is finished\n",
    "* if there is break in loop, else block is not executed"
   ]
  },
  {
   "cell_type": "code",
   "execution_count": 17,
   "id": "ae7c55c9",
   "metadata": {},
   "outputs": [
    {
     "name": "stdout",
     "output_type": "stream",
     "text": [
      "0\n",
      "1\n",
      "2\n",
      "3\n",
      "4\n",
      "5\n",
      "Else block\n"
     ]
    }
   ],
   "source": [
    "# 0 to 5\n",
    "\n",
    "for i in range(6):\n",
    "    print(i)\n",
    "else:\n",
    "    print(\"Else block\")"
   ]
  },
  {
   "cell_type": "code",
   "execution_count": 5,
   "id": "5a2426fb",
   "metadata": {},
   "outputs": [
    {
     "name": "stdout",
     "output_type": "stream",
     "text": [
      "0\n",
      "1\n",
      "2\n"
     ]
    }
   ],
   "source": [
    "# range(6) ,0,1,2\n",
    "\n",
    "for i in range(6):\n",
    "    if i==3:\n",
    "        break\n",
    "    print(i)\n",
    "else:\n",
    "    print(\"this is else block\")"
   ]
  },
  {
   "cell_type": "code",
   "execution_count": 6,
   "id": "6f11c521",
   "metadata": {},
   "outputs": [
    {
     "name": "stdout",
     "output_type": "stream",
     "text": [
      "1 11\n",
      "2 11\n",
      "3 11\n",
      "4 11\n",
      "5 11\n",
      "6 11\n",
      "7 11\n",
      "8 11\n",
      "9 11\n"
     ]
    }
   ],
   "source": [
    "for i in range(1,10):\n",
    "    for j in range(11,20):\n",
    "        if j==12:\n",
    "            break\n",
    "        print(i,j)"
   ]
  },
  {
   "cell_type": "markdown",
   "id": "531ffff2",
   "metadata": {},
   "source": [
    "### Loop control statements\n",
    "\n",
    "* Loop control statements change execution from its normal sequence\n",
    "* Break\n",
    "* continue\n",
    "* pass"
   ]
  },
  {
   "cell_type": "markdown",
   "id": "4e377c45",
   "metadata": {},
   "source": [
    "###  break\n",
    "\n",
    "* The break statement terminates the loop containing it\n",
    "* Control of the program flows to the statement immediately after the body of the loop\n",
    "* If the break statement is inside a nested loop,then it terminates innermost loop"
   ]
  },
  {
   "cell_type": "code",
   "execution_count": 8,
   "id": "9826bafe",
   "metadata": {},
   "outputs": [
    {
     "name": "stdout",
     "output_type": "stream",
     "text": [
      "p\n",
      "y\n",
      "t\n",
      "h\n"
     ]
    }
   ],
   "source": [
    "str=\"python\"\n",
    "\n",
    "# pyth\n",
    "\n",
    "for i in str:\n",
    "    if i=='o':\n",
    "        break\n",
    "    print(i)"
   ]
  },
  {
   "cell_type": "code",
   "execution_count": 5,
   "id": "7a18524d",
   "metadata": {},
   "outputs": [
    {
     "name": "stdout",
     "output_type": "stream",
     "text": [
      "0   1   2   3   4   5   6   7   8   9   outside while loop\n"
     ]
    }
   ],
   "source": [
    "i=0\n",
    "while 1:\n",
    "    print(i,\" \",end=\" \")\n",
    "    i=i+1\n",
    "    if i==10:\n",
    "        break\n",
    "print(\"outside while loop\")"
   ]
  },
  {
   "cell_type": "markdown",
   "id": "1b326428",
   "metadata": {},
   "source": [
    "### continue statement\n",
    "\n",
    "* the continue statement is used to skip the rest of the code inside a loop for current iteration only\n",
    "* loop does not terminate but continues on with the next iteration"
   ]
  },
  {
   "cell_type": "code",
   "execution_count": 7,
   "id": "67ace0c3",
   "metadata": {},
   "outputs": [
    {
     "name": "stdout",
     "output_type": "stream",
     "text": [
      "1\n",
      "2\n",
      "3\n",
      "4\n",
      "6\n",
      "7\n",
      "8\n",
      "9\n",
      "10\n"
     ]
    }
   ],
   "source": [
    "# 1 2 3 4 6 7 8 9 10 # without 5\n",
    "\n",
    "i=0\n",
    "while i<10:\n",
    "    i=i+1\n",
    "    if i==5:\n",
    "        continue\n",
    "    print(i)"
   ]
  },
  {
   "cell_type": "code",
   "execution_count": 18,
   "id": "bc28bb54",
   "metadata": {},
   "outputs": [
    {
     "name": "stdout",
     "output_type": "stream",
     "text": [
      "a\n",
      "s\n",
      "s\n",
      "d\n",
      "c\n"
     ]
    }
   ],
   "source": [
    "str=\"apssdc\"\n",
    "for ch in str:\n",
    "    if ch=='p':\n",
    "        continue\n",
    "    print(ch)"
   ]
  },
  {
   "cell_type": "markdown",
   "id": "63cd36a9",
   "metadata": {},
   "source": [
    "### pass statements\n",
    "\n",
    "* pass statement is a null statement"
   ]
  },
  {
   "cell_type": "code",
   "execution_count": null,
   "id": "f55324c4",
   "metadata": {},
   "outputs": [],
   "source": [
    "name=\"ramya\"\n",
    "for ch in name:\n",
    "    pass"
   ]
  },
  {
   "cell_type": "code",
   "execution_count": 9,
   "id": "a51b5be5",
   "metadata": {},
   "outputs": [
    {
     "name": "stdout",
     "output_type": "stream",
     "text": [
      "11\n",
      "9\n",
      "5\n"
     ]
    }
   ],
   "source": [
    "for num in [90,76,78,44,11,9,5]:\n",
    "    if num%2==0:\n",
    "        pass\n",
    "    else:\n",
    "        print(num)"
   ]
  },
  {
   "cell_type": "code",
   "execution_count": null,
   "id": "05bd709a",
   "metadata": {},
   "outputs": [],
   "source": []
  }
 ],
 "metadata": {
  "kernelspec": {
   "display_name": "Python 3 (ipykernel)",
   "language": "python",
   "name": "python3"
  },
  "language_info": {
   "codemirror_mode": {
    "name": "ipython",
    "version": 3
   },
   "file_extension": ".py",
   "mimetype": "text/x-python",
   "name": "python",
   "nbconvert_exporter": "python",
   "pygments_lexer": "ipython3",
   "version": "3.9.12"
  }
 },
 "nbformat": 4,
 "nbformat_minor": 5
}
