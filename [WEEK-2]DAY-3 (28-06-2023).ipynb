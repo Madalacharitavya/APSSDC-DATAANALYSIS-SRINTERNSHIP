{
 "cells": [
  {
   "cell_type": "code",
   "execution_count": 1,
   "id": "f77c862c",
   "metadata": {},
   "outputs": [
    {
     "name": "stdout",
     "output_type": "stream",
     "text": [
      "{'1st Year': {'Name': 'Aaryan', 'Rno': 510, 'Branch': 'CSE'}, '2nd Year': {'Name': 'Krishna', 'Rno': 420, 'Branch': 'CSE'}}\n"
     ]
    }
   ],
   "source": [
    "# nested dictionaries\n",
    "btech = {\n",
    "    '1st Year':{\n",
    "        'Name':'Aaryan',\n",
    "        'Rno' :510,\n",
    "        'Branch':'CSE'\n",
    "    },\n",
    "    '2nd Year':{\n",
    "        'Name':'Krishna',\n",
    "        'Rno' :420,\n",
    "        'Branch':'CSE'\n",
    "    }\n",
    "}\n",
    "print(btech)"
   ]
  },
  {
   "cell_type": "code",
   "execution_count": 2,
   "id": "2e7d2f71",
   "metadata": {},
   "outputs": [
    {
     "name": "stdout",
     "output_type": "stream",
     "text": [
      "Aaryan\n"
     ]
    }
   ],
   "source": [
    "# To access the nested ditionaries data...\n",
    "print(btech['1st Year']['Name'])"
   ]
  },
  {
   "cell_type": "code",
   "execution_count": 2,
   "id": "f6249969",
   "metadata": {},
   "outputs": [
    {
     "name": "stdout",
     "output_type": "stream",
     "text": [
      "{'Name': ['madhu', 'lalitha', 'nethra'], 'Rollno': [510, 420, 325], 'branch': ['CSE', 'ECE', 'MECH']}\n"
     ]
    }
   ],
   "source": [
    "# To store the multiple students records...\n",
    "student = {'Name':['madhu','lalitha','nethra'],\n",
    "          'Rollno':[510,420,325],\n",
    "          'branch':['CSE','ECE','MECH']}\n",
    "print(student)"
   ]
  },
  {
   "cell_type": "code",
   "execution_count": 4,
   "id": "1df30361",
   "metadata": {},
   "outputs": [
    {
     "name": "stdout",
     "output_type": "stream",
     "text": [
      "lalitha\n",
      "{'Name': ['madhu', 'lalitha', 'nethra'], 'Rollno': [523, 420, 325], 'branch': ['CSE', 'ECE', 'MECH']}\n"
     ]
    }
   ],
   "source": [
    "print(student['Name'][1]) # To get the data from a dictionary.\n",
    "student['Rollno'][0] = 523 # To update the data.\n",
    "print(student)"
   ]
  },
  {
   "cell_type": "markdown",
   "id": "8ff385c1",
   "metadata": {},
   "source": [
    "### Functions:\n",
    "         - Function is a group of statements.\n",
    "         - It can be perform the specific task.\n",
    "         - In python by using 'def' keyword we can write the functions.\n",
    "- *uses:*\n",
    "         - code reusability.\n",
    "         - easy to code debugging.\n",
    "- syntax:\n",
    "      def function_name(arguments_list): # function definition\n",
    "            statements\n",
    "            return output\n",
    "- *how to call a function:*\n",
    "              function_name(input_arguments) # function calling\n",
    "              \n",
    "- function name starts with keyword,inbuilt functions.\n",
    "- function name should not allow the space in the middle of function.\n",
    "#### Two types of functions:\n",
    "- 1. pre-define functions.\n",
    "- 2. user-define functions.\n",
    "- 4 types of user define functions:\n",
    "          - 1. function with arguments and with return values.\n",
    "          - 2. function with arguments and with out return values.\n",
    "          - 3. function with out arguments and with return values.\n",
    "          - 4. function with out arguments and with out return values."
   ]
  },
  {
   "cell_type": "markdown",
   "id": "5ecd2301",
   "metadata": {},
   "source": [
    "### 1. with arguments and with return values..\n",
    "- syntax:\n",
    "          def function_name(arguments_lists):\n",
    "              statements\n",
    "              return result"
   ]
  },
  {
   "cell_type": "code",
   "execution_count": 2,
   "id": "1f401b0a",
   "metadata": {},
   "outputs": [
    {
     "name": "stdout",
     "output_type": "stream",
     "text": [
      "Enter n1 value: 45367\n"
     ]
    },
    {
     "data": {
      "text/plain": [
       "4"
      ]
     },
     "execution_count": 2,
     "metadata": {},
     "output_type": "execute_result"
    }
   ],
   "source": [
    "# 1.To print the first digit of a given number?\n",
    "# input: n=45367\n",
    "# output: 4\n",
    "def first_digit(n): # step3 -> first_digit(234)\n",
    "    while(n>=10): # step4: 234>=10 true, 23>=10 true,2>=10 , false\n",
    "        n//=10 # step5: 234//10 -> 23 , 23//10 -> 2\n",
    "    return n # step6: return 2\n",
    "n1 = int(input(\"Enter n1 value: \")) # step1 n1=234\n",
    "first_digit(n1) # step2 first_digit(234)"
   ]
  },
  {
   "cell_type": "markdown",
   "id": "3b7011e1",
   "metadata": {},
   "source": [
    "### 2. with arguments and with out return values..\n",
    "- syntax:\n",
    "         def function_name(arguments_list):\n",
    "            statements\n",
    "            print(output)"
   ]
  },
  {
   "cell_type": "code",
   "execution_count": 5,
   "id": "20e6afdb",
   "metadata": {},
   "outputs": [
    {
     "name": "stdout",
     "output_type": "stream",
     "text": [
      "10\n",
      "2\n",
      "4\n",
      "Biggest value is a: 10\n"
     ]
    }
   ],
   "source": [
    "# To find the biggest of three numbers?\n",
    "def biggest_three(a,b,c):\n",
    "    if(a>b and a>c):\n",
    "        print('Biggest value is a:',a)\n",
    "    elif(b>c):\n",
    "        print('Biggest value is b:',b)\n",
    "    else:\n",
    "        print('biggest value is c:',c)\n",
    "a= int(input())\n",
    "b= int(input())\n",
    "c= int(input())\n",
    "biggest_three(a,b,c)"
   ]
  },
  {
   "cell_type": "markdown",
   "id": "660dac26",
   "metadata": {},
   "source": [
    "#### with out arguments and with return values:\n",
    "- syntax:\n",
    "          def function_name():\n",
    "              statements\n",
    "              return output"
   ]
  },
  {
   "cell_type": "code",
   "execution_count": 8,
   "id": "4cacd8f1",
   "metadata": {},
   "outputs": [
    {
     "name": "stdout",
     "output_type": "stream",
     "text": [
      "Enter a value: 200\n",
      "Enter b value: 30\n"
     ]
    },
    {
     "data": {
      "text/plain": [
       "(30, 200)"
      ]
     },
     "execution_count": 8,
     "metadata": {},
     "output_type": "execute_result"
    }
   ],
   "source": [
    "# To print the swapping of two numbers..\n",
    "def swap():\n",
    "    a = int(input(\"Enter a value: \"))\n",
    "    b = int(input('Enter b value: '))\n",
    "    a,b = b,a\n",
    "    return a,b\n",
    "swap()"
   ]
  },
  {
   "cell_type": "code",
   "execution_count": 9,
   "id": "cbd00e40",
   "metadata": {},
   "outputs": [
    {
     "name": "stdout",
     "output_type": "stream",
     "text": [
      "2 3\n"
     ]
    }
   ],
   "source": [
    "def prit(a,b):\n",
    "    a=20\n",
    "    b=30\n",
    "a=2\n",
    "b=3\n",
    "prit(a,b)\n",
    "print(a,b)"
   ]
  },
  {
   "cell_type": "markdown",
   "id": "6a3725ef",
   "metadata": {},
   "source": [
    "### with out arguments and with out return values..\n",
    "- syntax:\n",
    "         def function_name():\n",
    "             statements\n",
    "             print(result)"
   ]
  },
  {
   "cell_type": "code",
   "execution_count": 11,
   "id": "1233b17b",
   "metadata": {},
   "outputs": [
    {
     "name": "stdout",
     "output_type": "stream",
     "text": [
      "Enter n value: 5\n",
      "120\n"
     ]
    }
   ],
   "source": [
    "# To print the factorial of a given number?\n",
    "def factorial():\n",
    "    n = int(input(\"Enter n value: \"))# n= 5\n",
    "    f1 = 1 # f1 = 1\n",
    "    for i in range(1,n+1): # i=1,i=2->t,i=3-> t,i=4->t,i=5->t ,6-> f\n",
    "        f1 = f1*i # f1 = 1*1=>1,1*2=>2,2*3=>6,6*4=>24 ,24*5=> 120\n",
    "    print(f1)\n",
    "factorial()"
   ]
  },
  {
   "cell_type": "markdown",
   "id": "9a0f66b2",
   "metadata": {},
   "source": [
    "#### Arguments:\n",
    "           - Three types of arguments:\n",
    "           - 1. Variable length arguments.\n",
    "           - 2. Keyword length arguments.\n",
    "           - 3. default and non-default arguments     \n",
    "- 1. variable length arguments:\n",
    "          - By using '*' symbol we can develop the variable length arguments.\n",
    "          - It return the data in the format tuple. "
   ]
  },
  {
   "cell_type": "code",
   "execution_count": 12,
   "id": "e8e40d47",
   "metadata": {},
   "outputs": [
    {
     "name": "stdout",
     "output_type": "stream",
     "text": [
      "(10, 20, 30, 40, 'apssdc')\n"
     ]
    }
   ],
   "source": [
    "def hello(*a):\n",
    "    print(a)\n",
    "hello(10,20,30,40,'apssdc')"
   ]
  },
  {
   "cell_type": "code",
   "execution_count": 13,
   "id": "80dde43f",
   "metadata": {},
   "outputs": [
    {
     "name": "stdout",
     "output_type": "stream",
     "text": [
      "[10, 20]\n"
     ]
    }
   ],
   "source": [
    "list = [10,20]\n",
    "print(list)"
   ]
  },
  {
   "cell_type": "code",
   "execution_count": 14,
   "id": "d5335221",
   "metadata": {},
   "outputs": [
    {
     "name": "stdout",
     "output_type": "stream",
     "text": [
      "{'name': 'krishna', 'rollno': 510}\n"
     ]
    }
   ],
   "source": [
    "# keyword length arguments:\n",
    "# we can '**' symbols we can write the keyword arguments.\n",
    "def sample(**k):\n",
    "    print(k)\n",
    "sample(name='krishna',rollno=510)"
   ]
  },
  {
   "cell_type": "code",
   "execution_count": 3,
   "id": "0a5ceb1e",
   "metadata": {},
   "outputs": [
    {
     "data": {
      "text/plain": [
       "10"
      ]
     },
     "execution_count": 3,
     "metadata": {},
     "output_type": "execute_result"
    }
   ],
   "source": [
    "# default and non-default arguments.\n",
    "def example(a=10):\n",
    "    return a\n",
    "example()"
   ]
  },
  {
   "cell_type": "code",
   "execution_count": 4,
   "id": "5e2b87ef",
   "metadata": {},
   "outputs": [
    {
     "name": "stdout",
     "output_type": "stream",
     "text": [
      "{'name': 'krish', 'roll': 50}\n"
     ]
    }
   ],
   "source": [
    "def sample(**k):\n",
    "    print(k)\n",
    "sample(name='krish',roll=50)"
   ]
  },
  {
   "cell_type": "code",
   "execution_count": 5,
   "id": "8f373bf3",
   "metadata": {},
   "outputs": [
    {
     "ename": "TypeError",
     "evalue": "unhashable type: 'list'",
     "output_type": "error",
     "traceback": [
      "\u001b[1;31m---------------------------------------------------------------------------\u001b[0m",
      "\u001b[1;31mTypeError\u001b[0m                                 Traceback (most recent call last)",
      "Input \u001b[1;32mIn [5]\u001b[0m, in \u001b[0;36m<cell line: 1>\u001b[1;34m()\u001b[0m\n\u001b[1;32m----> 1\u001b[0m s1 \u001b[38;5;241m=\u001b[39m {\u001b[38;5;124m'\u001b[39m\u001b[38;5;124mpython\u001b[39m\u001b[38;5;124m'\u001b[39m,[\u001b[38;5;124m'\u001b[39m\u001b[38;5;124mjava\u001b[39m\u001b[38;5;124m'\u001b[39m,\u001b[38;5;124m'\u001b[39m\u001b[38;5;124mc\u001b[39m\u001b[38;5;124m'\u001b[39m],\u001b[38;5;241m12\u001b[39m,\u001b[38;5;241m45.67\u001b[39m}\n\u001b[0;32m      2\u001b[0m \u001b[38;5;28mprint\u001b[39m(s1)\n",
      "\u001b[1;31mTypeError\u001b[0m: unhashable type: 'list'"
     ]
    }
   ],
   "source": [
    "s1 = {'python',['java','c'],12,45.67}\n",
    "print(s1)"
   ]
  },
  {
   "cell_type": "code",
   "execution_count": null,
   "id": "1c2158f0",
   "metadata": {},
   "outputs": [],
   "source": []
  }
 ],
 "metadata": {
  "kernelspec": {
   "display_name": "Python 3 (ipykernel)",
   "language": "python",
   "name": "python3"
  },
  "language_info": {
   "codemirror_mode": {
    "name": "ipython",
    "version": 3
   },
   "file_extension": ".py",
   "mimetype": "text/x-python",
   "name": "python",
   "nbconvert_exporter": "python",
   "pygments_lexer": "ipython3",
   "version": "3.9.12"
  }
 },
 "nbformat": 4,
 "nbformat_minor": 5
}
