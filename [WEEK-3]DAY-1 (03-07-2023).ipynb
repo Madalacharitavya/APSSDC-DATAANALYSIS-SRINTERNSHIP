{
 "cells": [
  {
   "cell_type": "code",
   "execution_count": 1,
   "id": "183f03e3",
   "metadata": {},
   "outputs": [
    {
     "name": "stdout",
     "output_type": "stream",
     "text": [
      "2 3\n"
     ]
    }
   ],
   "source": [
    "def display():\n",
    "    a=2\n",
    "    b=3\n",
    "    return a,b\n",
    "A,B=display()\n",
    "print(A,B)"
   ]
  },
  {
   "cell_type": "markdown",
   "id": "154cd801",
   "metadata": {},
   "source": [
    "### Files\n",
    "- By using files we can store the data in permanently.\n",
    "- How to create the text file.\n",
    "1. By using the open() function we can create the text file.\n",
    "\n",
    "2. Here open function takes two arguments:\n",
    "- syntax: file_variablename = open('file_name',modes)\n",
    "\n",
    "3. In files we have three basic modes:\n",
    "- 1. read mode: -> 'r' -> read or view the data in file.\n",
    "- 2. write mode: -> 'w' -> we can edit,remove,store the data into a text file.\n",
    "- 3. append mode: -> 'a' -> we can add the data into a file.\n",
    "\n",
    "- 4. By using close() function we can close the file..\n",
    "- syntax: file_variablename.close()"
   ]
  },
  {
   "cell_type": "code",
   "execution_count": 2,
   "id": "83978ba2",
   "metadata": {},
   "outputs": [
    {
     "name": "stdout",
     "output_type": "stream",
     "text": [
      "file created successfully...\n"
     ]
    }
   ],
   "source": [
    "# To create the empty text file...?\n",
    "# we can use only write and append..\n",
    "f1 = open('data.txt','w')\n",
    "print('file created successfully...')\n",
    "f1.close()"
   ]
  },
  {
   "cell_type": "markdown",
   "id": "b352f892",
   "metadata": {},
   "source": [
    "#### file methods:\n",
    "- 1. read()\n",
    "- 2. write()\n",
    "- 3. readline()\n",
    "- 4. readlines()\n",
    "- 5. tell()\n",
    "- 6. seek()\n",
    "- 7. split()"
   ]
  },
  {
   "cell_type": "code",
   "execution_count": 3,
   "id": "c20757ce",
   "metadata": {},
   "outputs": [
    {
     "name": "stdout",
     "output_type": "stream",
     "text": [
      "success!...\n"
     ]
    }
   ],
   "source": [
    "# To store the data into a file...\n",
    "f1 = open('data.txt','w')\n",
    "f1.write('hello welcome to Data analysis internship program...')\n",
    "f1.close()\n",
    "print('success!...')"
   ]
  },
  {
   "cell_type": "code",
   "execution_count": 4,
   "id": "b8735cd9",
   "metadata": {},
   "outputs": [
    {
     "name": "stdout",
     "output_type": "stream",
     "text": [
      "success...\n"
     ]
    }
   ],
   "source": [
    "# to store the number of lines of data...\n",
    "f1 = open('data.txt','w')\n",
    "f1.write('name: aadyan '+'\\n'+'rollnumber: 510'+'\\n')\n",
    "f1.close()\n",
    "print('success...')"
   ]
  },
  {
   "cell_type": "code",
   "execution_count": 1,
   "id": "0cfd008f",
   "metadata": {},
   "outputs": [
    {
     "name": "stdout",
     "output_type": "stream",
     "text": [
      "success...\n"
     ]
    }
   ],
   "source": [
    "# using append mode we can store the data...\n",
    "f2 = open('data.txt','a')\n",
    "f2.write('course: python programming')\n",
    "f2.close()\n",
    "print('success...')"
   ]
  },
  {
   "cell_type": "code",
   "execution_count": 6,
   "id": "f531ca82",
   "metadata": {},
   "outputs": [
    {
     "name": "stdout",
     "output_type": "stream",
     "text": [
      "name: aadyan \n",
      "rollnumber: 510\n",
      "course: python programming\n"
     ]
    }
   ],
   "source": [
    "# To read the data from a file...\n",
    "f1 = open('data.txt','r')\n",
    "data = f1.read()\n",
    "print(data)"
   ]
  },
  {
   "cell_type": "code",
   "execution_count": 2,
   "id": "6f7aa6b7",
   "metadata": {},
   "outputs": [
    {
     "name": "stdout",
     "output_type": "stream",
     "text": [
      "name:\n"
     ]
    }
   ],
   "source": [
    "# To read the n number of characters..\n",
    "f1 = open('data.txt','r')\n",
    "print(f1.read(5))\n",
    "f1.close()"
   ]
  },
  {
   "cell_type": "code",
   "execution_count": 3,
   "id": "55943cb3",
   "metadata": {},
   "outputs": [
    {
     "name": "stdout",
     "output_type": "stream",
     "text": [
      "name:\n",
      " aady\n"
     ]
    }
   ],
   "source": [
    "f3=open('data.txt','r')\n",
    "print(f3.read(5))\n",
    "print(f3.read(5))\n",
    "f3.close()"
   ]
  },
  {
   "cell_type": "code",
   "execution_count": 5,
   "id": "99a7de2a",
   "metadata": {},
   "outputs": [
    {
     "name": "stdout",
     "output_type": "stream",
     "text": [
      "name: aadyan \n",
      "rollnumber: 510\n",
      "course: python programming\n"
     ]
    }
   ],
   "source": [
    "# using with keyword we can work with a files..\n",
    "with open('data.txt','r') as f1:\n",
    "    print(f1.read())"
   ]
  },
  {
   "cell_type": "code",
   "execution_count": 6,
   "id": "c9479ee1",
   "metadata": {},
   "outputs": [
    {
     "name": "stdout",
     "output_type": "stream",
     "text": [
      "name: aadyan \n",
      "\n",
      "rollnumber: 510\n",
      "\n"
     ]
    }
   ],
   "source": [
    "# readline():\n",
    "with open('data.txt','r') as f1:\n",
    "    print(f1.readline()) # It read the only first line.\n",
    "    print(f1.readline())"
   ]
  },
  {
   "cell_type": "code",
   "execution_count": 7,
   "id": "b6cd7781",
   "metadata": {},
   "outputs": [
    {
     "name": "stdout",
     "output_type": "stream",
     "text": [
      "['name: aadyan \\n', 'rollnumber: 510\\n', 'course: python programming']\n"
     ]
    }
   ],
   "source": [
    "# readlines():\n",
    "with open('data.txt','r') as f1:\n",
    "    print(f1.readlines())"
   ]
  },
  {
   "cell_type": "code",
   "execution_count": 8,
   "id": "c2f50cec",
   "metadata": {},
   "outputs": [
    {
     "name": "stdout",
     "output_type": "stream",
     "text": [
      "56\n"
     ]
    }
   ],
   "source": [
    "# To find the number of charcters from a file..\n",
    "with open('data.txt','r') as f2:\n",
    "    print(len(f2.read()))"
   ]
  },
  {
   "cell_type": "code",
   "execution_count": 10,
   "id": "90a43814",
   "metadata": {},
   "outputs": [
    {
     "name": "stdout",
     "output_type": "stream",
     "text": [
      "number of spaces:  7\n"
     ]
    }
   ],
   "source": [
    "# To find the number of spaces...\n",
    "with open('data.txt','r') as f4:\n",
    "    sp=0\n",
    "    for i in f4.read():\n",
    "        if i.isspace():\n",
    "            sp=sp+1\n",
    "print('number of spaces: ',sp)"
   ]
  },
  {
   "cell_type": "code",
   "execution_count": 12,
   "id": "bbe606c6",
   "metadata": {},
   "outputs": [
    {
     "name": "stdout",
     "output_type": "stream",
     "text": [
      "5\n",
      " aadyan \n",
      "r\n",
      "15\n"
     ]
    }
   ],
   "source": [
    "# seek() and tell()?\n",
    "with open('data.txt','r') as f4:\n",
    "    print(f4.seek(5))\n",
    "    print(f4.read(10))\n",
    "    print(f4.tell())"
   ]
  },
  {
   "cell_type": "code",
   "execution_count": 13,
   "id": "259ed35e",
   "metadata": {},
   "outputs": [
    {
     "name": "stdout",
     "output_type": "stream",
     "text": [
      "['name:', 'aadyan', 'rollnumber:', '510', 'course:', 'python', 'programming']\n"
     ]
    }
   ],
   "source": [
    "# split():\n",
    "with open('data.txt','r') as f5:\n",
    "    print(f5.read().split())"
   ]
  },
  {
   "cell_type": "code",
   "execution_count": 14,
   "id": "7113a0ae",
   "metadata": {},
   "outputs": [
    {
     "name": "stdout",
     "output_type": "stream",
     "text": [
      "7\n"
     ]
    }
   ],
   "source": [
    "# To count the number of word from a files...\n",
    "with open(\"data.txt\",'r') as f5:\n",
    "    print(len(f5.read().split()))"
   ]
  },
  {
   "cell_type": "code",
   "execution_count": 15,
   "id": "7963b8e3",
   "metadata": {},
   "outputs": [
    {
     "name": "stdout",
     "output_type": "stream",
     "text": [
      "success...\n"
     ]
    }
   ],
   "source": [
    "# To copy the data from one file to another?\n",
    "with open('data.txt','r') as f1, open('copy.txt','w') as f2:\n",
    "    for i in f1.read():\n",
    "        f2.write(i)\n",
    "    print('success...')"
   ]
  },
  {
   "cell_type": "code",
   "execution_count": 16,
   "id": "68e963f8",
   "metadata": {},
   "outputs": [
    {
     "name": "stdout",
     "output_type": "stream",
     "text": [
      "success\n"
     ]
    }
   ],
   "source": [
    "# Another method:\n",
    "import shutil\n",
    "shutil.copy('data.txt','sample.txt')\n",
    "print('success')"
   ]
  },
  {
   "cell_type": "code",
   "execution_count": 17,
   "id": "b034723f",
   "metadata": {},
   "outputs": [
    {
     "name": "stdout",
     "output_type": "stream",
     "text": [
      "Enter name: cherry\n",
      "Enter rollnumber: AP21110010027\n",
      "Enter mobile number: 7993555515\n",
      "Enter aadhar number: 760245444634\n",
      "Enter emial-id: nagacharitavya_m@srmap.edu.in\n",
      "Enter name: deepak\n",
      "Enter rollnumber: AP21110011173\n",
      "Enter mobile number: 9381630460\n",
      "Enter aadhar number: 1234567891012\n",
      "Enter emial-id: deepak_tallapudi@srmap.edu.in\n"
     ]
    }
   ],
   "source": [
    "# To store the n students records into a text file\n",
    "# 1. name\n",
    "# 2. rollnumber\n",
    "# 3. mobile number\n",
    "# 4. Aadhar number\n",
    "# 5. email id\n",
    "with open('student.txt','a') as f1:\n",
    "    for i in range(1,3):\n",
    "        name = input(\"Enter name: \")\n",
    "        rn = input(\"Enter rollnumber: \")\n",
    "        mb = input(\"Enter mobile number: \")\n",
    "        an = input(\"Enter aadhar number: \")\n",
    "        em = input(\"Enter emial-id: \")\n",
    "        f1.write(name+'\\n'+rn+'\\n'+mb+'\\n'+an+'\\n'+em+'\\n')"
   ]
  },
  {
   "cell_type": "code",
   "execution_count": 18,
   "id": "61251ec4",
   "metadata": {},
   "outputs": [
    {
     "name": "stdout",
     "output_type": "stream",
     "text": [
      "False\n"
     ]
    }
   ],
   "source": [
    "# To check the file is exist or not?\n",
    "import os\n",
    "print(os.path.exists('marks.txt'))"
   ]
  },
  {
   "cell_type": "code",
   "execution_count": 19,
   "id": "7571f018",
   "metadata": {},
   "outputs": [
    {
     "name": "stdout",
     "output_type": "stream",
     "text": [
      "Enter filename: student.txt\n",
      "It is already existed...\n"
     ]
    }
   ],
   "source": [
    "import os\n",
    "fname = input(\"Enter filename: \")\n",
    "if os.path.exists(fname):\n",
    "    print('It is already existed...')\n",
    "else:\n",
    "    print('File does not exist...')"
   ]
  },
  {
   "cell_type": "code",
   "execution_count": 20,
   "id": "fb28d734",
   "metadata": {},
   "outputs": [
    {
     "name": "stdout",
     "output_type": "stream",
     "text": [
      "Enter filename: student.txt\n",
      "yes\n",
      "File deleted successfully...\n"
     ]
    }
   ],
   "source": [
    "# to remove the file ...\n",
    "filename = input(\"Enter filename: \")\n",
    "if os.path.exists(filename):\n",
    "    print('yes')\n",
    "    os.remove(filename)\n",
    "    print('File deleted successfully...')\n",
    "else:\n",
    "    print('File name does not exists...')"
   ]
  },
  {
   "cell_type": "code",
   "execution_count": 22,
   "id": "8c1e8944",
   "metadata": {},
   "outputs": [
    {
     "name": "stdout",
     "output_type": "stream",
     "text": [
      "Enter the number of student records to store: 2\n",
      "Enter name: cherry\n",
      "Enter roll number: AP21110010027\n",
      "Enter mobile number: 7993555515\n",
      "Enter Aadhar number: 760245444634\n",
      "Enter email ID: nagacharitavya_m@srmap.edu.in\n",
      "Enter name: deepak\n",
      "Enter roll number: AP21110011173\n",
      "Enter mobile number: 9381630460\n",
      "Enter Aadhar number: 1234567891012\n",
      "Enter email ID: deepak_tallapudi@srmap.edu.in\n",
      "Student records have been stored successfully.\n",
      "Enter the roll number to search: AP21110010027\n",
      "\n",
      "Student record found:\n",
      "Name: cherry\n",
      "Roll Number: AP21110010027\n",
      "Mobile Number: 7993555515\n",
      "Aadhar Number: 760245444634\n",
      "Email ID: nagacharitavya_m@srmap.edu.in\n"
     ]
    }
   ],
   "source": [
    "def store_student_records(n):\n",
    "    with open('student_records.txt', 'w') as file:\n",
    "        for i in range(n):\n",
    "            name = input(\"Enter name: \")\n",
    "            roll_number = input(\"Enter roll number: \")\n",
    "            mobile_number = input(\"Enter mobile number: \")\n",
    "            aadhar_number = input(\"Enter Aadhar number: \")\n",
    "            email_id = input(\"Enter email ID: \")\n",
    "            \n",
    "            record = f\"{name},{roll_number},{mobile_number},{aadhar_number},{email_id}\\n\"\n",
    "            file.write(record)\n",
    "            \n",
    "        print(\"Student records have been stored successfully.\")\n",
    "\n",
    "\n",
    "def get_student(roll_number):\n",
    "    with open('student_records.txt', 'r') as file:\n",
    "        for line in file:\n",
    "            record = line.strip().split(',')\n",
    "            if record[1] == roll_number:\n",
    "                return record\n",
    "        return None\n",
    "n = int(input(\"Enter the number of student records to store: \"))\n",
    "store_student_records(n)\n",
    "\n",
    "srno = input(\"Enter the roll number to search: \")\n",
    "student_record = get_student(srno)\n",
    "\n",
    "if student_record:\n",
    "    print(\"\\nStudent record found:\")\n",
    "    print(\"Name:\", student_record[0])\n",
    "    print(\"Roll Number:\", student_record[1])\n",
    "    print(\"Mobile Number:\", student_record[2])\n",
    "    print(\"Aadhar Number:\", student_record[3])\n",
    "    print(\"Email ID:\", student_record[4])\n",
    "else:\n",
    "    print(\"Student record not found.\")"
   ]
  },
  {
   "cell_type": "code",
   "execution_count": 23,
   "id": "583e8f44",
   "metadata": {},
   "outputs": [
    {
     "data": {
      "text/plain": [
       "3"
      ]
     },
     "execution_count": 23,
     "metadata": {},
     "output_type": "execute_result"
    }
   ],
   "source": [
    "import math\n",
    "math.floor(3.4)"
   ]
  },
  {
   "cell_type": "code",
   "execution_count": null,
   "id": "731ba25a",
   "metadata": {},
   "outputs": [],
   "source": []
  }
 ],
 "metadata": {
  "kernelspec": {
   "display_name": "Python 3 (ipykernel)",
   "language": "python",
   "name": "python3"
  },
  "language_info": {
   "codemirror_mode": {
    "name": "ipython",
    "version": 3
   },
   "file_extension": ".py",
   "mimetype": "text/x-python",
   "name": "python",
   "nbconvert_exporter": "python",
   "pygments_lexer": "ipython3",
   "version": "3.9.12"
  }
 },
 "nbformat": 4,
 "nbformat_minor": 5
}
