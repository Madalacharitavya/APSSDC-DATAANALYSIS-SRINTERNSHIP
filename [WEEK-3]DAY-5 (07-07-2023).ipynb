{
 "cells": [
  {
   "cell_type": "code",
   "execution_count": 74,
   "id": "d516b9c6",
   "metadata": {},
   "outputs": [],
   "source": [
    "import numpy as np"
   ]
  },
  {
   "cell_type": "code",
   "execution_count": 75,
   "id": "041422d8",
   "metadata": {},
   "outputs": [
    {
     "name": "stdout",
     "output_type": "stream",
     "text": [
      "[[0 1 2 3 4]\n",
      " [5 6 7 8 9]]\n"
     ]
    }
   ],
   "source": [
    "n1 =np.arange(10).reshape(2,5)\n",
    "print(n1)"
   ]
  },
  {
   "cell_type": "code",
   "execution_count": 76,
   "id": "9c6cf4c0",
   "metadata": {},
   "outputs": [
    {
     "data": {
      "text/plain": [
       "array([[ 0,  1],\n",
       "       [ 2,  3],\n",
       "       [ 4,  5],\n",
       "       [ 6,  7],\n",
       "       [ 8,  9],\n",
       "       [10, 11],\n",
       "       [12, 13],\n",
       "       [14, 15]])"
      ]
     },
     "execution_count": 76,
     "metadata": {},
     "output_type": "execute_result"
    }
   ],
   "source": [
    "np.arange(16).reshape(8,-1)"
   ]
  },
  {
   "cell_type": "code",
   "execution_count": 77,
   "id": "796bbe59",
   "metadata": {},
   "outputs": [
    {
     "data": {
      "text/plain": [
       "array([[ 0,  1,  2,  3,  4,  5,  6,  7,  8,  9, 10, 11, 12, 13, 14, 15]])"
      ]
     },
     "execution_count": 77,
     "metadata": {},
     "output_type": "execute_result"
    }
   ],
   "source": [
    "np.arange(16).reshape(1,-1)"
   ]
  },
  {
   "cell_type": "markdown",
   "id": "b477798a",
   "metadata": {},
   "source": [
    "### stacking:\n",
    "        - vstack -> we can add rows\n",
    "        - hstack -> to add columns"
   ]
  },
  {
   "cell_type": "code",
   "execution_count": 78,
   "id": "03599828",
   "metadata": {},
   "outputs": [
    {
     "name": "stdout",
     "output_type": "stream",
     "text": [
      "[[5]\n",
      " [6]]\n",
      "[[9]\n",
      " [6]]\n",
      "--vstack---\n",
      "[[5]\n",
      " [6]\n",
      " [9]\n",
      " [6]]\n",
      "----------------\n",
      "[[5]\n",
      " [6]]\n"
     ]
    }
   ],
   "source": [
    "a1 = np.random.randint(1,10,(2,1))\n",
    "print(a1)\n",
    "b1 = np.random.randint(1,10,(2,1))\n",
    "print(b1)\n",
    "print('--vstack---')\n",
    "print(np.vstack((a1,b1)))\n",
    "print('----------------')\n",
    "print(a1)"
   ]
  },
  {
   "cell_type": "code",
   "execution_count": 79,
   "id": "35ac6f2f",
   "metadata": {},
   "outputs": [
    {
     "name": "stdout",
     "output_type": "stream",
     "text": [
      "----hstack---------\n",
      "[[3 9 7 2]\n",
      " [7 2 2 8]]\n"
     ]
    }
   ],
   "source": [
    "# example on hstack:\n",
    "a2 = np.random.randint(1,10,(2,2))\n",
    "b2 = np.random.randint(1,10,(2,2))\n",
    "print('----hstack---------')\n",
    "print(np.hstack((a2,b2)))"
   ]
  },
  {
   "cell_type": "markdown",
   "id": "39ad15e1",
   "metadata": {},
   "source": [
    "#### ravel() and flatten():\n",
    "             - To convert the numpy array into n-dimensional to 1-dimensional."
   ]
  },
  {
   "cell_type": "code",
   "execution_count": 80,
   "id": "f4832311",
   "metadata": {},
   "outputs": [
    {
     "name": "stdout",
     "output_type": "stream",
     "text": [
      "Original Array...\n",
      "[[1 2]\n",
      " [3 4]]\n",
      "Dimensios is: 2\n",
      "[1 2 3 4]\n",
      "b dimensions:  1\n",
      "[100   2   3   4]\n",
      "original a numpy array: \n",
      "[[100   2]\n",
      " [  3   4]]\n"
     ]
    }
   ],
   "source": [
    "# example on ravel().\n",
    "a = np.array([[1,2],[3,4]])\n",
    "print('Original Array...')\n",
    "print(a)\n",
    "print('Dimensios is:',a.ndim)\n",
    "b = a.ravel()\n",
    "print(b)\n",
    "print('b dimensions: ',b.ndim)\n",
    "b[0] = 100\n",
    "print(b)\n",
    "print('original a numpy array: ')\n",
    "print(a)"
   ]
  },
  {
   "cell_type": "code",
   "execution_count": 81,
   "id": "b17e5b71",
   "metadata": {},
   "outputs": [
    {
     "name": "stdout",
     "output_type": "stream",
     "text": [
      "[[4 5]\n",
      " [7 8]]\n",
      "[4 5 7 8]\n",
      "[ 4 45  7  8]\n",
      "to print the original array: \n",
      "[[4 5]\n",
      " [7 8]]\n"
     ]
    }
   ],
   "source": [
    "# example on flatten():\n",
    "a1 = np.array([[4,5],[7,8]])\n",
    "print(a1)\n",
    "b2 = a1.flatten()\n",
    "print(b2)\n",
    "b2[1]=45\n",
    "print(b2)\n",
    "print('to print the original array: ')\n",
    "print(a1)"
   ]
  },
  {
   "cell_type": "markdown",
   "id": "748e150c",
   "metadata": {},
   "source": [
    "### Data Analysis and Pandas:\n",
    "\n",
    "- Pandas Introduction\n",
    "    - Pandas stands for 'Python Data Analysis Library'.\n",
    "    - It is open source library.\n",
    "    - It is Excellent tool for Data processing and Analyzing of real world data.\n",
    "    \n",
    "- Pandas has two different data Structures:\n",
    "- 1. Series Data Structures:\n",
    "- 2. DataFrame data Structure\n",
    "\n",
    "- 1. Series Data Structure:\n",
    "         - It is mainly used for to create the 1-d dimensional with named index..\n",
    "       \n",
    "- 2. DataFrame Data Structure:\n",
    "         - It is mainly used for to create the 2-d dimensional array in the format rows and columns.\n",
    "         \n",
    "- Pandas is mainly used for data analysis and data manipulations.\n",
    "- By using pandas we read the large amount of data like..,excel,csv,tabular..\n",
    "\n",
    "- 1. How to installing and importing pandas?\n",
    "- IDLE prefer with pip? pip install pandas\n",
    "- Importing library: import pandas as pd"
   ]
  },
  {
   "cell_type": "markdown",
   "id": "46415156",
   "metadata": {},
   "source": [
    "### Series Data Structure:\n",
    "     - Creating Series object using list,tuple,dictionary and also numpy array.\n",
    "     - Create pandas Series from array-like object using pd.Sries()\n",
    "     \n",
    "     - syntax: pd.Series(list,tuple,dict,numpy_array,indexnames)\n",
    "     \n",
    "     - The number of elements in the index list is always equal to the number of elements in the specified series."
   ]
  },
  {
   "cell_type": "code",
   "execution_count": 82,
   "id": "eed24a9b",
   "metadata": {},
   "outputs": [],
   "source": [
    "import pandas as pd"
   ]
  },
  {
   "cell_type": "code",
   "execution_count": 83,
   "id": "fa071dd2",
   "metadata": {},
   "outputs": [
    {
     "name": "stdout",
     "output_type": "stream",
     "text": [
      "0    10\n",
      "1    20\n",
      "2     0\n",
      "dtype: int64\n",
      "<class 'pandas.core.series.Series'>\n"
     ]
    }
   ],
   "source": [
    "# Creation of series data structure using list?\n",
    "L1 = [10,20,0]\n",
    "sd1 = pd.Series(L1)\n",
    "print(sd1)\n",
    "print(type(sd1))"
   ]
  },
  {
   "cell_type": "code",
   "execution_count": 84,
   "id": "010c5224",
   "metadata": {},
   "outputs": [
    {
     "data": {
      "text/plain": [
       "A    10\n",
       "B    20\n",
       "c     0\n",
       "dtype: int64"
      ]
     },
     "execution_count": 84,
     "metadata": {},
     "output_type": "execute_result"
    }
   ],
   "source": [
    "# To change the index names..\n",
    "sd1.index = ['A','B','c']\n",
    "sd1"
   ]
  },
  {
   "cell_type": "code",
   "execution_count": 85,
   "id": "2b2e8840",
   "metadata": {},
   "outputs": [
    {
     "name": "stdout",
     "output_type": "stream",
     "text": [
      "A        23\n",
      "B    python\n",
      "C      34.5\n",
      "D        89\n",
      "dtype: object\n"
     ]
    }
   ],
   "source": [
    "sd2 = pd.Series([23,'python',34.5,89],index=['A','B','C','D'])\n",
    "print(sd2)"
   ]
  },
  {
   "cell_type": "code",
   "execution_count": 86,
   "id": "1d93e9bd",
   "metadata": {},
   "outputs": [
    {
     "data": {
      "text/plain": [
       "0    10\n",
       "1    20\n",
       "2    30\n",
       "dtype: int32"
      ]
     },
     "execution_count": 86,
     "metadata": {},
     "output_type": "execute_result"
    }
   ],
   "source": [
    "# To create the Series using numpy array?\n",
    "np1 = np.array([10,20,30])\n",
    "s2 = pd.Series(np1)\n",
    "s2"
   ]
  },
  {
   "cell_type": "code",
   "execution_count": 87,
   "id": "5e51610a",
   "metadata": {},
   "outputs": [
    {
     "name": "stdout",
     "output_type": "stream",
     "text": [
      "Name      Aadyan\n",
      "Rno          510\n",
      "Branch       CSE\n",
      "dtype: object\n"
     ]
    }
   ],
   "source": [
    "# Creation of Series using Dictionary?\n",
    "d1 = {'Name':'Aadyan','Rno':510,'Branch':'CSE'}\n",
    "sd3 = pd.Series(d1)\n",
    "print(sd3)"
   ]
  },
  {
   "cell_type": "code",
   "execution_count": 88,
   "id": "d9167d98",
   "metadata": {},
   "outputs": [
    {
     "name": "stdout",
     "output_type": "stream",
     "text": [
      "0    10\n",
      "1    20\n",
      "2    30\n",
      "dtype: int64\n"
     ]
    }
   ],
   "source": [
    "# creation of series using tuple:\n",
    "sd4 = pd.Series((10,20,30))\n",
    "print(sd4)"
   ]
  },
  {
   "cell_type": "markdown",
   "id": "1043a508",
   "metadata": {},
   "source": [
    "### Series Indexing:\n",
    "- To get the data from the series..\n",
    "- To access the values from a series using index names.."
   ]
  },
  {
   "cell_type": "code",
   "execution_count": 89,
   "id": "97a62e21",
   "metadata": {},
   "outputs": [
    {
     "name": "stdout",
     "output_type": "stream",
     "text": [
      "0        10\n",
      "1        20\n",
      "2        30\n",
      "3    apssdc\n",
      "4      45.6\n",
      "5    Python\n",
      "dtype: object\n"
     ]
    }
   ],
   "source": [
    "sd2 = pd.Series([10,20,30,'apssdc',45.6,'Python'])\n",
    "print(sd2)"
   ]
  },
  {
   "cell_type": "code",
   "execution_count": 90,
   "id": "ac03ec71",
   "metadata": {},
   "outputs": [
    {
     "data": {
      "text/plain": [
       "30"
      ]
     },
     "execution_count": 90,
     "metadata": {},
     "output_type": "execute_result"
    }
   ],
   "source": [
    "# To access the value from a series..\n",
    "sd2[2]"
   ]
  },
  {
   "cell_type": "code",
   "execution_count": 91,
   "id": "8e221423",
   "metadata": {},
   "outputs": [
    {
     "data": {
      "text/plain": [
       "Name      Aadyan\n",
       "Rno          510\n",
       "Branch       CSE\n",
       "dtype: object"
      ]
     },
     "execution_count": 91,
     "metadata": {},
     "output_type": "execute_result"
    }
   ],
   "source": [
    "sd3"
   ]
  },
  {
   "cell_type": "code",
   "execution_count": 92,
   "id": "c053a4fa",
   "metadata": {},
   "outputs": [
    {
     "data": {
      "text/plain": [
       "'Aadyan'"
      ]
     },
     "execution_count": 92,
     "metadata": {},
     "output_type": "execute_result"
    }
   ],
   "source": [
    "sd3['Name']"
   ]
  },
  {
   "cell_type": "code",
   "execution_count": 93,
   "id": "c26dc5aa",
   "metadata": {},
   "outputs": [
    {
     "data": {
      "text/plain": [
       "0      10\n",
       "2      30\n",
       "4    45.6\n",
       "dtype: object"
      ]
     },
     "execution_count": 93,
     "metadata": {},
     "output_type": "execute_result"
    }
   ],
   "source": [
    "sd2[::2] # To get the alternative rows"
   ]
  },
  {
   "cell_type": "code",
   "execution_count": 94,
   "id": "9d5c92a9",
   "metadata": {},
   "outputs": [
    {
     "data": {
      "text/plain": [
       "0    10\n",
       "1    20\n",
       "2    30\n",
       "dtype: object"
      ]
     },
     "execution_count": 94,
     "metadata": {},
     "output_type": "execute_result"
    }
   ],
   "source": [
    "sd2[:3]"
   ]
  },
  {
   "cell_type": "code",
   "execution_count": 95,
   "id": "e5c74eee",
   "metadata": {},
   "outputs": [
    {
     "data": {
      "text/plain": [
       "5    Python\n",
       "4      45.6\n",
       "3    apssdc\n",
       "2        30\n",
       "1        20\n",
       "0        10\n",
       "dtype: object"
      ]
     },
     "execution_count": 95,
     "metadata": {},
     "output_type": "execute_result"
    }
   ],
   "source": [
    "sd2[::-1]"
   ]
  },
  {
   "cell_type": "code",
   "execution_count": 96,
   "id": "942329c3",
   "metadata": {},
   "outputs": [
    {
     "data": {
      "text/plain": [
       "10"
      ]
     },
     "execution_count": 96,
     "metadata": {},
     "output_type": "execute_result"
    }
   ],
   "source": [
    "sd2[0]"
   ]
  },
  {
   "cell_type": "code",
   "execution_count": null,
   "id": "1686d8c5",
   "metadata": {},
   "outputs": [],
   "source": []
  }
 ],
 "metadata": {
  "kernelspec": {
   "display_name": "Python 3 (ipykernel)",
   "language": "python",
   "name": "python3"
  },
  "language_info": {
   "codemirror_mode": {
    "name": "ipython",
    "version": 3
   },
   "file_extension": ".py",
   "mimetype": "text/x-python",
   "name": "python",
   "nbconvert_exporter": "python",
   "pygments_lexer": "ipython3",
   "version": "3.9.12"
  }
 },
 "nbformat": 4,
 "nbformat_minor": 5
}
