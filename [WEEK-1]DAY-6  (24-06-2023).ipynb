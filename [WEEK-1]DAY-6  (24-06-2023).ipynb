{
 "cells": [
  {
   "cell_type": "markdown",
   "id": "f06dbbb4",
   "metadata": {},
   "source": [
    "### Data Structures\n",
    "\n",
    "* Data Structures are a way of organizing and storing data\n",
    "* we have 4 types of data structures in python\n",
    "    * lists\n",
    "    * Tuple\n",
    "    * Dictionary\n",
    "    * Sets"
   ]
  },
  {
   "cell_type": "markdown",
   "id": "d6ca8ee5",
   "metadata": {},
   "source": [
    "### Lists\n",
    "\n",
    "* Lists is a ordered collection of items,which contains data of similar type or different data types\n",
    "* Lists allows duplicates\n",
    "* List is mutable i.e we can able to change items inside a list after creation of list\n",
    "* list are created by using []"
   ]
  },
  {
   "cell_type": "code",
   "execution_count": 4,
   "id": "ffd4cf3e",
   "metadata": {},
   "outputs": [
    {
     "data": {
      "text/plain": [
       "list"
      ]
     },
     "execution_count": 4,
     "metadata": {},
     "output_type": "execute_result"
    }
   ],
   "source": [
    "# empty list\n",
    "l=[]\n",
    "type(l)"
   ]
  },
  {
   "cell_type": "code",
   "execution_count": 5,
   "id": "f80f54e1",
   "metadata": {},
   "outputs": [
    {
     "data": {
      "text/plain": [
       "list"
      ]
     },
     "execution_count": 5,
     "metadata": {},
     "output_type": "execute_result"
    }
   ],
   "source": [
    "l1=list()\n",
    "type(l1)"
   ]
  },
  {
   "cell_type": "code",
   "execution_count": 2,
   "id": "96998872",
   "metadata": {},
   "outputs": [
    {
     "name": "stdout",
     "output_type": "stream",
     "text": [
      "[12, 45.6, 12, 'python']\n"
     ]
    }
   ],
   "source": [
    "l=[12,45.6,12,'python'] # diff data types\n",
    "print(l)"
   ]
  },
  {
   "cell_type": "code",
   "execution_count": 4,
   "id": "3a8016de",
   "metadata": {},
   "outputs": [
    {
     "name": "stdout",
     "output_type": "stream",
     "text": [
      "<class 'list'>\n",
      "5\n",
      "90\n",
      "11\n",
      "171\n",
      "[11, 12, 13, 45, 90]\n"
     ]
    }
   ],
   "source": [
    "l=[11,12,13,45,90]\n",
    "\n",
    "print(type(l))\n",
    "print(len(l))\n",
    "print(max(l))\n",
    "print(min(l))\n",
    "print(sum(l))\n",
    "print(sorted(l))"
   ]
  },
  {
   "cell_type": "code",
   "execution_count": null,
   "id": "999f06cf",
   "metadata": {},
   "outputs": [],
   "source": [
    "## accessing and slicing"
   ]
  },
  {
   "cell_type": "code",
   "execution_count": 12,
   "id": "1d33d7e7",
   "metadata": {},
   "outputs": [
    {
     "name": "stdout",
     "output_type": "stream",
     "text": [
      "45\n",
      "45\n"
     ]
    }
   ],
   "source": [
    "### accessing elements inside list\n",
    "\n",
    "l1=[23,45,67,89,34]\n",
    "#   0  1  2  3  4     forward index of positive index\n",
    "#  -5 -4 -3 -2 -1     backward index or negative index\n",
    "\n",
    "print(l1[1])\n",
    "print(l1[-4])"
   ]
  },
  {
   "cell_type": "code",
   "execution_count": 13,
   "id": "6939fbc3",
   "metadata": {},
   "outputs": [
    {
     "data": {
      "text/plain": [
       "23"
      ]
     },
     "execution_count": 13,
     "metadata": {},
     "output_type": "execute_result"
    }
   ],
   "source": [
    "l[0]"
   ]
  },
  {
   "cell_type": "code",
   "execution_count": 14,
   "id": "d8bc0cec",
   "metadata": {},
   "outputs": [
    {
     "data": {
      "text/plain": [
       "23"
      ]
     },
     "execution_count": 14,
     "metadata": {},
     "output_type": "execute_result"
    }
   ],
   "source": [
    "l[-5]"
   ]
  },
  {
   "cell_type": "code",
   "execution_count": null,
   "id": "e8a22e3a",
   "metadata": {},
   "outputs": [],
   "source": [
    "## slicing : [start:end:step]"
   ]
  },
  {
   "cell_type": "code",
   "execution_count": 4,
   "id": "22ef4d62",
   "metadata": {},
   "outputs": [
    {
     "name": "stdout",
     "output_type": "stream",
     "text": [
      "23\n",
      "45\n",
      "67\n",
      "89\n",
      "34\n"
     ]
    }
   ],
   "source": [
    "l=[23,45,67,89,34]\n",
    "# 23,67,34\n",
    "\n",
    "for i in range(len(l)):\n",
    "    print(l[i])"
   ]
  },
  {
   "cell_type": "code",
   "execution_count": 6,
   "id": "bf658062",
   "metadata": {},
   "outputs": [
    {
     "name": "stdout",
     "output_type": "stream",
     "text": [
      "23\n",
      "67\n",
      "34\n"
     ]
    }
   ],
   "source": [
    "l=[23,45,67,89,34]\n",
    "# 23,67,34\n",
    "\n",
    "for i in range(0,len(l),2):\n",
    "    print(l[i])"
   ]
  },
  {
   "cell_type": "code",
   "execution_count": 5,
   "id": "f29013b5",
   "metadata": {},
   "outputs": [
    {
     "data": {
      "text/plain": [
       "[23, 67, 34]"
      ]
     },
     "execution_count": 5,
     "metadata": {},
     "output_type": "execute_result"
    }
   ],
   "source": [
    "l[0:5:2]"
   ]
  },
  {
   "cell_type": "code",
   "execution_count": 8,
   "id": "a16eed52",
   "metadata": {},
   "outputs": [
    {
     "data": {
      "text/plain": [
       "[23, 67, 34]"
      ]
     },
     "execution_count": 8,
     "metadata": {},
     "output_type": "execute_result"
    }
   ],
   "source": [
    "l[::2]"
   ]
  },
  {
   "cell_type": "code",
   "execution_count": 9,
   "id": "1813cab7",
   "metadata": {},
   "outputs": [
    {
     "data": {
      "text/plain": [
       "[45, 89]"
      ]
     },
     "execution_count": 9,
     "metadata": {},
     "output_type": "execute_result"
    }
   ],
   "source": [
    "# 45,89\n",
    "\n",
    "l[1:5:2] # L[1::2]"
   ]
  },
  {
   "cell_type": "code",
   "execution_count": 10,
   "id": "f06d2b67",
   "metadata": {},
   "outputs": [
    {
     "data": {
      "text/plain": [
       "[34, 89, 67, 45, 23]"
      ]
     },
     "execution_count": 10,
     "metadata": {},
     "output_type": "execute_result"
    }
   ],
   "source": [
    "l=[23,45,67,89,34]\n",
    "l[::-1]"
   ]
  },
  {
   "cell_type": "code",
   "execution_count": 13,
   "id": "57ff352c",
   "metadata": {},
   "outputs": [
    {
     "data": {
      "text/plain": [
       "[1, 2, 3, 4, 5, 6]"
      ]
     },
     "execution_count": 13,
     "metadata": {},
     "output_type": "execute_result"
    }
   ],
   "source": [
    "# concatenate list *\n",
    "\n",
    "l1=[1,2,3]\n",
    "l2=[4,5,6]\n",
    "l3=l1+l2\n",
    "l3"
   ]
  },
  {
   "cell_type": "code",
   "execution_count": 14,
   "id": "04183bd0",
   "metadata": {},
   "outputs": [
    {
     "data": {
      "text/plain": [
       "[1, 2, 3, 1, 2, 3, 1, 2, 3, 1, 2, 3]"
      ]
     },
     "execution_count": 14,
     "metadata": {},
     "output_type": "execute_result"
    }
   ],
   "source": [
    "# repetition\n",
    "\n",
    "l1*4"
   ]
  },
  {
   "cell_type": "code",
   "execution_count": 23,
   "id": "dde12571",
   "metadata": {},
   "outputs": [
    {
     "name": "stdout",
     "output_type": "stream",
     "text": [
      "[90, 8, 7, [100, 200, 300], 'python']\n",
      "90\n",
      "8\n"
     ]
    }
   ],
   "source": [
    "# nested list\n",
    "\n",
    "nl=[90,8,7,[100,200,300],'python']\n",
    "print(nl)\n",
    "print(nl[0])\n",
    "print(nl[1])"
   ]
  },
  {
   "cell_type": "code",
   "execution_count": 24,
   "id": "53728e3b",
   "metadata": {},
   "outputs": [
    {
     "name": "stdout",
     "output_type": "stream",
     "text": [
      "[100, 200, 300]\n"
     ]
    }
   ],
   "source": [
    "# accessing nested list items\n",
    "print(nl[3])"
   ]
  },
  {
   "cell_type": "code",
   "execution_count": 25,
   "id": "88466f77",
   "metadata": {},
   "outputs": [
    {
     "data": {
      "text/plain": [
       "100"
      ]
     },
     "execution_count": 25,
     "metadata": {},
     "output_type": "execute_result"
    }
   ],
   "source": [
    "nl[3][0]"
   ]
  },
  {
   "cell_type": "code",
   "execution_count": 26,
   "id": "c03b8ace",
   "metadata": {},
   "outputs": [
    {
     "data": {
      "text/plain": [
       "200"
      ]
     },
     "execution_count": 26,
     "metadata": {},
     "output_type": "execute_result"
    }
   ],
   "source": [
    "nl[3][1]"
   ]
  },
  {
   "cell_type": "code",
   "execution_count": 27,
   "id": "777f7011",
   "metadata": {},
   "outputs": [
    {
     "data": {
      "text/plain": [
       "[90, 8, 7, [100, 200, 300], 'python']"
      ]
     },
     "execution_count": 27,
     "metadata": {},
     "output_type": "execute_result"
    }
   ],
   "source": [
    "nl"
   ]
  },
  {
   "cell_type": "code",
   "execution_count": 28,
   "id": "1181e5f2",
   "metadata": {},
   "outputs": [
    {
     "data": {
      "text/plain": [
       "'python'"
      ]
     },
     "execution_count": 28,
     "metadata": {},
     "output_type": "execute_result"
    }
   ],
   "source": [
    "nl[4]"
   ]
  },
  {
   "cell_type": "code",
   "execution_count": 31,
   "id": "7f00c43f",
   "metadata": {},
   "outputs": [
    {
     "data": {
      "text/plain": [
       "[90, 8, 7, [100, 200, 300], 89]"
      ]
     },
     "execution_count": 31,
     "metadata": {},
     "output_type": "execute_result"
    }
   ],
   "source": [
    "nl[4]=89 # list is mutable\n",
    "nl"
   ]
  },
  {
   "cell_type": "code",
   "execution_count": 32,
   "id": "0065110a",
   "metadata": {},
   "outputs": [
    {
     "name": "stdout",
     "output_type": "stream",
     "text": [
      "['__add__', '__class__', '__class_getitem__', '__contains__', '__delattr__', '__delitem__', '__dir__', '__doc__', '__eq__', '__format__', '__ge__', '__getattribute__', '__getitem__', '__gt__', '__hash__', '__iadd__', '__imul__', '__init__', '__init_subclass__', '__iter__', '__le__', '__len__', '__lt__', '__mul__', '__ne__', '__new__', '__reduce__', '__reduce_ex__', '__repr__', '__reversed__', '__rmul__', '__setattr__', '__setitem__', '__sizeof__', '__str__', '__subclasshook__', 'append', 'clear', 'copy', 'count', 'extend', 'index', 'insert', 'pop', 'remove', 'reverse', 'sort'] "
     ]
    }
   ],
   "source": [
    "print(dir(list),end=\" \")"
   ]
  },
  {
   "cell_type": "code",
   "execution_count": 1,
   "id": "d7f95080",
   "metadata": {},
   "outputs": [
    {
     "ename": "IndexError",
     "evalue": "list assignment index out of range",
     "output_type": "error",
     "traceback": [
      "\u001b[1;31m---------------------------------------------------------------------------\u001b[0m",
      "\u001b[1;31mIndexError\u001b[0m                                Traceback (most recent call last)",
      "Input \u001b[1;32mIn [1]\u001b[0m, in \u001b[0;36m<cell line: 2>\u001b[1;34m()\u001b[0m\n\u001b[0;32m      1\u001b[0m l\u001b[38;5;241m=\u001b[39m[\u001b[38;5;241m1\u001b[39m,\u001b[38;5;241m2\u001b[39m,\u001b[38;5;241m3\u001b[39m,\u001b[38;5;241m4\u001b[39m,\u001b[38;5;241m5\u001b[39m]\n\u001b[1;32m----> 2\u001b[0m l[\u001b[38;5;241m5\u001b[39m]\u001b[38;5;241m=\u001b[39m\u001b[38;5;241m6\u001b[39m\n",
      "\u001b[1;31mIndexError\u001b[0m: list assignment index out of range"
     ]
    }
   ],
   "source": [
    "l=[1,2,3,4,5]\n",
    "l[5]=6"
   ]
  },
  {
   "cell_type": "code",
   "execution_count": 33,
   "id": "ff17c3e7",
   "metadata": {},
   "outputs": [
    {
     "data": {
      "text/plain": [
       "[1, 2, 3, 4, 5, 6]"
      ]
     },
     "execution_count": 33,
     "metadata": {},
     "output_type": "execute_result"
    }
   ],
   "source": [
    "l=[1,2,3,4,5]\n",
    "l.append(6) # end of a list\n",
    "l"
   ]
  },
  {
   "cell_type": "code",
   "execution_count": 36,
   "id": "0fd8d7dd",
   "metadata": {},
   "outputs": [
    {
     "name": "stdout",
     "output_type": "stream",
     "text": [
      "no of elements: 4\n",
      "78\n",
      "89\n",
      "56\n",
      "34\n",
      "[78, 89, 56, 34]\n"
     ]
    }
   ],
   "source": [
    "# take input list from a user\n",
    "\n",
    "l=[]\n",
    "n=int(input(\"no of elements: \"))\n",
    "\n",
    "for i in range(0,n):\n",
    "    e=int(input())\n",
    "    l.append(e)\n",
    "print(l)"
   ]
  },
  {
   "cell_type": "code",
   "execution_count": 37,
   "id": "0749b62b",
   "metadata": {},
   "outputs": [
    {
     "name": "stdout",
     "output_type": "stream",
     "text": [
      "[1, 2, 3, 4, 5, 10, 20, 30]\n",
      "[10, 20, 30]\n"
     ]
    }
   ],
   "source": [
    "# extend\n",
    "l=[1,2,3,4,5]\n",
    "l2=[10,20,30]\n",
    "l.extend(l2)\n",
    "print(l)\n",
    "print(l2)"
   ]
  },
  {
   "cell_type": "code",
   "execution_count": 38,
   "id": "d0bbe1f5",
   "metadata": {},
   "outputs": [
    {
     "name": "stdout",
     "output_type": "stream",
     "text": [
      "[1, 2, 3, 4, 5, [10, 20, 30]]\n",
      "[10, 20, 30]\n"
     ]
    }
   ],
   "source": [
    "# extend\n",
    "l=[1,2,3,4,5]\n",
    "l2=[10,20,30]\n",
    "l.append(l2)\n",
    "print(l)\n",
    "print(l2)"
   ]
  },
  {
   "cell_type": "code",
   "execution_count": 39,
   "id": "b948d658",
   "metadata": {},
   "outputs": [
    {
     "data": {
      "text/plain": [
       "[1, 2, 3, 4, 5, [10, 20, 30]]"
      ]
     },
     "execution_count": 39,
     "metadata": {},
     "output_type": "execute_result"
    }
   ],
   "source": [
    "l"
   ]
  },
  {
   "cell_type": "code",
   "execution_count": 40,
   "id": "e692a607",
   "metadata": {},
   "outputs": [
    {
     "name": "stdout",
     "output_type": "stream",
     "text": [
      "[10, 20, 30, 100, 40]\n"
     ]
    }
   ],
   "source": [
    "# 100\n",
    "\n",
    "l1=[10,20,30,40]\n",
    "\n",
    "l1.insert(3,100) # index,element\n",
    "print(l1)"
   ]
  },
  {
   "cell_type": "code",
   "execution_count": 41,
   "id": "db66d52d",
   "metadata": {},
   "outputs": [
    {
     "data": {
      "text/plain": [
       "[10, 20, 30, 100, 40, 90, 30, 56]"
      ]
     },
     "execution_count": 41,
     "metadata": {},
     "output_type": "execute_result"
    }
   ],
   "source": [
    "l1.extend([90,30,56])\n",
    "l1"
   ]
  },
  {
   "cell_type": "code",
   "execution_count": 42,
   "id": "524d757d",
   "metadata": {},
   "outputs": [
    {
     "data": {
      "text/plain": [
       "2"
      ]
     },
     "execution_count": 42,
     "metadata": {},
     "output_type": "execute_result"
    }
   ],
   "source": [
    "l1.count(30)"
   ]
  },
  {
   "cell_type": "code",
   "execution_count": 43,
   "id": "1c56c48f",
   "metadata": {},
   "outputs": [
    {
     "data": {
      "text/plain": [
       "5"
      ]
     },
     "execution_count": 43,
     "metadata": {},
     "output_type": "execute_result"
    }
   ],
   "source": [
    "l1.index(90) # index of a element inside a list"
   ]
  },
  {
   "cell_type": "code",
   "execution_count": 44,
   "id": "bd153ed0",
   "metadata": {},
   "outputs": [],
   "source": [
    "l1.remove(100) # element value"
   ]
  },
  {
   "cell_type": "code",
   "execution_count": 45,
   "id": "1e7b1a64",
   "metadata": {},
   "outputs": [
    {
     "data": {
      "text/plain": [
       "[10, 20, 30, 40, 90, 30, 56]"
      ]
     },
     "execution_count": 45,
     "metadata": {},
     "output_type": "execute_result"
    }
   ],
   "source": [
    "l1"
   ]
  },
  {
   "cell_type": "code",
   "execution_count": 46,
   "id": "644074ce",
   "metadata": {},
   "outputs": [
    {
     "data": {
      "text/plain": [
       "[20, 30, 40, 90, 30, 56]"
      ]
     },
     "execution_count": 46,
     "metadata": {},
     "output_type": "execute_result"
    }
   ],
   "source": [
    "l1.pop(0) # index\n",
    "l1"
   ]
  },
  {
   "cell_type": "code",
   "execution_count": 48,
   "id": "33035ceb",
   "metadata": {},
   "outputs": [
    {
     "name": "stdout",
     "output_type": "stream",
     "text": [
      "[5, 4, 3, 2, 12]\n",
      "[5, 4, 3, 2, 12]\n"
     ]
    }
   ],
   "source": [
    "l=[12,2,3,4,5]\n",
    "l.reverse()\n",
    "print(l)\n",
    "l=[12,2,3,4,5]\n",
    "print(l[::-1])"
   ]
  },
  {
   "cell_type": "code",
   "execution_count": 49,
   "id": "bf3e1433",
   "metadata": {},
   "outputs": [
    {
     "name": "stdout",
     "output_type": "stream",
     "text": [
      "increasing order:  [2, 3, 4, 5, 12, 23, 45]\n",
      "Decreasing order:  [45, 23, 12, 5, 4, 3, 2]\n"
     ]
    }
   ],
   "source": [
    "l=[12,2,3,45,23,4,5]\n",
    "l.sort()\n",
    "print(\"increasing order: \",l)\n",
    "l.sort(reverse=True)\n",
    "print(\"Decreasing order: \",l)"
   ]
  },
  {
   "cell_type": "code",
   "execution_count": 50,
   "id": "553d0445",
   "metadata": {},
   "outputs": [
    {
     "name": "stdout",
     "output_type": "stream",
     "text": [
      "True\n"
     ]
    }
   ],
   "source": [
    "l=[12,2,3,45,23,4,5]\n",
    "print(4 in l)"
   ]
  },
  {
   "cell_type": "code",
   "execution_count": 51,
   "id": "755bc937",
   "metadata": {},
   "outputs": [
    {
     "name": "stdout",
     "output_type": "stream",
     "text": [
      "False\n"
     ]
    }
   ],
   "source": [
    "print(98 in l)"
   ]
  },
  {
   "cell_type": "code",
   "execution_count": 54,
   "id": "9e1391fb",
   "metadata": {},
   "outputs": [
    {
     "name": "stdout",
     "output_type": "stream",
     "text": [
      "[1, 2, 3]\n",
      "[1, 2, 3]\n",
      "[1, 2, 3, 4]\n",
      "[1, 2, 3, 4]\n"
     ]
    }
   ],
   "source": [
    "# assignment\n",
    "l=[1,2,3]\n",
    "al=l\n",
    "print(l)\n",
    "print(al)\n",
    "al.append(4)\n",
    "print(l)\n",
    "print(al)"
   ]
  },
  {
   "cell_type": "code",
   "execution_count": 56,
   "id": "6758c5f2",
   "metadata": {},
   "outputs": [
    {
     "name": "stdout",
     "output_type": "stream",
     "text": [
      "[1, 2, 3]\n",
      "[1, 2, 3]\n",
      "[1, 2, 3]\n",
      "[1, 2, 3, 4]\n"
     ]
    }
   ],
   "source": [
    "# copy\n",
    "l=[1,2,3]\n",
    "al=l.copy()\n",
    "print(l)\n",
    "print(al)\n",
    "al.append(4)\n",
    "print(l)\n",
    "print(al)"
   ]
  },
  {
   "cell_type": "code",
   "execution_count": 57,
   "id": "a8ab348e",
   "metadata": {},
   "outputs": [],
   "source": [
    "l.clear()"
   ]
  },
  {
   "cell_type": "code",
   "execution_count": 58,
   "id": "9840172d",
   "metadata": {},
   "outputs": [
    {
     "data": {
      "text/plain": [
       "[]"
      ]
     },
     "execution_count": 58,
     "metadata": {},
     "output_type": "execute_result"
    }
   ],
   "source": [
    "l"
   ]
  },
  {
   "cell_type": "code",
   "execution_count": 59,
   "id": "eb6935f2",
   "metadata": {},
   "outputs": [],
   "source": [
    "del l"
   ]
  },
  {
   "cell_type": "code",
   "execution_count": 60,
   "id": "e3f80a9a",
   "metadata": {},
   "outputs": [
    {
     "ename": "NameError",
     "evalue": "name 'l' is not defined",
     "output_type": "error",
     "traceback": [
      "\u001b[1;31m---------------------------------------------------------------------------\u001b[0m",
      "\u001b[1;31mNameError\u001b[0m                                 Traceback (most recent call last)",
      "Input \u001b[1;32mIn [60]\u001b[0m, in \u001b[0;36m<cell line: 1>\u001b[1;34m()\u001b[0m\n\u001b[1;32m----> 1\u001b[0m \u001b[43ml\u001b[49m\n",
      "\u001b[1;31mNameError\u001b[0m: name 'l' is not defined"
     ]
    }
   ],
   "source": [
    "l"
   ]
  },
  {
   "cell_type": "code",
   "execution_count": null,
   "id": "5e2eddf0",
   "metadata": {},
   "outputs": [],
   "source": [
    "## unique elements\n",
    "\n",
    "l=[10,76,98,56,10,3,78]\n",
    "# [98,56,3]"
   ]
  },
  {
   "cell_type": "code",
   "execution_count": 2,
   "id": "3d5b82ca",
   "metadata": {},
   "outputs": [
    {
     "data": {
      "text/plain": [
       "[10, 78, 10, 78]"
      ]
     },
     "execution_count": 2,
     "metadata": {},
     "output_type": "execute_result"
    }
   ],
   "source": [
    "# to print duplicate from a lit\n",
    "\n",
    "l=[10,78,98,56,10,3,78]\n",
    "nl=[]\n",
    "for i in l:\n",
    "    if l.count(i)==2:\n",
    "        nl.append(i)\n",
    "nl"
   ]
  },
  {
   "cell_type": "code",
   "execution_count": 3,
   "id": "11eedfa1",
   "metadata": {},
   "outputs": [
    {
     "name": "stdout",
     "output_type": "stream",
     "text": [
      "[98, 56, 10, 3, 78]\n"
     ]
    }
   ],
   "source": [
    "# to remove duplicates from a lit\n",
    "\n",
    "l1=[10,78,98,56,10,3,78]\n",
    "\n",
    "for i in l1:\n",
    "    if l1.count(i)==2:\n",
    "        l1.remove(i)\n",
    "print(l1)"
   ]
  },
  {
   "cell_type": "code",
   "execution_count": 5,
   "id": "2d7e53de",
   "metadata": {},
   "outputs": [
    {
     "name": "stdout",
     "output_type": "stream",
     "text": [
      "[98, 56, 3]\n"
     ]
    }
   ],
   "source": [
    "# to print unique elements\n",
    "\n",
    "l1=[10,78,98,56,10,3,78]\n",
    "l2=[]\n",
    "for i in l:\n",
    "    if l.count(i)==1:\n",
    "        l2.append(i)\n",
    "print(l2)"
   ]
  },
  {
   "cell_type": "code",
   "execution_count": null,
   "id": "a2315f6f",
   "metadata": {},
   "outputs": [],
   "source": []
  }
 ],
 "metadata": {
  "kernelspec": {
   "display_name": "Python 3 (ipykernel)",
   "language": "python",
   "name": "python3"
  },
  "language_info": {
   "codemirror_mode": {
    "name": "ipython",
    "version": 3
   },
   "file_extension": ".py",
   "mimetype": "text/x-python",
   "name": "python",
   "nbconvert_exporter": "python",
   "pygments_lexer": "ipython3",
   "version": "3.9.12"
  }
 },
 "nbformat": 4,
 "nbformat_minor": 5
}
