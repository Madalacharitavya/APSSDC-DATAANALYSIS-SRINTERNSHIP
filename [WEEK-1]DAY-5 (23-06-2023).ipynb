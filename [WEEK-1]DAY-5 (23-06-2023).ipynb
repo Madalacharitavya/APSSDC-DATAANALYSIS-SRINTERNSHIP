{
 "cells": [
  {
   "cell_type": "markdown",
   "id": "6ae52a96",
   "metadata": {},
   "source": [
    "### String:\n",
    "\n",
    "       - It is collection of charcters.\n",
    "       - It is a character array.\n",
    "       - string index starts from 0 to size-1.\n",
    "       - string is immutable(we can't changable).\n",
    "       - By using double quotes, single quotes and tripple quotes we can denote the string."
   ]
  },
  {
   "cell_type": "code",
   "execution_count": 1,
   "id": "b056d045",
   "metadata": {},
   "outputs": [
    {
     "name": "stdout",
     "output_type": "stream",
     "text": [
      "python programming\n",
      "<class 'str'>\n"
     ]
    }
   ],
   "source": [
    "#string Initialization...\n",
    "s1 = 'python programming'\n",
    "print(s1)\n",
    "print(type(s1))"
   ]
  },
  {
   "cell_type": "code",
   "execution_count": 2,
   "id": "b73e9950",
   "metadata": {},
   "outputs": [
    {
     "name": "stdout",
     "output_type": "stream",
     "text": [
      "Data Analysis internship\n",
      "<class 'str'>\n"
     ]
    }
   ],
   "source": [
    "s2 =\"Data Analysis internship\"\n",
    "print(s2)\n",
    "print(type(s2))"
   ]
  },
  {
   "cell_type": "code",
   "execution_count": 3,
   "id": "4de4ab24",
   "metadata": {},
   "outputs": [
    {
     "name": "stdout",
     "output_type": "stream",
     "text": [
      "python programming\n",
      "java programming\n",
      "Data Analysis\n",
      "SRM College Students\n",
      "<class 'str'>\n"
     ]
    }
   ],
   "source": [
    "s3 ='''python programming\n",
    "java programming\n",
    "Data Analysis\n",
    "SRM College Students'''\n",
    "print(s3)\n",
    "print(type(s3))"
   ]
  },
  {
   "cell_type": "code",
   "execution_count": 4,
   "id": "30775036",
   "metadata": {},
   "outputs": [
    {
     "name": "stdout",
     "output_type": "stream",
     "text": [
      "enter s string: python\n",
      "Enter p string: programming\n",
      "pythonprogramming\n",
      "python programming\n"
     ]
    }
   ],
   "source": [
    "# string join..\n",
    "s = input(\"enter s string: \")\n",
    "p = input(\"Enter p string: \")\n",
    "print(s+p)\n",
    "print(s,p)"
   ]
  },
  {
   "cell_type": "code",
   "execution_count": 5,
   "id": "1bcbd5c6",
   "metadata": {},
   "outputs": [
    {
     "name": "stdout",
     "output_type": "stream",
     "text": [
      "pythonpythonpythonpython\n"
     ]
    }
   ],
   "source": [
    "# string repetetion.\n",
    "s = \"python\"\n",
    "print(s*4)"
   ]
  },
  {
   "cell_type": "code",
   "execution_count": 6,
   "id": "8f2a7c07",
   "metadata": {},
   "outputs": [
    {
     "name": "stdout",
     "output_type": "stream",
     "text": [
      "P y t h o n   p r o g r a m m i n g "
     ]
    }
   ],
   "source": [
    "# To print the each character using forloop..\n",
    "s='Python programming'\n",
    "for i in s:\n",
    "    print(i,end=\" \")"
   ]
  },
  {
   "cell_type": "code",
   "execution_count": 7,
   "id": "e6ceb121",
   "metadata": {},
   "outputs": [
    {
     "name": "stdout",
     "output_type": "stream",
     "text": [
      "65\n"
     ]
    }
   ],
   "source": [
    "# TO print the asccii value of a given charcter?\n",
    "print(ord('A'))"
   ]
  },
  {
   "cell_type": "code",
   "execution_count": 8,
   "id": "b5999a3e",
   "metadata": {},
   "outputs": [
    {
     "name": "stdout",
     "output_type": "stream",
     "text": [
      "A\n"
     ]
    }
   ],
   "source": [
    "# To print the character of given asccii value?\n",
    "print(chr(65))"
   ]
  },
  {
   "cell_type": "markdown",
   "id": "452c624d",
   "metadata": {},
   "source": [
    "### indexing and slicing:\n",
    "\n",
    "* indexing: - To get the single character. - Two types of indexing: - 1. Forward indexing - starts from 0 to size-1 - 2. Backward indexing - start from -1\n",
    "* ex: -6 -5 -4 -3 -2 -1 -> Backward Indexing P Y T H O N -> string 0 1 2 3 4 5 -> forward indexing\n",
    "\n",
    "* Slicing: - TO get the group of charcters. - [start:stop:step] - start value is: 0 -> - stop value is:size-1 - step value is:1\n"
   ]
  },
  {
   "cell_type": "code",
   "execution_count": 10,
   "id": "890b7bed",
   "metadata": {},
   "outputs": [
    {
     "name": "stdout",
     "output_type": "stream",
     "text": [
      "a\n",
      "D\n",
      "h\n",
      "lysis internship\n",
      "Data Analysis internship\n",
      "pihsnretni sisylanA ataD\n",
      "Dt nlssitrsi\n"
     ]
    }
   ],
   "source": [
    "# indexing and slicing:\n",
    "s1 = 'Data Analysis internship'\n",
    "print(s1[3])\n",
    "print(s1[0])\n",
    "print(s1[-3])\n",
    "print(s1[8:])\n",
    "print(s1[::])\n",
    "print(s1[::-1])\n",
    "print(s1[::2]) # TO get the alternative characters"
   ]
  },
  {
   "cell_type": "code",
   "execution_count": 4,
   "id": "864334f1",
   "metadata": {},
   "outputs": [
    {
     "name": "stdout",
     "output_type": "stream",
     "text": [
      "Enter a string: python\n",
      "python\n",
      "6\n",
      "nythop\n"
     ]
    }
   ],
   "source": [
    "# To read a string and then swap the first and last character?\n",
    "# input: s=python\n",
    "# output: nythop\n",
    "s = input(\"Enter a string: \")\n",
    "print(s)\n",
    "print(len(s))\n",
    "print(s[-1]+s[1:len(s)-1]+s[0])"
   ]
  },
  {
   "cell_type": "code",
   "execution_count": 5,
   "id": "7c0ba7a9",
   "metadata": {},
   "outputs": [
    {
     "name": "stdout",
     "output_type": "stream",
     "text": [
      "Enter a string: apssdc python@123\n",
      "a --> 97\n",
      "p --> 112\n",
      "s --> 115\n",
      "s --> 115\n",
      "d --> 100\n",
      "c --> 99\n",
      "  --> 32\n",
      "p --> 112\n",
      "y --> 121\n",
      "t --> 116\n",
      "h --> 104\n",
      "o --> 111\n",
      "n --> 110\n",
      "@ --> 64\n",
      "1 --> 49\n",
      "2 --> 50\n",
      "3 --> 51\n"
     ]
    }
   ],
   "source": [
    "# To read a string and then print ascii value of each character?\n",
    "s = input(\"Enter a string: \")\n",
    "for i in s:\n",
    "    print(i, '-->',ord(i))"
   ]
  },
  {
   "cell_type": "markdown",
   "id": "849820f2",
   "metadata": {},
   "source": [
    "### String"
   ]
  },
  {
   "cell_type": "code",
   "execution_count": 6,
   "id": "e7137d10",
   "metadata": {},
   "outputs": [
    {
     "name": "stdout",
     "output_type": "stream",
     "text": [
      "['__add__', '__class__', '__contains__', '__delattr__', '__dir__', '__doc__', '__eq__', '__format__', '__ge__', '__getattribute__', '__getitem__', '__getnewargs__', '__gt__', '__hash__', '__init__', '__init_subclass__', '__iter__', '__le__', '__len__', '__lt__', '__mod__', '__mul__', '__ne__', '__new__', '__reduce__', '__reduce_ex__', '__repr__', '__rmod__', '__rmul__', '__setattr__', '__sizeof__', '__str__', '__subclasshook__', 'capitalize', 'casefold', 'center', 'count', 'encode', 'endswith', 'expandtabs', 'find', 'format', 'format_map', 'index', 'isalnum', 'isalpha', 'isascii', 'isdecimal', 'isdigit', 'isidentifier', 'islower', 'isnumeric', 'isprintable', 'isspace', 'istitle', 'isupper', 'join', 'ljust', 'lower', 'lstrip', 'maketrans', 'partition', 'removeprefix', 'removesuffix', 'replace', 'rfind', 'rindex', 'rjust', 'rpartition', 'rsplit', 'rstrip', 'split', 'splitlines', 'startswith', 'strip', 'swapcase', 'title', 'translate', 'upper', 'zfill']\n"
     ]
    }
   ],
   "source": [
    "print(dir(str))"
   ]
  },
  {
   "cell_type": "code",
   "execution_count": 7,
   "id": "c89dcda4",
   "metadata": {},
   "outputs": [
    {
     "name": "stdout",
     "output_type": "stream",
     "text": [
      "Python programming\n",
      "python programming\n"
     ]
    }
   ],
   "source": [
    "# TO convert the first character into upper case of a string?\n",
    "s1='python programming'\n",
    "print(s1.capitalize())\n",
    "print(s1)"
   ]
  },
  {
   "cell_type": "code",
   "execution_count": 11,
   "id": "fd657d9e",
   "metadata": {},
   "outputs": [
    {
     "name": "stdout",
     "output_type": "stream",
     "text": [
      "python\n",
      "python\n"
     ]
    }
   ],
   "source": [
    "# To convert the string into lowercase?\n",
    "s='PYTHON'\n",
    "print(s.lower())\n",
    "print(s.casefold())"
   ]
  },
  {
   "cell_type": "code",
   "execution_count": 8,
   "id": "678b2663",
   "metadata": {},
   "outputs": [
    {
     "name": "stdout",
     "output_type": "stream",
     "text": [
      "APSSDC\n"
     ]
    }
   ],
   "source": [
    "# To convert the string into uppercase\n",
    "s='apssdc'\n",
    "print(s.upper())"
   ]
  },
  {
   "cell_type": "code",
   "execution_count": 9,
   "id": "01810a62",
   "metadata": {},
   "outputs": [
    {
     "name": "stdout",
     "output_type": "stream",
     "text": [
      "pYThOn prOgRAMminG\n"
     ]
    }
   ],
   "source": [
    "# To convert the string into lower case become uppercase and viceversa\n",
    "s='PytHoN PRoGramMINg'\n",
    "print(s.swapcase())"
   ]
  },
  {
   "cell_type": "code",
   "execution_count": 10,
   "id": "e3089f8d",
   "metadata": {},
   "outputs": [
    {
     "name": "stdout",
     "output_type": "stream",
     "text": [
      "Python Apssdc\n"
     ]
    }
   ],
   "source": [
    "# To convert the first character of each word into uppercase?\n",
    "s='python apssdc'\n",
    "print(s.title())"
   ]
  },
  {
   "cell_type": "code",
   "execution_count": 12,
   "id": "402f5b6f",
   "metadata": {},
   "outputs": [
    {
     "name": "stdout",
     "output_type": "stream",
     "text": [
      "python apssdc\n",
      "python apssdc\n",
      "    python apssdc\n"
     ]
    }
   ],
   "source": [
    "# TO remove the white spaces..\n",
    "s='    python apssdc'\n",
    "print(s.strip()) # both Left side space and right side space\n",
    "print(s.lstrip()) # Left side\n",
    "print(s.rstrip()) # rightside"
   ]
  },
  {
   "cell_type": "code",
   "execution_count": 13,
   "id": "c500eb89",
   "metadata": {},
   "outputs": [
    {
     "name": "stdout",
     "output_type": "stream",
     "text": [
      "Hello APAADC\n"
     ]
    }
   ],
   "source": [
    "# translate() method.\n",
    "# 83 - S ,\n",
    "d = {83:65}\n",
    "s = 'Hello APSSDC'\n",
    "print(s.translate(d))"
   ]
  },
  {
   "cell_type": "code",
   "execution_count": 12,
   "id": "6ec0ccd3",
   "metadata": {},
   "outputs": [
    {
     "name": "stdout",
     "output_type": "stream",
     "text": [
      "PyThon\n"
     ]
    }
   ],
   "source": [
    "s = 'Python'\n",
    "r = str.maketrans('t','T')\n",
    "print(s.translate(r))"
   ]
  },
  {
   "cell_type": "code",
   "execution_count": 14,
   "id": "715ffdbf",
   "metadata": {},
   "outputs": [
    {
     "name": "stdout",
     "output_type": "stream",
     "text": [
      "['Data', 'Analysis', 'using', 'python', 'programming']\n"
     ]
    }
   ],
   "source": [
    "# split():\n",
    "# Split() method is used to splits a string into a list.\n",
    "s='Data Analysis using python programming'\n",
    "print(s.split())"
   ]
  },
  {
   "cell_type": "code",
   "execution_count": 15,
   "id": "7cbd76d0",
   "metadata": {},
   "outputs": [
    {
     "name": "stdout",
     "output_type": "stream",
     "text": [
      "['apple', 'banana', 'mango', 'oranges']\n"
     ]
    }
   ],
   "source": [
    "s1='apple,banana,mango,oranges'\n",
    "print(s1.split(','))"
   ]
  },
  {
   "cell_type": "code",
   "execution_count": 14,
   "id": "8ab0987f",
   "metadata": {},
   "outputs": [
    {
     "name": "stdout",
     "output_type": "stream",
     "text": [
      "1\n"
     ]
    }
   ],
   "source": [
    "# To count the number of words of given string?\n",
    "s2=\"'Data Analysis using python programming'\"\n",
    "print(len(s.split()))"
   ]
  },
  {
   "cell_type": "code",
   "execution_count": 16,
   "id": "1e34b43a",
   "metadata": {},
   "outputs": [
    {
     "name": "stdout",
     "output_type": "stream",
     "text": [
      "DATA\n",
      "ANALYSIS\n",
      "USING\n",
      "PYTHON\n",
      "PROGRAMMING\n"
     ]
    }
   ],
   "source": [
    "# To convert the each word into uppercase?\n",
    "s2=\"Data Analysis using python programming\"\n",
    "for i in s2.split():\n",
    "    print(i.upper())"
   ]
  },
  {
   "cell_type": "code",
   "execution_count": 15,
   "id": "e8451cd0",
   "metadata": {},
   "outputs": [
    {
     "name": "stdout",
     "output_type": "stream",
     "text": [
      "2\n",
      "0\n"
     ]
    }
   ],
   "source": [
    "# To count charcter frequncey?\n",
    "s='apssdc'\n",
    "print(s.count('s'))\n",
    "print(s.count('t'))"
   ]
  },
  {
   "cell_type": "code",
   "execution_count": 16,
   "id": "caa96a65",
   "metadata": {},
   "outputs": [
    {
     "name": "stdout",
     "output_type": "stream",
     "text": [
      "4\n"
     ]
    },
    {
     "ename": "ValueError",
     "evalue": "substring not found",
     "output_type": "error",
     "traceback": [
      "\u001b[1;31m---------------------------------------------------------------------------\u001b[0m",
      "\u001b[1;31mValueError\u001b[0m                                Traceback (most recent call last)",
      "Input \u001b[1;32mIn [16]\u001b[0m, in \u001b[0;36m<cell line: 4>\u001b[1;34m()\u001b[0m\n\u001b[0;32m      2\u001b[0m s\u001b[38;5;241m=\u001b[39m\u001b[38;5;124m'\u001b[39m\u001b[38;5;124mapssdc\u001b[39m\u001b[38;5;124m'\u001b[39m\n\u001b[0;32m      3\u001b[0m \u001b[38;5;28mprint\u001b[39m(s\u001b[38;5;241m.\u001b[39mindex(\u001b[38;5;124m'\u001b[39m\u001b[38;5;124md\u001b[39m\u001b[38;5;124m'\u001b[39m))\n\u001b[1;32m----> 4\u001b[0m \u001b[38;5;28mprint\u001b[39m(\u001b[43ms\u001b[49m\u001b[38;5;241;43m.\u001b[39;49m\u001b[43mindex\u001b[49m\u001b[43m(\u001b[49m\u001b[38;5;124;43m'\u001b[39;49m\u001b[38;5;124;43mz\u001b[39;49m\u001b[38;5;124;43m'\u001b[39;49m\u001b[43m)\u001b[49m)\n",
      "\u001b[1;31mValueError\u001b[0m: substring not found"
     ]
    }
   ],
   "source": [
    "# To print the index position?\n",
    "s='apssdc'\n",
    "print(s.index('d'))\n",
    "print(s.index('z'))"
   ]
  },
  {
   "cell_type": "code",
   "execution_count": 18,
   "id": "b0e63a18",
   "metadata": {},
   "outputs": [
    {
     "name": "stdout",
     "output_type": "stream",
     "text": [
      "10 20 apssdc 23.4\n",
      "['10', '20', 'apssdc', '23.4']\n"
     ]
    }
   ],
   "source": [
    "n = list(map(str,input().split()))\n",
    "print(n)"
   ]
  },
  {
   "cell_type": "code",
   "execution_count": 17,
   "id": "f3a04649",
   "metadata": {},
   "outputs": [
    {
     "name": "stdout",
     "output_type": "stream",
     "text": [
      "Enter string: 10 20 30 apssdc 34.5\n",
      "10 20 30 apssdc 34.5\n",
      "['10', '20', '30', 'apssdc', '34.5']\n"
     ]
    }
   ],
   "source": [
    "s = input(\"Enter string: \")\n",
    "print(s)\n",
    "print(s.split())"
   ]
  },
  {
   "cell_type": "code",
   "execution_count": 4,
   "id": "3e055e94",
   "metadata": {},
   "outputs": [
    {
     "name": "stdout",
     "output_type": "stream",
     "text": [
      "Enter characters\n",
      "2\n",
      "3\n"
     ]
    }
   ],
   "source": [
    "s1='apssdc'\n",
    "ch = input(\"Enter character\")\n",
    "for i in range(0,len(s1)):\n",
    "    if s1[i]==ch:\n",
    "        print(i)\n",
    "# s1[i]-> Character of a given string\n",
    "# i -> Index position"
   ]
  },
  {
   "cell_type": "code",
   "execution_count": 6,
   "id": "646c963a",
   "metadata": {},
   "outputs": [
    {
     "name": "stdout",
     "output_type": "stream",
     "text": [
      "madhulatha\n",
      "mani\n"
     ]
    }
   ],
   "source": [
    "s1='raju madhulatha rajesh nethra mani nani'\n",
    "# Names starts with a character 'm' of given string?\n",
    "for i in s1.split():\n",
    "    if(i.startswith('m')):\n",
    "       print(i) "
   ]
  },
  {
   "cell_type": "code",
   "execution_count": 19,
   "id": "c6d648ce",
   "metadata": {},
   "outputs": [
    {
     "name": "stdout",
     "output_type": "stream",
     "text": [
      "madhulatha\n",
      "nethra\n"
     ]
    }
   ],
   "source": [
    "s1='raju madhulatha rajesh nethra mani nani aadyan'\n",
    "# names ends with a charcter 'a'.\n",
    "for i in s1.split():\n",
    "    if(i.endswith('a')):\n",
    "        print(i)"
   ]
  },
  {
   "cell_type": "code",
   "execution_count": 8,
   "id": "e905734b",
   "metadata": {},
   "outputs": [
    {
     "name": "stdout",
     "output_type": "stream",
     "text": [
      "{'p': 3, 'y': 1, 't': 1, 'h': 1, 'o': 2, 'n': 2, ' ': 2, 'r': 2, 'g': 2, 'a': 2, 'm': 2, 'i': 1, 's': 1, 'd': 1, 'c': 1}\n"
     ]
    }
   ],
   "source": [
    "# To print the each and every character frequency of a given string?\n",
    "s='python programming apsdc'\n",
    "# output: p - 3 ,y-1 , t-1\n",
    "d = {}\n",
    "for i in s:\n",
    "    d[i]=s.count(i)\n",
    "print(d)"
   ]
  },
  {
   "cell_type": "code",
   "execution_count": 7,
   "id": "c8596f93",
   "metadata": {},
   "outputs": [
    {
     "name": "stdout",
     "output_type": "stream",
     "text": [
      "apyydc\n"
     ]
    }
   ],
   "source": [
    "# replace():\n",
    "s1='apssdc'\n",
    "print(s1.replace('s','y'))"
   ]
  },
  {
   "cell_type": "code",
   "execution_count": 9,
   "id": "349bbe4a",
   "metadata": {},
   "outputs": [
    {
     "name": "stdout",
     "output_type": "stream",
     "text": [
      "pytpon\n"
     ]
    }
   ],
   "source": [
    "# translate:\n",
    "s1='python'\n",
    "res = str.maketrans('h','p')\n",
    "print(s1.translate(res))"
   ]
  },
  {
   "cell_type": "code",
   "execution_count": 11,
   "id": "3873cea8",
   "metadata": {},
   "outputs": [
    {
     "name": "stdout",
     "output_type": "stream",
     "text": [
      "101\n",
      "i\n",
      "hillo\n"
     ]
    }
   ],
   "source": [
    "# using the ascii values to translate the data..\n",
    "s1='hello'\n",
    "print(ord('e'))\n",
    "print(chr(105))\n",
    "dict1 = {101:105}\n",
    "print(s1.translate(dict1))"
   ]
  },
  {
   "cell_type": "code",
   "execution_count": 20,
   "id": "a6d8cbfe",
   "metadata": {},
   "outputs": [
    {
     "name": "stdout",
     "output_type": "stream",
     "text": [
      "a -- 2\n",
      "p -- 2\n",
      "s -- 4\n",
      "d -- 2\n",
      "c -- 2\n",
      "  -- 1\n"
     ]
    }
   ],
   "source": [
    "# Element Frequency program?\n",
    "s='apssdc apssdc'\n",
    "s1=\"\"\n",
    "for i in s:\n",
    "    if i not in s1:\n",
    "        s1 = s1+i\n",
    "for i in s1:\n",
    "    print(i,'--',s.count(i))"
   ]
  },
  {
   "cell_type": "code",
   "execution_count": null,
   "id": "9bf0fe2c",
   "metadata": {},
   "outputs": [],
   "source": []
  }
 ],
 "metadata": {
  "kernelspec": {
   "display_name": "Python 3 (ipykernel)",
   "language": "python",
   "name": "python3"
  },
  "language_info": {
   "codemirror_mode": {
    "name": "ipython",
    "version": 3
   },
   "file_extension": ".py",
   "mimetype": "text/x-python",
   "name": "python",
   "nbconvert_exporter": "python",
   "pygments_lexer": "ipython3",
   "version": "3.9.12"
  }
 },
 "nbformat": 4,
 "nbformat_minor": 5
}
