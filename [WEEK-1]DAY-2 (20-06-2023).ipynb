{
 "cells": [
  {
   "cell_type": "markdown",
   "id": "81bfb318",
   "metadata": {},
   "source": [
    "### create link to an image\n",
    "\n",
    "* download image and save with extension in same folder where we are working with folder\n",
    "\n",
    "* syntax:[image title](imagename.extension)\n",
    "\n",
    "\n",
    "[python](python.png)"
   ]
  },
  {
   "cell_type": "markdown",
   "id": "c81210ad",
   "metadata": {},
   "source": [
    "### Adding images in  markdown\n",
    "\n",
    "<img src=\"python.png\" style=\"height:100px;width:100px;\">"
   ]
  },
  {
   "cell_type": "code",
   "execution_count": 1,
   "id": "18f1bd1b",
   "metadata": {},
   "outputs": [
    {
     "data": {
      "text/plain": [
       "'MULTI\\n            LINE\\n                    COMMENTS'"
      ]
     },
     "execution_count": 1,
     "metadata": {},
     "output_type": "execute_result"
    }
   ],
   "source": [
    "### comments\n",
    "\n",
    "# single line comment\n",
    "\"\"\"MULTI\n",
    "            LINE\n",
    "                    COMMENTS\"\"\""
   ]
  },
  {
   "cell_type": "markdown",
   "id": "84c83d0a",
   "metadata": {},
   "source": [
    "## data types"
   ]
  },
  {
   "cell_type": "code",
   "execution_count": 2,
   "id": "dd0b1b2c",
   "metadata": {},
   "outputs": [
    {
     "data": {
      "text/plain": [
       "int"
      ]
     },
     "execution_count": 2,
     "metadata": {},
     "output_type": "execute_result"
    }
   ],
   "source": [
    "a=90\n",
    "type(a)"
   ]
  },
  {
   "cell_type": "code",
   "execution_count": 4,
   "id": "c72c5f60",
   "metadata": {},
   "outputs": [
    {
     "data": {
      "text/plain": [
       "float"
      ]
     },
     "execution_count": 4,
     "metadata": {},
     "output_type": "execute_result"
    }
   ],
   "source": [
    "b=90.8 #float\n",
    "type(b)"
   ]
  },
  {
   "cell_type": "code",
   "execution_count": 56,
   "id": "447e0b31",
   "metadata": {},
   "outputs": [
    {
     "data": {
      "text/plain": [
       "bool"
      ]
     },
     "execution_count": 56,
     "metadata": {},
     "output_type": "execute_result"
    }
   ],
   "source": [
    "c=True\n",
    "type(c)"
   ]
  },
  {
   "cell_type": "code",
   "execution_count": 5,
   "id": "1a381a0f",
   "metadata": {},
   "outputs": [
    {
     "data": {
      "text/plain": [
       "str"
      ]
     },
     "execution_count": 5,
     "metadata": {},
     "output_type": "execute_result"
    }
   ],
   "source": [
    "name=\"raju\"\n",
    "type(name)"
   ]
  },
  {
   "cell_type": "code",
   "execution_count": 6,
   "id": "0ddc96b6",
   "metadata": {},
   "outputs": [
    {
     "data": {
      "text/plain": [
       "complex"
      ]
     },
     "execution_count": 6,
     "metadata": {},
     "output_type": "execute_result"
    }
   ],
   "source": [
    "x=7+8j\n",
    "type(x)"
   ]
  },
  {
   "cell_type": "markdown",
   "id": "c6ecbd2f",
   "metadata": {},
   "source": [
    "### variable\n",
    "* variable can store data of different types"
   ]
  },
  {
   "cell_type": "code",
   "execution_count": null,
   "id": "ee4de1cb",
   "metadata": {},
   "outputs": [],
   "source": [
    "val =900"
   ]
  },
  {
   "cell_type": "markdown",
   "id": "01374ee2",
   "metadata": {},
   "source": [
    "### Type casting\n",
    "* converting one data type into other data type"
   ]
  },
  {
   "cell_type": "code",
   "execution_count": 7,
   "id": "04878a94",
   "metadata": {},
   "outputs": [
    {
     "name": "stdout",
     "output_type": "stream",
     "text": [
      "enter a value16\n"
     ]
    },
    {
     "data": {
      "text/plain": [
       "'16'"
      ]
     },
     "execution_count": 7,
     "metadata": {},
     "output_type": "execute_result"
    }
   ],
   "source": [
    "x=input(\"enter a value\")\n",
    "x"
   ]
  },
  {
   "cell_type": "code",
   "execution_count": 8,
   "id": "f74096ba",
   "metadata": {},
   "outputs": [
    {
     "data": {
      "text/plain": [
       "str"
      ]
     },
     "execution_count": 8,
     "metadata": {},
     "output_type": "execute_result"
    }
   ],
   "source": [
    "type(x)"
   ]
  },
  {
   "cell_type": "code",
   "execution_count": 10,
   "id": "8432dd15",
   "metadata": {},
   "outputs": [
    {
     "name": "stdout",
     "output_type": "stream",
     "text": [
      "enter a value89\n",
      "89\n",
      "<class 'int'>\n"
     ]
    }
   ],
   "source": [
    "x=input(\"enter a value\")\n",
    "y=int(x) # converting x from string data type tO int\n",
    "print(y)\n",
    "print(type(y))"
   ]
  },
  {
   "cell_type": "code",
   "execution_count": 11,
   "id": "ac5fe445",
   "metadata": {},
   "outputs": [
    {
     "name": "stdout",
     "output_type": "stream",
     "text": [
      "908\n",
      "<class 'int'>\n"
     ]
    }
   ],
   "source": [
    "# float to int\n",
    "a=908.7\n",
    "b=int(a)\n",
    "print(b)\n",
    "print(type(b))"
   ]
  },
  {
   "cell_type": "code",
   "execution_count": 12,
   "id": "0352a8ca",
   "metadata": {},
   "outputs": [
    {
     "data": {
      "text/plain": [
       "'908890'"
      ]
     },
     "execution_count": 12,
     "metadata": {},
     "output_type": "execute_result"
    }
   ],
   "source": [
    "\"908\"+\"890\" # concate"
   ]
  },
  {
   "cell_type": "code",
   "execution_count": 13,
   "id": "e0bc1b04",
   "metadata": {},
   "outputs": [
    {
     "data": {
      "text/plain": [
       "1798"
      ]
     },
     "execution_count": 13,
     "metadata": {},
     "output_type": "execute_result"
    }
   ],
   "source": [
    "908+890"
   ]
  },
  {
   "cell_type": "code",
   "execution_count": 14,
   "id": "74a4bbdc",
   "metadata": {},
   "outputs": [
    {
     "data": {
      "text/plain": [
       "'super30'"
      ]
     },
     "execution_count": 14,
     "metadata": {},
     "output_type": "execute_result"
    }
   ],
   "source": [
    "\"super\"+\"30\""
   ]
  },
  {
   "cell_type": "code",
   "execution_count": 15,
   "id": "3465ce55",
   "metadata": {},
   "outputs": [
    {
     "ename": "TypeError",
     "evalue": "can only concatenate str (not \"int\") to str",
     "output_type": "error",
     "traceback": [
      "\u001b[1;31m---------------------------------------------------------------------------\u001b[0m",
      "\u001b[1;31mTypeError\u001b[0m                                 Traceback (most recent call last)",
      "Input \u001b[1;32mIn [15]\u001b[0m, in \u001b[0;36m<cell line: 1>\u001b[1;34m()\u001b[0m\n\u001b[1;32m----> 1\u001b[0m \u001b[38;5;124;43m\"\u001b[39;49m\u001b[38;5;124;43msuper\u001b[39;49m\u001b[38;5;124;43m\"\u001b[39;49m\u001b[38;5;241;43m+\u001b[39;49m\u001b[38;5;241;43m30\u001b[39;49m\n",
      "\u001b[1;31mTypeError\u001b[0m: can only concatenate str (not \"int\") to str"
     ]
    }
   ],
   "source": [
    "\"super\"+30\n"
   ]
  },
  {
   "cell_type": "markdown",
   "id": "f0841e58",
   "metadata": {},
   "source": [
    "### Operators\n",
    "\n",
    "* Arithmetic operators ( +,-,*,/,//,%)\n",
    "* Assignment operators (=,+=,-=,*=,%=,/=,//=)\n",
    "* Comparsion operators (==,<=,>=,<,>,!=)\n",
    "* Logical operators ( and , or , not)\n",
    "* Bitwise operators\n",
    "* Identity operator\n",
    "* Membership operator"
   ]
  },
  {
   "cell_type": "code",
   "execution_count": 17,
   "id": "7d07a1f1",
   "metadata": {},
   "outputs": [
    {
     "name": "stdout",
     "output_type": "stream",
     "text": [
      "10\n",
      "16\n",
      "26\n"
     ]
    }
   ],
   "source": [
    "# addition of two number using arthimetic operator\n",
    "a=int(input())\n",
    "b=int(input())\n",
    "print(a+b)"
   ]
  },
  {
   "cell_type": "markdown",
   "id": "b29b6d64",
   "metadata": {},
   "source": [
    "### Arithmetic operators(+,-,*,/,//,%)"
   ]
  },
  {
   "cell_type": "code",
   "execution_count": 57,
   "id": "016582bf",
   "metadata": {},
   "outputs": [
    {
     "name": "stdout",
     "output_type": "stream",
     "text": [
      "170\n"
     ]
    }
   ],
   "source": [
    "# addition (+)\n",
    "\n",
    "a=90\n",
    "b=80\n",
    "print(a+b)"
   ]
  },
  {
   "cell_type": "code",
   "execution_count": 18,
   "id": "762412de",
   "metadata": {},
   "outputs": [
    {
     "data": {
      "text/plain": [
       "12"
      ]
     },
     "execution_count": 18,
     "metadata": {},
     "output_type": "execute_result"
    }
   ],
   "source": [
    "a=90\n",
    "b=78\n",
    "a-b"
   ]
  },
  {
   "cell_type": "code",
   "execution_count": 19,
   "id": "a9e8cb66",
   "metadata": {},
   "outputs": [
    {
     "data": {
      "text/plain": [
       "7020"
      ]
     },
     "execution_count": 19,
     "metadata": {},
     "output_type": "execute_result"
    }
   ],
   "source": [
    "a*b"
   ]
  },
  {
   "cell_type": "code",
   "execution_count": 20,
   "id": "f6f60764",
   "metadata": {},
   "outputs": [
    {
     "data": {
      "text/plain": [
       "1.1538461538461537"
      ]
     },
     "execution_count": 20,
     "metadata": {},
     "output_type": "execute_result"
    }
   ],
   "source": [
    "a/b"
   ]
  },
  {
   "cell_type": "code",
   "execution_count": 21,
   "id": "2d1fa503",
   "metadata": {},
   "outputs": [
    {
     "data": {
      "text/plain": [
       "1"
      ]
     },
     "execution_count": 21,
     "metadata": {},
     "output_type": "execute_result"
    }
   ],
   "source": [
    "x=3\n",
    "y=2\n",
    "x%y"
   ]
  },
  {
   "cell_type": "code",
   "execution_count": 24,
   "id": "85800c8c",
   "metadata": {},
   "outputs": [
    {
     "data": {
      "text/plain": [
       "1.5"
      ]
     },
     "execution_count": 24,
     "metadata": {},
     "output_type": "execute_result"
    }
   ],
   "source": [
    "x/y"
   ]
  },
  {
   "cell_type": "code",
   "execution_count": 25,
   "id": "45ea23b5",
   "metadata": {},
   "outputs": [
    {
     "data": {
      "text/plain": [
       "1"
      ]
     },
     "execution_count": 25,
     "metadata": {},
     "output_type": "execute_result"
    }
   ],
   "source": [
    "x//y"
   ]
  },
  {
   "cell_type": "code",
   "execution_count": 23,
   "id": "6ede9319",
   "metadata": {},
   "outputs": [
    {
     "data": {
      "text/plain": [
       "9"
      ]
     },
     "execution_count": 23,
     "metadata": {},
     "output_type": "execute_result"
    }
   ],
   "source": [
    "x**y"
   ]
  },
  {
   "cell_type": "markdown",
   "id": "f413cd9d",
   "metadata": {},
   "source": [
    "### Logical operators -> and,or,,not\n",
    "\n",
    "* and returns True if both statements are true otherwise false\n",
    "* or returns True if one of the statement is true ex : x<5 or x<10\n",
    "* not"
   ]
  },
  {
   "cell_type": "code",
   "execution_count": 26,
   "id": "339da47f",
   "metadata": {},
   "outputs": [
    {
     "data": {
      "text/plain": [
       "True"
      ]
     },
     "execution_count": 26,
     "metadata": {},
     "output_type": "execute_result"
    }
   ],
   "source": [
    "# and\n",
    "\n",
    "a=8\n",
    "a<90 and a>6"
   ]
  },
  {
   "cell_type": "code",
   "execution_count": 27,
   "id": "918b38d9",
   "metadata": {},
   "outputs": [
    {
     "data": {
      "text/plain": [
       "False"
      ]
     },
     "execution_count": 27,
     "metadata": {},
     "output_type": "execute_result"
    }
   ],
   "source": [
    "a<90 and a>10 # true and false\n"
   ]
  },
  {
   "cell_type": "code",
   "execution_count": 28,
   "id": "6e0e3c55",
   "metadata": {},
   "outputs": [
    {
     "data": {
      "text/plain": [
       "True"
      ]
     },
     "execution_count": 28,
     "metadata": {},
     "output_type": "execute_result"
    }
   ],
   "source": [
    "# or\n",
    "a<78 or a>90"
   ]
  },
  {
   "cell_type": "code",
   "execution_count": 29,
   "id": "6716a8d1",
   "metadata": {},
   "outputs": [
    {
     "data": {
      "text/plain": [
       "False"
      ]
     },
     "execution_count": 29,
     "metadata": {},
     "output_type": "execute_result"
    }
   ],
   "source": [
    "a>80 and a<5"
   ]
  },
  {
   "cell_type": "code",
   "execution_count": 30,
   "id": "e8f522ed",
   "metadata": {},
   "outputs": [
    {
     "data": {
      "text/plain": [
       "True"
      ]
     },
     "execution_count": 30,
     "metadata": {},
     "output_type": "execute_result"
    }
   ],
   "source": [
    "# not\n",
    "\n",
    "b=90\n",
    "b>80"
   ]
  },
  {
   "cell_type": "code",
   "execution_count": 31,
   "id": "6d3149da",
   "metadata": {},
   "outputs": [
    {
     "data": {
      "text/plain": [
       "False"
      ]
     },
     "execution_count": 31,
     "metadata": {},
     "output_type": "execute_result"
    }
   ],
   "source": [
    "not(b>80)"
   ]
  },
  {
   "cell_type": "markdown",
   "id": "7f4d2c7f",
   "metadata": {},
   "source": [
    "### comparsion operators(>,<,>=,<=,==,!=)"
   ]
  },
  {
   "cell_type": "code",
   "execution_count": 32,
   "id": "f69ef08a",
   "metadata": {},
   "outputs": [
    {
     "data": {
      "text/plain": [
       "True"
      ]
     },
     "execution_count": 32,
     "metadata": {},
     "output_type": "execute_result"
    }
   ],
   "source": [
    "x=90\n",
    "y=89\n",
    "x>y"
   ]
  },
  {
   "cell_type": "code",
   "execution_count": 33,
   "id": "39a23e0c",
   "metadata": {},
   "outputs": [
    {
     "data": {
      "text/plain": [
       "False"
      ]
     },
     "execution_count": 33,
     "metadata": {},
     "output_type": "execute_result"
    }
   ],
   "source": [
    "x<y"
   ]
  },
  {
   "cell_type": "code",
   "execution_count": 34,
   "id": "824eff8c",
   "metadata": {},
   "outputs": [
    {
     "data": {
      "text/plain": [
       "True"
      ]
     },
     "execution_count": 34,
     "metadata": {},
     "output_type": "execute_result"
    }
   ],
   "source": [
    "x=90\n",
    "y=90\n",
    "\n",
    "x>=y"
   ]
  },
  {
   "cell_type": "code",
   "execution_count": 35,
   "id": "d8790144",
   "metadata": {},
   "outputs": [
    {
     "data": {
      "text/plain": [
       "True"
      ]
     },
     "execution_count": 35,
     "metadata": {},
     "output_type": "execute_result"
    }
   ],
   "source": [
    "x<=y"
   ]
  },
  {
   "cell_type": "code",
   "execution_count": 36,
   "id": "ddcb8e3f",
   "metadata": {},
   "outputs": [
    {
     "data": {
      "text/plain": [
       "True"
      ]
     },
     "execution_count": 36,
     "metadata": {},
     "output_type": "execute_result"
    }
   ],
   "source": [
    "x==y"
   ]
  },
  {
   "cell_type": "code",
   "execution_count": 37,
   "id": "49e425b0",
   "metadata": {},
   "outputs": [
    {
     "data": {
      "text/plain": [
       "False"
      ]
     },
     "execution_count": 37,
     "metadata": {},
     "output_type": "execute_result"
    }
   ],
   "source": [
    "x!=y"
   ]
  },
  {
   "cell_type": "code",
   "execution_count": 39,
   "id": "3b8b75d2",
   "metadata": {},
   "outputs": [
    {
     "data": {
      "text/plain": [
       "True"
      ]
     },
     "execution_count": 39,
     "metadata": {},
     "output_type": "execute_result"
    }
   ],
   "source": [
    "x=9\n",
    "y=5\n",
    "x!=y"
   ]
  },
  {
   "cell_type": "markdown",
   "id": "d9b09f69",
   "metadata": {},
   "source": [
    "### Assignment operators +,+=,-,-=,*=,/=,%=,//=\n",
    " * used to assign values to variables"
   ]
  },
  {
   "cell_type": "code",
   "execution_count": 40,
   "id": "7dc371e0",
   "metadata": {},
   "outputs": [
    {
     "name": "stdout",
     "output_type": "stream",
     "text": [
      "89\n"
     ]
    }
   ],
   "source": [
    "x=89\n",
    "print(x)"
   ]
  },
  {
   "cell_type": "code",
   "execution_count": 43,
   "id": "e4b676a0",
   "metadata": {},
   "outputs": [
    {
     "name": "stdout",
     "output_type": "stream",
     "text": [
      "98\n"
     ]
    }
   ],
   "source": [
    "x=90\n",
    "x+=8 # x=x+8\n",
    "print(x)"
   ]
  },
  {
   "cell_type": "code",
   "execution_count": 59,
   "id": "d9f848da",
   "metadata": {},
   "outputs": [
    {
     "name": "stdout",
     "output_type": "stream",
     "text": [
      "96\n"
     ]
    }
   ],
   "source": [
    "x-=2 # x=x+8\n",
    "print(x)"
   ]
  },
  {
   "cell_type": "code",
   "execution_count": 60,
   "id": "2135425b",
   "metadata": {},
   "outputs": [
    {
     "data": {
      "text/plain": [
       "27"
      ]
     },
     "execution_count": 60,
     "metadata": {},
     "output_type": "execute_result"
    }
   ],
   "source": [
    "x=3\n",
    "x*=9 # x=x-2\n",
    "x"
   ]
  },
  {
   "cell_type": "code",
   "execution_count": 61,
   "id": "deb293a6",
   "metadata": {},
   "outputs": [
    {
     "name": "stdout",
     "output_type": "stream",
     "text": [
      "6.75\n"
     ]
    }
   ],
   "source": [
    "x/=4\n",
    "print(x)"
   ]
  },
  {
   "cell_type": "code",
   "execution_count": 62,
   "id": "0db31d4b",
   "metadata": {},
   "outputs": [
    {
     "name": "stdout",
     "output_type": "stream",
     "text": [
      "0.75\n"
     ]
    }
   ],
   "source": [
    "x%=2\n",
    "print(x)"
   ]
  },
  {
   "cell_type": "code",
   "execution_count": 63,
   "id": "717660c7",
   "metadata": {},
   "outputs": [
    {
     "name": "stdout",
     "output_type": "stream",
     "text": [
      "2\n"
     ]
    }
   ],
   "source": [
    "x=8\n",
    "x//=3\n",
    "print(x)"
   ]
  },
  {
   "cell_type": "markdown",
   "id": "c31cece6",
   "metadata": {},
   "source": [
    "### Bitwise operators &,|,<<,>>,~\n",
    "\n",
    "* Bitwise AND\n",
    "* Bitwise or\n",
    "* Bitwise leftshift\n",
    "* Bitwise rightshift\n",
    "* Bitwise not"
   ]
  },
  {
   "cell_type": "code",
   "execution_count": 49,
   "id": "1b0ba913",
   "metadata": {},
   "outputs": [
    {
     "data": {
      "text/plain": [
       "2"
      ]
     },
     "execution_count": 49,
     "metadata": {},
     "output_type": "execute_result"
    }
   ],
   "source": [
    "a=2 # 2 -> 0010\n",
    "b=3 # 3 -> 0011\n",
    "\n",
    "a&b #      0010 -> 2"
   ]
  },
  {
   "cell_type": "code",
   "execution_count": 50,
   "id": "ce8bf9ee",
   "metadata": {},
   "outputs": [
    {
     "data": {
      "text/plain": [
       "5"
      ]
     },
     "execution_count": 50,
     "metadata": {},
     "output_type": "execute_result"
    }
   ],
   "source": [
    "c=4 # 4 -> 0100\n",
    "d=5 # 5 -> 0101\n",
    "\n",
    "c|d #      0101 -> 5"
   ]
  },
  {
   "cell_type": "code",
   "execution_count": 51,
   "id": "deb5cb3f",
   "metadata": {},
   "outputs": [
    {
     "data": {
      "text/plain": [
       "'0b10'"
      ]
     },
     "execution_count": 51,
     "metadata": {},
     "output_type": "execute_result"
    }
   ],
   "source": [
    "bin(2)"
   ]
  },
  {
   "cell_type": "code",
   "execution_count": 53,
   "id": "6d3d0355",
   "metadata": {},
   "outputs": [
    {
     "data": {
      "text/plain": [
       "40"
      ]
     },
     "execution_count": 53,
     "metadata": {},
     "output_type": "execute_result"
    }
   ],
   "source": [
    "## Left shift\n",
    "\n",
    "# 10 -> 1010\n",
    "\n",
    "10<<2 # 101000  -> 40"
   ]
  },
  {
   "cell_type": "code",
   "execution_count": 54,
   "id": "413ebd36",
   "metadata": {},
   "outputs": [
    {
     "data": {
      "text/plain": [
       "2"
      ]
     },
     "execution_count": 54,
     "metadata": {},
     "output_type": "execute_result"
    }
   ],
   "source": [
    "# right shift\n",
    "\n",
    "# 10 -> 1010\n",
    "\n",
    "10>>2 # 10 ->2"
   ]
  },
  {
   "cell_type": "code",
   "execution_count": 55,
   "id": "b2b471c0",
   "metadata": {},
   "outputs": [
    {
     "data": {
      "text/plain": [
       "-10"
      ]
     },
     "execution_count": 55,
     "metadata": {},
     "output_type": "execute_result"
    }
   ],
   "source": [
    "##tild (~) -(n+1)\n",
    "\n",
    "c=9\n",
    "~c # -(9+1)"
   ]
  },
  {
   "cell_type": "code",
   "execution_count": null,
   "id": "bb0db72a",
   "metadata": {},
   "outputs": [],
   "source": []
  }
 ],
 "metadata": {
  "kernelspec": {
   "display_name": "Python 3 (ipykernel)",
   "language": "python",
   "name": "python3"
  },
  "language_info": {
   "codemirror_mode": {
    "name": "ipython",
    "version": 3
   },
   "file_extension": ".py",
   "mimetype": "text/x-python",
   "name": "python",
   "nbconvert_exporter": "python",
   "pygments_lexer": "ipython3",
   "version": "3.9.12"
  }
 },
 "nbformat": 4,
 "nbformat_minor": 5
}
