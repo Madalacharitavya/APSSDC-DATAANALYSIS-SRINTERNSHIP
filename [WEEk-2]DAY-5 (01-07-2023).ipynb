{
 "cells": [
  {
   "cell_type": "markdown",
   "id": "a1f8c608",
   "metadata": {},
   "source": [
    "#### Iterators and Generators:\n",
    "- Iterators:\n",
    "- 1. Iterator in python is simply an object that can be iterated upon.\n",
    "- 2. It is same as for loop, But difference is we can access the elements as per our requirements.\n",
    "- 3. Iterator have two methods:\n",
    "     - 1. Iter() -> It is used to create iterator object.\n",
    "     - 2. next() -> It return one element at a time, Iterate through all the items of iterator."
   ]
  },
  {
   "cell_type": "code",
   "execution_count": 1,
   "id": "038883ba",
   "metadata": {},
   "outputs": [
    {
     "name": "stdout",
     "output_type": "stream",
     "text": [
      "1 2 3 4 5 6 7 8 9 10 "
     ]
    }
   ],
   "source": [
    "# uisng for loop to print the 1 to 10 natural numbers..\n",
    "for i in range(1,11):\n",
    "    print(i,end=\" \")"
   ]
  },
  {
   "cell_type": "code",
   "execution_count": 10,
   "id": "e7567b50",
   "metadata": {},
   "outputs": [
    {
     "name": "stdout",
     "output_type": "stream",
     "text": [
      "10 20 30 40 50 <list_iterator object at 0x0000026F76B32970>\n",
      "10\n",
      "20\n",
      "30\n",
      "40\n",
      "50\n"
     ]
    },
    {
     "ename": "StopIteration",
     "evalue": "",
     "output_type": "error",
     "traceback": [
      "\u001b[1;31m---------------------------------------------------------------------------\u001b[0m",
      "\u001b[1;31mStopIteration\u001b[0m                             Traceback (most recent call last)",
      "Input \u001b[1;32mIn [10]\u001b[0m, in \u001b[0;36m<cell line: 13>\u001b[1;34m()\u001b[0m\n\u001b[0;32m     11\u001b[0m \u001b[38;5;28mprint\u001b[39m(\u001b[38;5;28mnext\u001b[39m(I1))\n\u001b[0;32m     12\u001b[0m \u001b[38;5;28mprint\u001b[39m(\u001b[38;5;28mnext\u001b[39m(I1))\n\u001b[1;32m---> 13\u001b[0m \u001b[38;5;28mprint\u001b[39m(\u001b[38;5;28;43mnext\u001b[39;49m\u001b[43m(\u001b[49m\u001b[43mI1\u001b[49m\u001b[43m)\u001b[49m)\n",
      "\u001b[1;31mStopIteration\u001b[0m: "
     ]
    }
   ],
   "source": [
    "# example iterator..\n",
    "L1 = [10,20,30,40,50]\n",
    "for i in L1:\n",
    "    print(i,end=\" \")\n",
    "# using iterator..\n",
    "I1 = iter(L1) # To create the iterator object\n",
    "print(I1)\n",
    "print(next(I1))\n",
    "print(next(I1))\n",
    "print(next(I1))\n",
    "print(next(I1))\n",
    "print(next(I1))\n",
    "print(next(I1))"
   ]
  },
  {
   "cell_type": "markdown",
   "id": "37dbd278",
   "metadata": {},
   "source": [
    "### generator:\n",
    "- It returns an object, which we can iterate over\n",
    "- In Generator using 'yeild' keyword we can get the all elements.\n",
    "- In any function which contains atleast 1 yeild keyword is considered as a generator.\n",
    "- generators are always used in combination with an iterator."
   ]
  },
  {
   "cell_type": "code",
   "execution_count": 9,
   "id": "7a0338f1",
   "metadata": {},
   "outputs": [
    {
     "name": "stdout",
     "output_type": "stream",
     "text": [
      "<generator object sample at 0x0000026F76AFBA50>\n"
     ]
    },
    {
     "data": {
      "text/plain": [
       "[1, 2, 3, 4, 5]"
      ]
     },
     "execution_count": 9,
     "metadata": {},
     "output_type": "execute_result"
    }
   ],
   "source": [
    "# example on generator...\n",
    "def sample():\n",
    "    i=1\n",
    "    while(i<=5):\n",
    "        yield i\n",
    "        i = i+1\n",
    "print(sample())\n",
    "list(sample())"
   ]
  },
  {
   "cell_type": "markdown",
   "id": "a4a6b9cc",
   "metadata": {},
   "source": [
    "#### Functional programming:\n",
    "- Functional programming is programming paradigm in which we try to bind everything in pre mathematical functional style.\n",
    "\n",
    "\n",
    "- Python support functional programming."
   ]
  },
  {
   "cell_type": "markdown",
   "id": "95c15203",
   "metadata": {},
   "source": [
    "### Lambda:\n",
    "- It is anonymous function.\n",
    "- syntax: lambda arg1,arg2:expression"
   ]
  },
  {
   "cell_type": "code",
   "execution_count": 31,
   "id": "252eb956",
   "metadata": {},
   "outputs": [
    {
     "data": {
      "text/plain": [
       "300"
      ]
     },
     "execution_count": 31,
     "metadata": {},
     "output_type": "execute_result"
    }
   ],
   "source": [
    "# program to write the using normal functons.\n",
    "def add(a,b):\n",
    "    return a+b\n",
    "add(100,200)"
   ]
  },
  {
   "cell_type": "code",
   "execution_count": 32,
   "id": "e64c44f1",
   "metadata": {},
   "outputs": [
    {
     "data": {
      "text/plain": [
       "300"
      ]
     },
     "execution_count": 32,
     "metadata": {},
     "output_type": "execute_result"
    }
   ],
   "source": [
    "# program to write using lambda...\n",
    "ad = lambda n1,n2:n1+n2\n",
    "ad(100,200)"
   ]
  },
  {
   "cell_type": "code",
   "execution_count": 33,
   "id": "9ea2091b",
   "metadata": {},
   "outputs": [
    {
     "data": {
      "text/plain": [
       "function"
      ]
     },
     "execution_count": 33,
     "metadata": {},
     "output_type": "execute_result"
    }
   ],
   "source": [
    "type(ad)"
   ]
  },
  {
   "cell_type": "code",
   "execution_count": 34,
   "id": "d901eefd",
   "metadata": {},
   "outputs": [
    {
     "data": {
      "text/plain": [
       "625"
      ]
     },
     "execution_count": 34,
     "metadata": {},
     "output_type": "execute_result"
    }
   ],
   "source": [
    "# write a program to print the square of number?\n",
    "sq = lambda a:a**2\n",
    "sq(25)"
   ]
  },
  {
   "cell_type": "code",
   "execution_count": 35,
   "id": "d7a4e484",
   "metadata": {},
   "outputs": [
    {
     "data": {
      "text/plain": [
       "False"
      ]
     },
     "execution_count": 35,
     "metadata": {},
     "output_type": "execute_result"
    }
   ],
   "source": [
    "# using if else statements in lambda..\n",
    "# write the program to check the whwther the person age is eligible for \n",
    "vote = lambda a:True if(a>=18) else False\n",
    "vote(10)"
   ]
  },
  {
   "cell_type": "code",
   "execution_count": 14,
   "id": "961a7f6a",
   "metadata": {},
   "outputs": [
    {
     "data": {
      "text/plain": [
       "True"
      ]
     },
     "execution_count": 14,
     "metadata": {},
     "output_type": "execute_result"
    }
   ],
   "source": [
    "# with out using if-else:\n",
    "# To check whether the number positive number or not?\n",
    "a1 = lambda n:(n>0)\n",
    "a1(100)"
   ]
  },
  {
   "cell_type": "code",
   "execution_count": 15,
   "id": "e5397d55",
   "metadata": {},
   "outputs": [
    {
     "data": {
      "text/plain": [
       "False"
      ]
     },
     "execution_count": 15,
     "metadata": {},
     "output_type": "execute_result"
    }
   ],
   "source": [
    "a1(-20)"
   ]
  },
  {
   "cell_type": "code",
   "execution_count": 17,
   "id": "b8c3e3ad",
   "metadata": {},
   "outputs": [
    {
     "data": {
      "text/plain": [
       "50"
      ]
     },
     "execution_count": 17,
     "metadata": {},
     "output_type": "execute_result"
    }
   ],
   "source": [
    "def my_func(f, arg):\n",
    "    return f(arg)\n",
    "my_func(lambda x: 2*x*x, 5)\n",
    "# f(arg) -> Lambda x:2*x*x (5) -> 2*5*5 => 50"
   ]
  },
  {
   "cell_type": "markdown",
   "id": "1203a827",
   "metadata": {},
   "source": [
    "### Map():\n",
    "- map() function takes function and iterable as a perameters and applies functionality to each item in the iterable.\n",
    "- syntax: map(funcion,iterable)"
   ]
  },
  {
   "cell_type": "code",
   "execution_count": 18,
   "id": "52218a46",
   "metadata": {},
   "outputs": [
    {
     "name": "stdout",
     "output_type": "stream",
     "text": [
      "<map object at 0x0000026F76B32A90>\n",
      "[100, 400, 900, 1600]\n"
     ]
    }
   ],
   "source": [
    "# to print the square of number..\n",
    "def sq(n):\n",
    "    return n*n\n",
    "f = map(sq,[10,20,30,40])\n",
    "print(f)\n",
    "print(list(f))"
   ]
  },
  {
   "cell_type": "code",
   "execution_count": 19,
   "id": "0af64104",
   "metadata": {},
   "outputs": [
    {
     "data": {
      "text/plain": [
       "[100, 121, 144, 169, 196, 225]"
      ]
     },
     "execution_count": 19,
     "metadata": {},
     "output_type": "execute_result"
    }
   ],
   "source": [
    "list(map(sq,[i for i in range(10,16)]))"
   ]
  },
  {
   "cell_type": "code",
   "execution_count": 28,
   "id": "6cb5a23d",
   "metadata": {},
   "outputs": [
    {
     "name": "stdout",
     "output_type": "stream",
     "text": [
      "1\n",
      "2\n",
      "3\n",
      "[None, None, None, None, None, None, None, None, None, None, None, None, None, None, None]\n"
     ]
    }
   ],
   "source": [
    "def digit(n):\n",
    "    if n.isdigit():\n",
    "        print(n)\n",
    "#dig = lambda n:print(n) if n.isdigit()\n",
    "print(list(map(digit,'apssdc123python')))"
   ]
  },
  {
   "cell_type": "markdown",
   "id": "53f17188",
   "metadata": {},
   "source": [
    "#### Filter:\n",
    "- Filter takes a function and a sequence and return an iterable.\n",
    "- Filter ther given iterable with the of function that tests each element in the iterable whether it is true or false.\n",
    "- syntax: filter(function,iterable)"
   ]
  },
  {
   "cell_type": "code",
   "execution_count": 29,
   "id": "850201cd",
   "metadata": {},
   "outputs": [
    {
     "name": "stdout",
     "output_type": "stream",
     "text": [
      "[10, 20, 80]\n"
     ]
    }
   ],
   "source": [
    "def is_even(n):\n",
    "    if(n%2==0):\n",
    "        return True\n",
    "    else:\n",
    "        return False\n",
    "is_even(34)\n",
    "f = list(filter(is_even,[10,13,20,49,17,37,80]))\n",
    "print(f)"
   ]
  },
  {
   "cell_type": "code",
   "execution_count": 30,
   "id": "44750470",
   "metadata": {},
   "outputs": [
    {
     "name": "stdout",
     "output_type": "stream",
     "text": [
      "['1', '2', '3']\n"
     ]
    }
   ],
   "source": [
    "def digit(n):\n",
    "    if n.isdigit():\n",
    "        return True\n",
    "    else:\n",
    "        return False\n",
    "print(list(filter(digit,'apssdc123python')))"
   ]
  },
  {
   "cell_type": "code",
   "execution_count": 36,
   "id": "3f1a6c12",
   "metadata": {},
   "outputs": [
    {
     "name": "stdout",
     "output_type": "stream",
     "text": [
      "['1', '2', '3', '4']\n"
     ]
    }
   ],
   "source": [
    "def digit(k):\n",
    "    if k.isdigit():\n",
    "        return k\n",
    "\n",
    "k = filter(lambda x:x!=None,map(digit,\"asish1234\"))\n",
    "print(list(k))"
   ]
  },
  {
   "cell_type": "markdown",
   "id": "791fde4e",
   "metadata": {},
   "source": [
    "### reduce:\n",
    "- reduce(function,seq) is used to apply a particular functiona passed in its arguments to all of the list elements in the sequence.\n",
    "- first we need import functools module"
   ]
  },
  {
   "cell_type": "markdown",
   "id": "7ef7e01c",
   "metadata": {},
   "source": [
    "### working procedure:\n",
    "- The reduce(fun,seq) function is used to apply a particular function passed in its argument to all of the list elements mentioned in the sequence passed along.This function is defined in “functools” module.\n",
    "\n",
    "#### Working :\n",
    "\n",
    "- At first step, first two elements of sequence are picked and the result is obtained. Next step is to apply the same function to the previously attained result and the number just succeeding the second element and the result is again stored. This process continues till no more elements are left in the container. The final returned result is returned and printed on console."
   ]
  },
  {
   "cell_type": "code",
   "execution_count": 40,
   "id": "0ed91107",
   "metadata": {},
   "outputs": [],
   "source": [
    "import functools"
   ]
  },
  {
   "cell_type": "code",
   "execution_count": 41,
   "id": "cd67f0ab",
   "metadata": {},
   "outputs": [
    {
     "name": "stdout",
     "output_type": "stream",
     "text": [
      "10\n"
     ]
    },
    {
     "data": {
      "text/plain": [
       "'term1 = 1\\nterm2 = 2\\nterm3 = term1+term2 => 1+2 => 3\\nterm1 = term3\\nterm2 = term3+term1 => 3+3 => 6'"
      ]
     },
     "execution_count": 41,
     "metadata": {},
     "output_type": "execute_result"
    }
   ],
   "source": [
    "# To print the sum of all elements..\n",
    "L1 = [1,2,3,4]\n",
    "print(functools.reduce(lambda a,b:a+b,L1))\n",
    "\n",
    "'''term1 = 1\n",
    "term2 = 2\n",
    "term3 = term1+term2 => 1+2 => 3\n",
    "term1 = term3\n",
    "term2 = term3+term1 => 3+3 => 6'''"
   ]
  },
  {
   "cell_type": "code",
   "execution_count": 42,
   "id": "b7180e09",
   "metadata": {},
   "outputs": [
    {
     "data": {
      "text/plain": [
       "362880"
      ]
     },
     "execution_count": 42,
     "metadata": {},
     "output_type": "execute_result"
    }
   ],
   "source": [
    "functools.reduce(lambda a,b:a*b,range(1,10))"
   ]
  },
  {
   "cell_type": "code",
   "execution_count": null,
   "id": "63cb4129",
   "metadata": {},
   "outputs": [],
   "source": []
  }
 ],
 "metadata": {
  "kernelspec": {
   "display_name": "Python 3 (ipykernel)",
   "language": "python",
   "name": "python3"
  },
  "language_info": {
   "codemirror_mode": {
    "name": "ipython",
    "version": 3
   },
   "file_extension": ".py",
   "mimetype": "text/x-python",
   "name": "python",
   "nbconvert_exporter": "python",
   "pygments_lexer": "ipython3",
   "version": "3.9.12"
  }
 },
 "nbformat": 4,
 "nbformat_minor": 5
}
