{
 "cells": [
  {
   "cell_type": "markdown",
   "id": "6512ea4c",
   "metadata": {},
   "source": [
    "### Dictionary\n",
    "       - It is a collection of key value pairs.\n",
    "       - In dictionary key names are unique.\n",
    "       - By using curly brackets we can write the dictionary in python.\n",
    "       - To access the dictionary value by using only keynames.\n",
    "       - It is mutable"
   ]
  },
  {
   "cell_type": "code",
   "execution_count": 1,
   "id": "a94d5ec3",
   "metadata": {},
   "outputs": [
    {
     "name": "stdout",
     "output_type": "stream",
     "text": [
      "{}\n",
      "<class 'dict'>\n"
     ]
    }
   ],
   "source": [
    "# To create the empty dictionary.\n",
    "d1 = dict()\n",
    "print(d1)\n",
    "print(type(d1))"
   ]
  },
  {
   "cell_type": "code",
   "execution_count": 2,
   "id": "c07a9a10",
   "metadata": {},
   "outputs": [
    {
     "name": "stdout",
     "output_type": "stream",
     "text": [
      "{'Name': 'Krishna', 'Rollno': 510, 'branch': 'CSE'}\n",
      "<class 'dict'>\n"
     ]
    }
   ],
   "source": [
    "# To create the dictionary with items(Keyname,value).\n",
    "d2 = {'Name':'Krishna','Rollno':510,'branch':'CSE'}\n",
    "print(d2)\n",
    "print(type(d2))"
   ]
  },
  {
   "cell_type": "code",
   "execution_count": 3,
   "id": "53a0885c",
   "metadata": {},
   "outputs": [
    {
     "name": "stdout",
     "output_type": "stream",
     "text": [
      "{1: 110, 2: 400, 3: 678}\n"
     ]
    }
   ],
   "source": [
    "# digit keynames..\n",
    "d3 = {1:110,2:345,3:678,2:400}\n",
    "print(d3)"
   ]
  },
  {
   "cell_type": "code",
   "execution_count": 4,
   "id": "2e774fc3",
   "metadata": {},
   "outputs": [
    {
     "name": "stdout",
     "output_type": "stream",
     "text": [
      "{'a': 100, 'b': 'python', 'c': 10.45}\n"
     ]
    }
   ],
   "source": [
    "# To create a dictionary with different data types...\n",
    "d4 = {'a':100,'b':'python','c':10.45}\n",
    "print(d4)"
   ]
  },
  {
   "cell_type": "code",
   "execution_count": 8,
   "id": "de010049",
   "metadata": {},
   "outputs": [
    {
     "name": "stdout",
     "output_type": "stream",
     "text": [
      "{'Name': 'Krishna', 'Rollno': 510, 'branch': 'CSE'}\n",
      "Krishna\n"
     ]
    }
   ],
   "source": [
    "# Accessing the data through keynames...\n",
    "print(d2)\n",
    "print(d2['Name'])"
   ]
  },
  {
   "cell_type": "code",
   "execution_count": 9,
   "id": "39fdad98",
   "metadata": {},
   "outputs": [
    {
     "name": "stdout",
     "output_type": "stream",
     "text": [
      "{'Name': 'Krishna', 'Rollno': 510, 'branch': 'CSE'}\n",
      "{'Name': 'Krishna', 'Rollno': 222, 'branch': 'CSE'}\n"
     ]
    }
   ],
   "source": [
    "# update the dictionary data using keyname.\n",
    "print(d2)\n",
    "d2['Rollno']=222\n",
    "print(d2)"
   ]
  },
  {
   "cell_type": "code",
   "execution_count": 10,
   "id": "048ebaa1",
   "metadata": {},
   "outputs": [
    {
     "name": "stdout",
     "output_type": "stream",
     "text": [
      "['__class__', '__class_getitem__', '__contains__', '__delattr__', '__delitem__', '__dir__', '__doc__', '__eq__', '__format__', '__ge__', '__getattribute__', '__getitem__', '__gt__', '__hash__', '__init__', '__init_subclass__', '__ior__', '__iter__', '__le__', '__len__', '__lt__', '__ne__', '__new__', '__or__', '__reduce__', '__reduce_ex__', '__repr__', '__reversed__', '__ror__', '__setattr__', '__setitem__', '__sizeof__', '__str__', '__subclasshook__', 'clear', 'copy', 'fromkeys', 'get', 'items', 'keys', 'pop', 'popitem', 'setdefault', 'update', 'values']\n"
     ]
    }
   ],
   "source": [
    "# dictionary methods:\n",
    "print(dir(dict))"
   ]
  },
  {
   "cell_type": "code",
   "execution_count": 12,
   "id": "967f6e84",
   "metadata": {},
   "outputs": [
    {
     "name": "stdout",
     "output_type": "stream",
     "text": [
      "{1: 110, 2: 400, 3: 678}\n"
     ]
    }
   ],
   "source": [
    "print(d3)"
   ]
  },
  {
   "cell_type": "code",
   "execution_count": 14,
   "id": "fc5a5c69",
   "metadata": {},
   "outputs": [
    {
     "name": "stdout",
     "output_type": "stream",
     "text": [
      "{1: 222}\n"
     ]
    }
   ],
   "source": [
    "d1[1]=222\n",
    "print(d1)"
   ]
  },
  {
   "cell_type": "code",
   "execution_count": 17,
   "id": "7cc2a7a0",
   "metadata": {},
   "outputs": [
    {
     "name": "stdout",
     "output_type": "stream",
     "text": [
      "{1: 1, 2: 400, 3: 678}\n"
     ]
    }
   ],
   "source": [
    "d3[1]=1\n",
    "print(d3)"
   ]
  },
  {
   "cell_type": "code",
   "execution_count": 19,
   "id": "f5e21c54",
   "metadata": {},
   "outputs": [
    {
     "name": "stdout",
     "output_type": "stream",
     "text": [
      "{1: 0, 2: 400, 3: 678}\n"
     ]
    }
   ],
   "source": [
    "d3[1]=000000\n",
    "print(d3)"
   ]
  },
  {
   "cell_type": "code",
   "execution_count": 20,
   "id": "1dfa5778",
   "metadata": {},
   "outputs": [
    {
     "data": {
      "text/plain": [
       "{1: 0, 2: 400, 3: 678}"
      ]
     },
     "execution_count": 20,
     "metadata": {},
     "output_type": "execute_result"
    }
   ],
   "source": [
    "d3"
   ]
  },
  {
   "cell_type": "code",
   "execution_count": 21,
   "id": "036f8076",
   "metadata": {},
   "outputs": [
    {
     "data": {
      "text/plain": [
       "{1: 0, 2: 400, 3: 678, 4: 200}"
      ]
     },
     "execution_count": 21,
     "metadata": {},
     "output_type": "execute_result"
    }
   ],
   "source": [
    "d3[4]=200\n",
    "d3"
   ]
  },
  {
   "cell_type": "markdown",
   "id": "48780f75",
   "metadata": {},
   "source": [
    "### Dictionary Methods:"
   ]
  },
  {
   "cell_type": "code",
   "execution_count": 22,
   "id": "c2d9f725",
   "metadata": {},
   "outputs": [
    {
     "name": "stdout",
     "output_type": "stream",
     "text": [
      "['__class__', '__class_getitem__', '__contains__', '__delattr__', '__delitem__', '__dir__', '__doc__', '__eq__', '__format__', '__ge__', '__getattribute__', '__getitem__', '__gt__', '__hash__', '__init__', '__init_subclass__', '__ior__', '__iter__', '__le__', '__len__', '__lt__', '__ne__', '__new__', '__or__', '__reduce__', '__reduce_ex__', '__repr__', '__reversed__', '__ror__', '__setattr__', '__setitem__', '__sizeof__', '__str__', '__subclasshook__', 'clear', 'copy', 'fromkeys', 'get', 'items', 'keys', 'pop', 'popitem', 'setdefault', 'update', 'values']\n"
     ]
    }
   ],
   "source": [
    "print(dir(dict))"
   ]
  },
  {
   "cell_type": "code",
   "execution_count": 24,
   "id": "7a93f6f2",
   "metadata": {},
   "outputs": [
    {
     "name": "stdout",
     "output_type": "stream",
     "text": [
      "{'Name': 'Krishna', 'Rollno': 222, 'branch': 'CSE'}\n",
      "dict_keys(['Name', 'Rollno', 'branch'])\n"
     ]
    }
   ],
   "source": [
    "# keys():\n",
    "# To get the keynames from a dictionary.\n",
    "print(d2)\n",
    "print(d2.keys())"
   ]
  },
  {
   "cell_type": "code",
   "execution_count": 25,
   "id": "dc30a80a",
   "metadata": {},
   "outputs": [
    {
     "name": "stdout",
     "output_type": "stream",
     "text": [
      "dict_values(['Krishna', 222, 'CSE'])\n"
     ]
    }
   ],
   "source": [
    "# values():\n",
    "# To get the dictionary values:\n",
    "print(d2.values())"
   ]
  },
  {
   "cell_type": "code",
   "execution_count": 26,
   "id": "61bbde04",
   "metadata": {},
   "outputs": [
    {
     "name": "stdout",
     "output_type": "stream",
     "text": [
      "{'Name': 'Krishna', 'Rollno': 222, 'branch': 'CSE'}\n",
      "dict_items([('Name', 'Krishna'), ('Rollno', 222), ('branch', 'CSE')])\n"
     ]
    }
   ],
   "source": [
    "# items()\n",
    "# To get the data key value pair in the format tuple.\n",
    "print(d2)\n",
    "print(d2.items())"
   ]
  },
  {
   "cell_type": "code",
   "execution_count": 27,
   "id": "8adcb360",
   "metadata": {},
   "outputs": [
    {
     "name": "stdout",
     "output_type": "stream",
     "text": [
      "{'Name': 'Krishna', 'Rollno': 222, 'branch': 'CSE'}\n",
      "{'Name': 'Krishna', 'Rollno': 222, 'branch': 'CSE'}\n"
     ]
    }
   ],
   "source": [
    "# copy():\n",
    "# To copy the data from one dictionary to another dictionary.\n",
    "print(d2)\n",
    "d5 = d2.copy()\n",
    "print(d5)"
   ]
  },
  {
   "cell_type": "code",
   "execution_count": 28,
   "id": "279ff0c7",
   "metadata": {},
   "outputs": [
    {
     "name": "stdout",
     "output_type": "stream",
     "text": [
      "{'Name': 'Krishna', 'Rollno': 222, 'branch': 'CSE'}\n",
      "Krishna\n"
     ]
    }
   ],
   "source": [
    "# get():\n",
    "# To get the value of specific keyname.\n",
    "print(d2)\n",
    "print(d2.get('Name'))"
   ]
  },
  {
   "cell_type": "code",
   "execution_count": 30,
   "id": "b6274652",
   "metadata": {},
   "outputs": [
    {
     "name": "stdout",
     "output_type": "stream",
     "text": [
      "{'Name': 'Krishna', 'Rollno': 222, 'branch': 'CSE'}\n",
      "{'Name': 'Krishna', 'Rollno': 222, 'branch': 'CSE', 'marks': 67}\n"
     ]
    }
   ],
   "source": [
    "# setdefault():\n",
    "# To add new item to end of the dictionary.\n",
    "print(d2)\n",
    "d2.setdefault('marks',67)\n",
    "print(d2)"
   ]
  },
  {
   "cell_type": "code",
   "execution_count": 33,
   "id": "5088f056",
   "metadata": {},
   "outputs": [
    {
     "name": "stdout",
     "output_type": "stream",
     "text": [
      "{'Name': 'Krishna', 'Rollno': 222, 'branch': 'EEE', 'marks': 67}\n",
      "{'Name': 'Krishna', 'Rollno': 222, 'branch': 'EEE', 'marks': 67}\n",
      "{'Name': 'Krishna', 'Rollno': 222, 'branch': 'EEE', 'marks': 67, 'course': 'python'}\n"
     ]
    }
   ],
   "source": [
    "# update():\n",
    "# To update the any data..\n",
    "print(d2)\n",
    "d2.update({'branch':'EEE'})\n",
    "print(d2)\n",
    "d2.update({'course':'python'})\n",
    "print(d2)"
   ]
  },
  {
   "cell_type": "code",
   "execution_count": 35,
   "id": "78d9431c",
   "metadata": {},
   "outputs": [
    {
     "name": "stdout",
     "output_type": "stream",
     "text": [
      "{'Name': 'Krishna', 'Rollno': 222, 'branch': 'EEE', 'course': 'python'}\n",
      "python\n",
      "{'Name': 'Krishna', 'Rollno': 222, 'branch': 'EEE'}\n"
     ]
    }
   ],
   "source": [
    "#pop():\n",
    "#To delete an item from dictionary using keyname.\n",
    "print(d2)\n",
    "print(d2.pop('course'))\n",
    "print(d2)"
   ]
  },
  {
   "cell_type": "code",
   "execution_count": 36,
   "id": "e62c26cd",
   "metadata": {},
   "outputs": [
    {
     "name": "stdout",
     "output_type": "stream",
     "text": [
      "{'Name': 'Krishna', 'Rollno': 222, 'branch': 'EEE'}\n",
      "{'Name': 'Krishna', 'Rollno': 222}\n"
     ]
    }
   ],
   "source": [
    "#popitem()\n",
    "# To delete the last item from a dictionary.\n",
    "print(d2)\n",
    "d2.popitem()\n",
    "print(d2)"
   ]
  },
  {
   "cell_type": "code",
   "execution_count": 38,
   "id": "947d87d8",
   "metadata": {},
   "outputs": [
    {
     "name": "stdout",
     "output_type": "stream",
     "text": [
      "{'Sname': None, 'Srollno': None, 'Sbranch': None}\n",
      "{'Sname': 'Nethra', 'Srollno': None, 'Sbranch': None}\n"
     ]
    }
   ],
   "source": [
    "#fromkeys():\n",
    "# To create new dictionary with keynames..\n",
    "dict1 = dict.fromkeys(['Sname','Srollno','Sbranch'])\n",
    "print(dict1)\n",
    "dict1['Sname']='Nethra'\n",
    "print(dict1)"
   ]
  },
  {
   "cell_type": "code",
   "execution_count": 39,
   "id": "dc492e6c",
   "metadata": {},
   "outputs": [
    {
     "name": "stdout",
     "output_type": "stream",
     "text": [
      "{'Name': 'Krishna', 'Rollno': 222}\n",
      "{}\n"
     ]
    }
   ],
   "source": [
    "# Clear():\n",
    "# To clear the data from a dictionary.\n",
    "print(d2)\n",
    "d2.clear()\n",
    "print(d2)"
   ]
  },
  {
   "cell_type": "code",
   "execution_count": 42,
   "id": "a089a873",
   "metadata": {},
   "outputs": [
    {
     "name": "stdout",
     "output_type": "stream",
     "text": [
      "{1: 24, 4: 80, 5: 44}\n"
     ]
    }
   ],
   "source": [
    "d2={1:24,2:55,3:19,4:80,5:44,6:17}\n",
    "# To print the even value item..\n",
    "#output: {1:24,4:80,5:44}\n",
    "d3 = {}\n",
    "for key,value in d2.items():\n",
    "    if value%2 == 0:\n",
    "        d3[key]=value\n",
    "print(d3)"
   ]
  },
  {
   "cell_type": "code",
   "execution_count": null,
   "id": "6e33ef75",
   "metadata": {},
   "outputs": [],
   "source": [
    "# To read one string and then print the character frequency?\n",
    "# To read the list of string element and then print the length of each string?\n",
    "# input: L=['python','programming','java','sql']\n",
    "# output: d1 = {'python':6,}"
   ]
  },
  {
   "cell_type": "markdown",
   "id": "ac2cfaa9",
   "metadata": {},
   "source": [
    "### nested dictionary:\n",
    "        - Dictionary can contain dictionaries.      "
   ]
  },
  {
   "cell_type": "code",
   "execution_count": 47,
   "id": "0b361da2",
   "metadata": {},
   "outputs": [
    {
     "name": "stdout",
     "output_type": "stream",
     "text": [
      "{'btech': {'name': 'aadyan', 'rollno': 510, 'branch': 'cse'}, 'MBA': {'name': 'ganesh', 'rollno': 110, 'branch': 'business application'}}\n"
     ]
    }
   ],
   "source": [
    "# nested dictionaries with example..\n",
    "clg= {\n",
    "    'btech':{\n",
    "        'name':'aadyan',\n",
    "        'rollno':510,\n",
    "        'branch':'cse'\n",
    "        },\n",
    "    'MBA':{\n",
    "        'name':'ganesh',\n",
    "        'rollno':110,\n",
    "        'branch':'business application'\n",
    "    }\n",
    "}\n",
    "print(clg)"
   ]
  },
  {
   "cell_type": "code",
   "execution_count": 48,
   "id": "ee6f7a3e",
   "metadata": {},
   "outputs": [
    {
     "name": "stdout",
     "output_type": "stream",
     "text": [
      "aadyan\n"
     ]
    }
   ],
   "source": [
    "# To Access the data from nested dictionaries.\n",
    "print(clg['btech']['name'])"
   ]
  },
  {
   "cell_type": "code",
   "execution_count": 49,
   "id": "e2e1cef7",
   "metadata": {},
   "outputs": [
    {
     "name": "stdout",
     "output_type": "stream",
     "text": [
      "Object `program` not found.\n",
      "1 2 3 4 5 6 7 8 9 10 "
     ]
    }
   ],
   "source": [
    "4.What is the output produced by the following program?\n",
    "i=1\n",
    "while i<=10:\n",
    "    print(i,end=\" \")\n",
    "    i=i+1"
   ]
  },
  {
   "cell_type": "code",
   "execution_count": null,
   "id": "d3a210f5",
   "metadata": {},
   "outputs": [],
   "source": []
  }
 ],
 "metadata": {
  "kernelspec": {
   "display_name": "Python 3 (ipykernel)",
   "language": "python",
   "name": "python3"
  },
  "language_info": {
   "codemirror_mode": {
    "name": "ipython",
    "version": 3
   },
   "file_extension": ".py",
   "mimetype": "text/x-python",
   "name": "python",
   "nbconvert_exporter": "python",
   "pygments_lexer": "ipython3",
   "version": "3.9.12"
  }
 },
 "nbformat": 4,
 "nbformat_minor": 5
}
